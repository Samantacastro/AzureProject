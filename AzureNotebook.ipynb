{
    "metadata": {
        "kernelspec": {
            "name": "SQL",
            "display_name": "SQL",
            "language": "sql"
        },
        "language_info": {
            "name": "sql",
            "version": ""
        }
    },
    "nbformat_minor": 2,
    "nbformat": 4,
    "cells": [
        {
            "cell_type": "markdown",
            "source": [
                "# Electric Vehicle Population in Washington DC"
            ],
            "metadata": {
                "azdata_cell_guid": "0b04b50b-0850-48f2-a203-7f11e9c42bd7"
            },
            "attachments": {}
        },
        {
            "cell_type": "markdown",
            "source": [
                "<span style=\"box-sizing: inherit; padding-left: 0.5rem; font-weight: bold; color: rgb(110, 110, 110); margin-left: 8px;\">Metadata Updated:</span> <span itemprop=\"dateModified\" style=\"box-sizing: inherit; color: rgb(125, 125, 125);\"><a href=\"https://catalog.data.gov/dataset/electric-vehicle-population-data#sec-dates\" style=\"box-sizing: inherit; color: rgb(40, 74, 122); background-color: transparent;\">June 22, 2024</a></span>\n",
                "\n",
                "[This dataset](https:\\catalog.data.gov\\dataset\\electric-vehicle-population-data) shows the Battery Electric Vehicles (BEVs) and Plug-in Hybrid Electric Vehicles (PHEVs) that are currently registered through Washington State Department of Licensing (DOL)."
            ],
            "metadata": {
                "azdata_cell_guid": "8c09fdf5-d70b-4791-a8d5-c064d0e2848a"
            },
            "attachments": {}
        },
        {
            "cell_type": "markdown",
            "source": [
                "## 1. Vehicle by Year"
            ],
            "metadata": {
                "azdata_cell_guid": "517dfb92-7f21-4575-bbca-20b2836c7f4c"
            },
            "attachments": {}
        },
        {
            "cell_type": "markdown",
            "source": [
                "Quantity of Vehicle by Year from 2010 to 2025."
            ],
            "metadata": {
                "azdata_cell_guid": "2fe241d9-8f17-43a9-9ea7-d0cf10b54b01"
            },
            "attachments": {}
        },
        {
            "cell_type": "code",
            "source": [
                "SELECT ModelYear,\r\n",
                "    COUNT(*) AS [Number of Vehicles]\r\n",
                "FROM AzureProject.dbo.EVPopulationWA\r\n",
                "WHERE ModelYear > 2010\r\n",
                "GROUP BY ModelYear\r\n",
                "ORDER BY ModelYear;"
            ],
            "metadata": {
                "azdata_cell_guid": "d57c8b99-3250-451a-b249-5abf95001367",
                "language": "sql",
                "tags": []
            },
            "outputs": [
                {
                    "output_type": "display_data",
                    "data": {
                        "text/html": "(15 rows affected)"
                    },
                    "metadata": {}
                },
                {
                    "output_type": "display_data",
                    "data": {
                        "text/html": "Total execution time: 00:00:04.067"
                    },
                    "metadata": {}
                },
                {
                    "output_type": "execute_result",
                    "metadata": {
                        "azdata_chartOptions": {
                            "type": "bar",
                            "dataDirection": "horizontal",
                            "columnsAsLabels": true,
                            "labelFirstColumn": true,
                            "legendPosition": "top"
                        }
                    },
                    "execution_count": 6,
                    "data": {
                        "application/vnd.dataresource+json": {
                            "schema": {
                                "fields": [
                                    {
                                        "name": "ModelYear"
                                    },
                                    {
                                        "name": "Number of Vehicles"
                                    }
                                ]
                            },
                            "data": [
                                {
                                    "ModelYear": "2011",
                                    "Number of Vehicles": "736"
                                },
                                {
                                    "ModelYear": "2012",
                                    "Number of Vehicles": "1595"
                                },
                                {
                                    "ModelYear": "2013",
                                    "Number of Vehicles": "4363"
                                },
                                {
                                    "ModelYear": "2014",
                                    "Number of Vehicles": "3533"
                                },
                                {
                                    "ModelYear": "2015",
                                    "Number of Vehicles": "4818"
                                },
                                {
                                    "ModelYear": "2016",
                                    "Number of Vehicles": "5528"
                                },
                                {
                                    "ModelYear": "2017",
                                    "Number of Vehicles": "8650"
                                },
                                {
                                    "ModelYear": "2018",
                                    "Number of Vehicles": "14340"
                                },
                                {
                                    "ModelYear": "2019",
                                    "Number of Vehicles": "10933"
                                },
                                {
                                    "ModelYear": "2020",
                                    "Number of Vehicles": "12149"
                                },
                                {
                                    "ModelYear": "2021",
                                    "Number of Vehicles": "19531"
                                },
                                {
                                    "ModelYear": "2022",
                                    "Number of Vehicles": "28116"
                                },
                                {
                                    "ModelYear": "2023",
                                    "Number of Vehicles": "60084"
                                },
                                {
                                    "ModelYear": "2024",
                                    "Number of Vehicles": "16963"
                                },
                                {
                                    "ModelYear": "2025",
                                    "Number of Vehicles": "6"
                                }
                            ]
                        },
                        "text/html": [
                            "<table>",
                            "<tr><th>ModelYear</th><th>Number of Vehicles</th></tr>",
                            "<tr><td>2011</td><td>736</td></tr>",
                            "<tr><td>2012</td><td>1595</td></tr>",
                            "<tr><td>2013</td><td>4363</td></tr>",
                            "<tr><td>2014</td><td>3533</td></tr>",
                            "<tr><td>2015</td><td>4818</td></tr>",
                            "<tr><td>2016</td><td>5528</td></tr>",
                            "<tr><td>2017</td><td>8650</td></tr>",
                            "<tr><td>2018</td><td>14340</td></tr>",
                            "<tr><td>2019</td><td>10933</td></tr>",
                            "<tr><td>2020</td><td>12149</td></tr>",
                            "<tr><td>2021</td><td>19531</td></tr>",
                            "<tr><td>2022</td><td>28116</td></tr>",
                            "<tr><td>2023</td><td>60084</td></tr>",
                            "<tr><td>2024</td><td>16963</td></tr>",
                            "<tr><td>2025</td><td>6</td></tr>",
                            "</table>"
                        ]
                    }
                }
            ],
            "execution_count": 6
        },
        {
            "cell_type": "markdown",
            "source": [
                "## 2. Top 10 Most Popular Electric  Vehicle Models starting from 2018"
            ],
            "metadata": {
                "language": "sql",
                "azdata_cell_guid": "284aeef0-0e83-4200-bd66-b46a83184c18"
            },
            "attachments": {}
        },
        {
            "cell_type": "markdown",
            "source": [
                "This bar chart highlights the top 10 most popular electric vehicle models after 2018."
            ],
            "metadata": {
                "language": "sql",
                "azdata_cell_guid": "cadc5a76-3c63-4c0c-9a45-af9d0f0af7a9"
            },
            "attachments": {}
        },
        {
            "cell_type": "code",
            "source": [
                "SELECT Model,\r\n",
                "       COUNT(*) AS EVType\r\n",
                "FROM AzureProject.dbo.EVPopulationWA\r\n",
                "GROUP BY Model\r\n",
                "ORDER BY EVType DESC"
            ],
            "metadata": {
                "language": "sql",
                "azdata_cell_guid": "a29fb308-993b-411e-89fc-a41be4381647"
            },
            "outputs": [
                {
                    "output_type": "display_data",
                    "data": {
                        "text/html": "(147 rows affected)"
                    },
                    "metadata": {}
                },
                {
                    "output_type": "display_data",
                    "data": {
                        "text/html": "Total execution time: 00:00:00.269"
                    },
                    "metadata": {}
                },
                {
                    "output_type": "execute_result",
                    "metadata": {
                        "azdata_chartOptions": {
                            "type": "bar",
                            "dataDirection": "vertical",
                            "columnsAsLabels": true,
                            "labelFirstColumn": true,
                            "legendPosition": "bottom",
                            "encoding": "hex",
                            "imageFormat": "jpeg",
                            "dataType": "number"
                        }
                    },
                    "execution_count": 13,
                    "data": {
                        "application/vnd.dataresource+json": {
                            "schema": {
                                "fields": [
                                    {
                                        "name": "Model"
                                    },
                                    {
                                        "name": "EVType"
                                    }
                                ]
                            },
                            "data": [
                                {
                                    "Model": "MODEL Y",
                                    "EVType": "39521"
                                },
                                {
                                    "Model": "MODEL 3",
                                    "EVType": "30978"
                                },
                                {
                                    "Model": "LEAF",
                                    "EVType": "13439"
                                },
                                {
                                    "Model": "MODEL S",
                                    "EVType": "7869"
                                },
                                {
                                    "Model": "BOLT EV",
                                    "EVType": "6444"
                                },
                                {
                                    "Model": "MODEL X",
                                    "EVType": "6126"
                                },
                                {
                                    "Model": "VOLT",
                                    "EVType": "4801"
                                },
                                {
                                    "Model": "ID.4",
                                    "EVType": "4337"
                                },
                                {
                                    "Model": "MUSTANG MACH-E",
                                    "EVType": "3758"
                                },
                                {
                                    "Model": "WRANGLER",
                                    "EVType": "3743"
                                },
                                {
                                    "Model": "PACIFICA",
                                    "EVType": "3393"
                                },
                                {
                                    "Model": "NIRO",
                                    "EVType": "3358"
                                },
                                {
                                    "Model": "PRIUS PRIME",
                                    "EVType": "2985"
                                },
                                {
                                    "Model": "IONIQ 5",
                                    "EVType": "2747"
                                },
                                {
                                    "Model": "BOLT EUV",
                                    "EVType": "2650"
                                },
                                {
                                    "Model": "RAV4 PRIME",
                                    "EVType": "2596"
                                },
                                {
                                    "Model": "X5",
                                    "EVType": "2456"
                                },
                                {
                                    "Model": "R1S",
                                    "EVType": "2453"
                                },
                                {
                                    "Model": "EV6",
                                    "EVType": "2378"
                                },
                                {
                                    "Model": "F-150",
                                    "EVType": "1966"
                                },
                                {
                                    "Model": "I3",
                                    "EVType": "1925"
                                },
                                {
                                    "Model": "FUSION",
                                    "EVType": "1781"
                                },
                                {
                                    "Model": "R1T",
                                    "EVType": "1776"
                                },
                                {
                                    "Model": "XC90",
                                    "EVType": "1552"
                                },
                                {
                                    "Model": "C-MAX",
                                    "EVType": "1504"
                                },
                                {
                                    "Model": "GRAND CHEROKEE",
                                    "EVType": "1253"
                                },
                                {
                                    "Model": "I4",
                                    "EVType": "1190"
                                },
                                {
                                    "Model": "XC60",
                                    "EVType": "1187"
                                },
                                {
                                    "Model": "SPORTAGE",
                                    "EVType": "1160"
                                },
                                {
                                    "Model": "E-TRON",
                                    "EVType": "1076"
                                },
                                {
                                    "Model": "E-GOLF",
                                    "EVType": "1071"
                                },
                                {
                                    "Model": "XC40",
                                    "EVType": "1048"
                                },
                                {
                                    "Model": "PRIUS PLUG-IN",
                                    "EVType": "956"
                                },
                                {
                                    "Model": "PS2",
                                    "EVType": "939"
                                },
                                {
                                    "Model": "OUTLANDER",
                                    "EVType": "936"
                                },
                                {
                                    "Model": "IX",
                                    "EVType": "927"
                                },
                                {
                                    "Model": "SOLTERRA",
                                    "EVType": "901"
                                },
                                {
                                    "Model": "CLARITY",
                                    "EVType": "828"
                                },
                                {
                                    "Model": "KONA ELECTRIC",
                                    "EVType": "816"
                                },
                                {
                                    "Model": "ARIYA",
                                    "EVType": "800"
                                },
                                {
                                    "Model": "500",
                                    "EVType": "781"
                                },
                                {
                                    "Model": "HARDTOP",
                                    "EVType": "761"
                                },
                                {
                                    "Model": "Q5 E",
                                    "EVType": "760"
                                },
                                {
                                    "Model": "TAYCAN",
                                    "EVType": "680"
                                },
                                {
                                    "Model": "SORENTO",
                                    "EVType": "648"
                                },
                                {
                                    "Model": "HORNET",
                                    "EVType": "619"
                                },
                                {
                                    "Model": "Q4",
                                    "EVType": "618"
                                },
                                {
                                    "Model": "BZ4X",
                                    "EVType": "593"
                                },
                                {
                                    "Model": "CX-90",
                                    "EVType": "575"
                                },
                                {
                                    "Model": "A3",
                                    "EVType": "560"
                                },
                                {
                                    "Model": "EDV",
                                    "EVType": "522"
                                },
                                {
                                    "Model": "330E",
                                    "EVType": "474"
                                },
                                {
                                    "Model": "LYRIQ",
                                    "EVType": "464"
                                },
                                {
                                    "Model": "C40",
                                    "EVType": "426"
                                },
                                {
                                    "Model": "ESCAPE",
                                    "EVType": "423"
                                },
                                {
                                    "Model": "530E",
                                    "EVType": "420"
                                },
                                {
                                    "Model": "EV9",
                                    "EVType": "411"
                                },
                                {
                                    "Model": "IONIQ 6",
                                    "EVType": "401"
                                },
                                {
                                    "Model": "SOUL",
                                    "EVType": "396"
                                },
                                {
                                    "Model": "TRANSIT",
                                    "EVType": "374"
                                },
                                {
                                    "Model": "CAYENNE",
                                    "EVType": "367"
                                },
                                {
                                    "Model": "EQB-CLASS",
                                    "EVType": "354"
                                },
                                {
                                    "Model": "Q8",
                                    "EVType": "354"
                                },
                                {
                                    "Model": "EQE-CLASS SUV",
                                    "EVType": "342"
                                },
                                {
                                    "Model": "X3",
                                    "EVType": "311"
                                },
                                {
                                    "Model": "IONIQ",
                                    "EVType": "266"
                                },
                                {
                                    "Model": "AIR",
                                    "EVType": "263"
                                },
                                {
                                    "Model": "EQS-CLASS SUV",
                                    "EVType": "259"
                                },
                                {
                                    "Model": "RZ",
                                    "EVType": "249"
                                },
                                {
                                    "Model": "SPARK",
                                    "EVType": "247"
                                },
                                {
                                    "Model": "NX",
                                    "EVType": "237"
                                },
                                {
                                    "Model": "I-PACE",
                                    "EVType": "234"
                                },
                                {
                                    "Model": "SANTA FE",
                                    "EVType": "230"
                                },
                                {
                                    "Model": "FOCUS",
                                    "EVType": "229"
                                },
                                {
                                    "Model": "COUNTRYMAN",
                                    "EVType": "223"
                                },
                                {
                                    "Model": "KONA",
                                    "EVType": "222"
                                },
                                {
                                    "Model": "EQS-CLASS SEDAN",
                                    "EVType": "214"
                                },
                                {
                                    "Model": "SOUL EV",
                                    "EVType": "214"
                                },
                                {
                                    "Model": "TUCSON",
                                    "EVType": "214"
                                },
                                {
                                    "Model": "GLC-CLASS",
                                    "EVType": "206"
                                },
                                {
                                    "Model": "E-TRON SPORTBACK",
                                    "EVType": "177"
                                },
                                {
                                    "Model": "AVIATOR",
                                    "EVType": "177"
                                },
                                {
                                    "Model": "OCEAN",
                                    "EVType": "170"
                                },
                                {
                                    "Model": "GV60",
                                    "EVType": "159"
                                },
                                {
                                    "Model": "S60",
                                    "EVType": "159"
                                },
                                {
                                    "Model": "GLE-CLASS",
                                    "EVType": "153"
                                },
                                {
                                    "Model": "FORTWO ELECTRIC DRIVE",
                                    "EVType": "145"
                                },
                                {
                                    "Model": "Q5",
                                    "EVType": "139"
                                },
                                {
                                    "Model": "E-TRON GT",
                                    "EVType": "136"
                                },
                                {
                                    "Model": "PANAMERA",
                                    "EVType": "134"
                                },
                                {
                                    "Model": "EQE-CLASS SEDAN",
                                    "EVType": "132"
                                },
                                {
                                    "Model": "CYBERTRUCK",
                                    "EVType": "128"
                                },
                                {
                                    "Model": "OPTIMA",
                                    "EVType": "106"
                                },
                                {
                                    "Model": "CORSAIR",
                                    "EVType": "104"
                                },
                                {
                                    "Model": "I8",
                                    "EVType": "95"
                                },
                                {
                                    "Model": "I5",
                                    "EVType": "94"
                                },
                                {
                                    "Model": "B-CLASS",
                                    "EVType": "92"
                                },
                                {
                                    "Model": "BLAZER EV",
                                    "EVType": "91"
                                },
                                {
                                    "Model": "SILVERADO EV",
                                    "EVType": "87"
                                },
                                {
                                    "Model": "SONATA",
                                    "EVType": "76"
                                },
                                {
                                    "Model": "ELR",
                                    "EVType": "75"
                                },
                                {
                                    "Model": "RX",
                                    "EVType": "74"
                                },
                                {
                                    "Model": "CROSSTREK",
                                    "EVType": "69"
                                },
                                {
                                    "Model": "FORTWO",
                                    "EVType": "63"
                                },
                                {
                                    "Model": "V60",
                                    "EVType": "63"
                                },
                                {
                                    "Model": "I-MIEV",
                                    "EVType": "60"
                                },
                                {
                                    "Model": "TONALE",
                                    "EVType": "56"
                                },
                                {
                                    "Model": "EQ FORTWO",
                                    "EVType": "51"
                                },
                                {
                                    "Model": "RAV4",
                                    "EVType": "51"
                                },
                                {
                                    "Model": "ROADSTER",
                                    "EVType": "48"
                                },
                                {
                                    "Model": "GV70",
                                    "EVType": "46"
                                },
                                {
                                    "Model": "I7",
                                    "EVType": "44"
                                },
                                {
                                    "Model": "RS E-TRON GT",
                                    "EVType": "42"
                                },
                                {
                                    "Model": "RANGE ROVER SPORT",
                                    "EVType": "38"
                                },
                                {
                                    "Model": "S90",
                                    "EVType": "34"
                                },
                                {
                                    "Model": "740E",
                                    "EVType": "33"
                                },
                                {
                                    "Model": "RANGE ROVER",
                                    "EVType": "22"
                                },
                                {
                                    "Model": "C-CLASS",
                                    "EVType": "19"
                                },
                                {
                                    "Model": "G80",
                                    "EVType": "14"
                                },
                                {
                                    "Model": "CT6",
                                    "EVType": "13"
                                },
                                {
                                    "Model": "S-CLASS",
                                    "EVType": "13"
                                },
                                {
                                    "Model": "A7 E",
                                    "EVType": "13"
                                },
                                {
                                    "Model": "RANGER",
                                    "EVType": "13"
                                },
                                {
                                    "Model": "SQ8",
                                    "EVType": "12"
                                },
                                {
                                    "Model": "PROLOGUE",
                                    "EVType": "12"
                                },
                                {
                                    "Model": "745E",
                                    "EVType": "11"
                                },
                                {
                                    "Model": "HUMMER EV PICKUP",
                                    "EVType": "11"
                                },
                                {
                                    "Model": "KARMA",
                                    "EVType": "11"
                                },
                                {
                                    "Model": "XM",
                                    "EVType": "10"
                                },
                                {
                                    "Model": "ACCORD",
                                    "EVType": "10"
                                },
                                {
                                    "Model": "TRANSIT CONNECT ELECTRIC",
                                    "EVType": "8"
                                },
                                {
                                    "Model": "CR-V",
                                    "EVType": "7"
                                },
                                {
                                    "Model": "TX",
                                    "EVType": "7"
                                },
                                {
                                    "Model": "MX-30",
                                    "EVType": "6"
                                },
                                {
                                    "Model": "IONIQ 5 N",
                                    "EVType": "5"
                                },
                                {
                                    "Model": "CITY",
                                    "EVType": "5"
                                },
                                {
                                    "Model": "A8 E",
                                    "EVType": "3"
                                },
                                {
                                    "Model": "WHEEGO",
                                    "EVType": "3"
                                },
                                {
                                    "Model": "745LE",
                                    "EVType": "2"
                                },
                                {
                                    "Model": "SPECTRE",
                                    "EVType": "2"
                                },
                                {
                                    "Model": "PROMASTER 3500",
                                    "EVType": "2"
                                },
                                {
                                    "Model": "FLYING SPUR",
                                    "EVType": "2"
                                },
                                {
                                    "Model": "BENTAYGA",
                                    "EVType": "1"
                                },
                                {
                                    "Model": "918",
                                    "EVType": "1"
                                },
                                {
                                    "Model": "S-10 PICKUP",
                                    "EVType": "1"
                                },
                                {
                                    "Model": "ZDX",
                                    "EVType": "1"
                                },
                                {
                                    "Model": "750E",
                                    "EVType": "1"
                                }
                            ]
                        },
                        "text/html": [
                            "<table>",
                            "<tr><th>Model</th><th>EVType</th></tr>",
                            "<tr><td>MODEL Y</td><td>39521</td></tr>",
                            "<tr><td>MODEL 3</td><td>30978</td></tr>",
                            "<tr><td>LEAF</td><td>13439</td></tr>",
                            "<tr><td>MODEL S</td><td>7869</td></tr>",
                            "<tr><td>BOLT EV</td><td>6444</td></tr>",
                            "<tr><td>MODEL X</td><td>6126</td></tr>",
                            "<tr><td>VOLT</td><td>4801</td></tr>",
                            "<tr><td>ID.4</td><td>4337</td></tr>",
                            "<tr><td>MUSTANG MACH-E</td><td>3758</td></tr>",
                            "<tr><td>WRANGLER</td><td>3743</td></tr>",
                            "<tr><td>PACIFICA</td><td>3393</td></tr>",
                            "<tr><td>NIRO</td><td>3358</td></tr>",
                            "<tr><td>PRIUS PRIME</td><td>2985</td></tr>",
                            "<tr><td>IONIQ 5</td><td>2747</td></tr>",
                            "<tr><td>BOLT EUV</td><td>2650</td></tr>",
                            "<tr><td>RAV4 PRIME</td><td>2596</td></tr>",
                            "<tr><td>X5</td><td>2456</td></tr>",
                            "<tr><td>R1S</td><td>2453</td></tr>",
                            "<tr><td>EV6</td><td>2378</td></tr>",
                            "<tr><td>F-150</td><td>1966</td></tr>",
                            "<tr><td>I3</td><td>1925</td></tr>",
                            "<tr><td>FUSION</td><td>1781</td></tr>",
                            "<tr><td>R1T</td><td>1776</td></tr>",
                            "<tr><td>XC90</td><td>1552</td></tr>",
                            "<tr><td>C-MAX</td><td>1504</td></tr>",
                            "<tr><td>GRAND CHEROKEE</td><td>1253</td></tr>",
                            "<tr><td>I4</td><td>1190</td></tr>",
                            "<tr><td>XC60</td><td>1187</td></tr>",
                            "<tr><td>SPORTAGE</td><td>1160</td></tr>",
                            "<tr><td>E-TRON</td><td>1076</td></tr>",
                            "<tr><td>E-GOLF</td><td>1071</td></tr>",
                            "<tr><td>XC40</td><td>1048</td></tr>",
                            "<tr><td>PRIUS PLUG-IN</td><td>956</td></tr>",
                            "<tr><td>PS2</td><td>939</td></tr>",
                            "<tr><td>OUTLANDER</td><td>936</td></tr>",
                            "<tr><td>IX</td><td>927</td></tr>",
                            "<tr><td>SOLTERRA</td><td>901</td></tr>",
                            "<tr><td>CLARITY</td><td>828</td></tr>",
                            "<tr><td>KONA ELECTRIC</td><td>816</td></tr>",
                            "<tr><td>ARIYA</td><td>800</td></tr>",
                            "<tr><td>500</td><td>781</td></tr>",
                            "<tr><td>HARDTOP</td><td>761</td></tr>",
                            "<tr><td>Q5 E</td><td>760</td></tr>",
                            "<tr><td>TAYCAN</td><td>680</td></tr>",
                            "<tr><td>SORENTO</td><td>648</td></tr>",
                            "<tr><td>HORNET</td><td>619</td></tr>",
                            "<tr><td>Q4</td><td>618</td></tr>",
                            "<tr><td>BZ4X</td><td>593</td></tr>",
                            "<tr><td>CX-90</td><td>575</td></tr>",
                            "<tr><td>A3</td><td>560</td></tr>",
                            "<tr><td>EDV</td><td>522</td></tr>",
                            "<tr><td>330E</td><td>474</td></tr>",
                            "<tr><td>LYRIQ</td><td>464</td></tr>",
                            "<tr><td>C40</td><td>426</td></tr>",
                            "<tr><td>ESCAPE</td><td>423</td></tr>",
                            "<tr><td>530E</td><td>420</td></tr>",
                            "<tr><td>EV9</td><td>411</td></tr>",
                            "<tr><td>IONIQ 6</td><td>401</td></tr>",
                            "<tr><td>SOUL</td><td>396</td></tr>",
                            "<tr><td>TRANSIT</td><td>374</td></tr>",
                            "<tr><td>CAYENNE</td><td>367</td></tr>",
                            "<tr><td>EQB-CLASS</td><td>354</td></tr>",
                            "<tr><td>Q8</td><td>354</td></tr>",
                            "<tr><td>EQE-CLASS SUV</td><td>342</td></tr>",
                            "<tr><td>X3</td><td>311</td></tr>",
                            "<tr><td>IONIQ</td><td>266</td></tr>",
                            "<tr><td>AIR</td><td>263</td></tr>",
                            "<tr><td>EQS-CLASS SUV</td><td>259</td></tr>",
                            "<tr><td>RZ</td><td>249</td></tr>",
                            "<tr><td>SPARK</td><td>247</td></tr>",
                            "<tr><td>NX</td><td>237</td></tr>",
                            "<tr><td>I-PACE</td><td>234</td></tr>",
                            "<tr><td>SANTA FE</td><td>230</td></tr>",
                            "<tr><td>FOCUS</td><td>229</td></tr>",
                            "<tr><td>COUNTRYMAN</td><td>223</td></tr>",
                            "<tr><td>KONA</td><td>222</td></tr>",
                            "<tr><td>EQS-CLASS SEDAN</td><td>214</td></tr>",
                            "<tr><td>SOUL EV</td><td>214</td></tr>",
                            "<tr><td>TUCSON</td><td>214</td></tr>",
                            "<tr><td>GLC-CLASS</td><td>206</td></tr>",
                            "<tr><td>E-TRON SPORTBACK</td><td>177</td></tr>",
                            "<tr><td>AVIATOR</td><td>177</td></tr>",
                            "<tr><td>OCEAN</td><td>170</td></tr>",
                            "<tr><td>GV60</td><td>159</td></tr>",
                            "<tr><td>S60</td><td>159</td></tr>",
                            "<tr><td>GLE-CLASS</td><td>153</td></tr>",
                            "<tr><td>FORTWO ELECTRIC DRIVE</td><td>145</td></tr>",
                            "<tr><td>Q5</td><td>139</td></tr>",
                            "<tr><td>E-TRON GT</td><td>136</td></tr>",
                            "<tr><td>PANAMERA</td><td>134</td></tr>",
                            "<tr><td>EQE-CLASS SEDAN</td><td>132</td></tr>",
                            "<tr><td>CYBERTRUCK</td><td>128</td></tr>",
                            "<tr><td>OPTIMA</td><td>106</td></tr>",
                            "<tr><td>CORSAIR</td><td>104</td></tr>",
                            "<tr><td>I8</td><td>95</td></tr>",
                            "<tr><td>I5</td><td>94</td></tr>",
                            "<tr><td>B-CLASS</td><td>92</td></tr>",
                            "<tr><td>BLAZER EV</td><td>91</td></tr>",
                            "<tr><td>SILVERADO EV</td><td>87</td></tr>",
                            "<tr><td>SONATA</td><td>76</td></tr>",
                            "<tr><td>ELR</td><td>75</td></tr>",
                            "<tr><td>RX</td><td>74</td></tr>",
                            "<tr><td>CROSSTREK</td><td>69</td></tr>",
                            "<tr><td>FORTWO</td><td>63</td></tr>",
                            "<tr><td>V60</td><td>63</td></tr>",
                            "<tr><td>I-MIEV</td><td>60</td></tr>",
                            "<tr><td>TONALE</td><td>56</td></tr>",
                            "<tr><td>EQ FORTWO</td><td>51</td></tr>",
                            "<tr><td>RAV4</td><td>51</td></tr>",
                            "<tr><td>ROADSTER</td><td>48</td></tr>",
                            "<tr><td>GV70</td><td>46</td></tr>",
                            "<tr><td>I7</td><td>44</td></tr>",
                            "<tr><td>RS E-TRON GT</td><td>42</td></tr>",
                            "<tr><td>RANGE ROVER SPORT</td><td>38</td></tr>",
                            "<tr><td>S90</td><td>34</td></tr>",
                            "<tr><td>740E</td><td>33</td></tr>",
                            "<tr><td>RANGE ROVER</td><td>22</td></tr>",
                            "<tr><td>C-CLASS</td><td>19</td></tr>",
                            "<tr><td>G80</td><td>14</td></tr>",
                            "<tr><td>CT6</td><td>13</td></tr>",
                            "<tr><td>S-CLASS</td><td>13</td></tr>",
                            "<tr><td>A7 E</td><td>13</td></tr>",
                            "<tr><td>RANGER</td><td>13</td></tr>",
                            "<tr><td>SQ8</td><td>12</td></tr>",
                            "<tr><td>PROLOGUE</td><td>12</td></tr>",
                            "<tr><td>745E</td><td>11</td></tr>",
                            "<tr><td>HUMMER EV PICKUP</td><td>11</td></tr>",
                            "<tr><td>KARMA</td><td>11</td></tr>",
                            "<tr><td>XM</td><td>10</td></tr>",
                            "<tr><td>ACCORD</td><td>10</td></tr>",
                            "<tr><td>TRANSIT CONNECT ELECTRIC</td><td>8</td></tr>",
                            "<tr><td>CR-V</td><td>7</td></tr>",
                            "<tr><td>TX</td><td>7</td></tr>",
                            "<tr><td>MX-30</td><td>6</td></tr>",
                            "<tr><td>IONIQ 5 N</td><td>5</td></tr>",
                            "<tr><td>CITY</td><td>5</td></tr>",
                            "<tr><td>A8 E</td><td>3</td></tr>",
                            "<tr><td>WHEEGO</td><td>3</td></tr>",
                            "<tr><td>745LE</td><td>2</td></tr>",
                            "<tr><td>SPECTRE</td><td>2</td></tr>",
                            "<tr><td>PROMASTER 3500</td><td>2</td></tr>",
                            "<tr><td>FLYING SPUR</td><td>2</td></tr>",
                            "<tr><td>BENTAYGA</td><td>1</td></tr>",
                            "<tr><td>918</td><td>1</td></tr>",
                            "<tr><td>S-10 PICKUP</td><td>1</td></tr>",
                            "<tr><td>ZDX</td><td>1</td></tr>",
                            "<tr><td>750E</td><td>1</td></tr>",
                            "</table>"
                        ]
                    }
                }
            ],
            "execution_count": 13
        },
        {
            "cell_type": "markdown",
            "source": [
                "### 3\\. Distribution of Electric Vehicle by County"
            ],
            "metadata": {
                "language": "sql",
                "azdata_cell_guid": "2574168a-fd59-414e-9085-7ff6b3663322"
            },
            "attachments": {}
        },
        {
            "cell_type": "markdown",
            "source": [
                "<span style=\"color: rgb(34, 34, 34); font-family: Arial, Helvetica, sans-serif; font-size: small; background-color: rgb(255, 255, 255);\">This pie chart displays the distribution of electric vehicles across different counties, showing regional adoption patterns.</span>"
            ],
            "metadata": {
                "language": "sql",
                "azdata_cell_guid": "de1f5448-8deb-4f39-9e56-f074214526a9"
            },
            "attachments": {}
        },
        {
            "cell_type": "code",
            "source": [
                "SELECT City,\r\n",
                "       COUNT(*) AS NumberOfVehicles\r\n",
                "FROM AzureProject.dbo.EVPopulationWA\r\n",
                "GROUP BY City\r\n",
                "ORDER BY NumberOfVehicles DESC;"
            ],
            "metadata": {
                "language": "sql",
                "azdata_cell_guid": "18b26442-923e-4b94-ba4d-4ccb85fa0009"
            },
            "outputs": [
                {
                    "output_type": "display_data",
                    "data": {
                        "text/html": "(744 rows affected)"
                    },
                    "metadata": {}
                },
                {
                    "output_type": "display_data",
                    "data": {
                        "text/html": "Total execution time: 00:00:00.228"
                    },
                    "metadata": {}
                },
                {
                    "output_type": "execute_result",
                    "metadata": {
                        "azdata_chartOptions": {
                            "type": "pie",
                            "dataDirection": "vertical",
                            "columnsAsLabels": true,
                            "labelFirstColumn": false,
                            "legendPosition": "right"
                        }
                    },
                    "execution_count": 14,
                    "data": {
                        "application/vnd.dataresource+json": {
                            "schema": {
                                "fields": [
                                    {
                                        "name": "City"
                                    },
                                    {
                                        "name": "NumberOfVehicles"
                                    }
                                ]
                            },
                            "data": [
                                {
                                    "City": "Seattle",
                                    "NumberOfVehicles": "31436"
                                },
                                {
                                    "City": "Bellevue",
                                    "NumberOfVehicles": "9582"
                                },
                                {
                                    "City": "Redmond",
                                    "NumberOfVehicles": "6883"
                                },
                                {
                                    "City": "Vancouver",
                                    "NumberOfVehicles": "6744"
                                },
                                {
                                    "City": "Bothell",
                                    "NumberOfVehicles": "6278"
                                },
                                {
                                    "City": "Kirkland",
                                    "NumberOfVehicles": "5709"
                                },
                                {
                                    "City": "Sammamish",
                                    "NumberOfVehicles": "5595"
                                },
                                {
                                    "City": "Renton",
                                    "NumberOfVehicles": "5584"
                                },
                                {
                                    "City": "Olympia",
                                    "NumberOfVehicles": "4600"
                                },
                                {
                                    "City": "Tacoma",
                                    "NumberOfVehicles": "4011"
                                },
                                {
                                    "City": "Tukwila",
                                    "NumberOfVehicles": "3182"
                                },
                                {
                                    "City": "Bellingham",
                                    "NumberOfVehicles": "3171"
                                },
                                {
                                    "City": "Kent",
                                    "NumberOfVehicles": "3050"
                                },
                                {
                                    "City": "Issaquah",
                                    "NumberOfVehicles": "2958"
                                },
                                {
                                    "City": "Spokane",
                                    "NumberOfVehicles": "2950"
                                },
                                {
                                    "City": "Lynnwood",
                                    "NumberOfVehicles": "2921"
                                },
                                {
                                    "City": "Everett",
                                    "NumberOfVehicles": "2694"
                                },
                                {
                                    "City": "Woodinville",
                                    "NumberOfVehicles": "2494"
                                },
                                {
                                    "City": "Mercer Island",
                                    "NumberOfVehicles": "2464"
                                },
                                {
                                    "City": "Snohomish",
                                    "NumberOfVehicles": "2237"
                                },
                                {
                                    "City": "Shoreline",
                                    "NumberOfVehicles": "2129"
                                },
                                {
                                    "City": "Gig Harbor",
                                    "NumberOfVehicles": "2097"
                                },
                                {
                                    "City": "Auburn",
                                    "NumberOfVehicles": "2050"
                                },
                                {
                                    "City": "Edmonds",
                                    "NumberOfVehicles": "2003"
                                },
                                {
                                    "City": "Bainbridge Island",
                                    "NumberOfVehicles": "1853"
                                },
                                {
                                    "City": "Camas",
                                    "NumberOfVehicles": "1730"
                                },
                                {
                                    "City": "Maple Valley",
                                    "NumberOfVehicles": "1604"
                                },
                                {
                                    "City": "Federal Way",
                                    "NumberOfVehicles": "1556"
                                },
                                {
                                    "City": "Lake Stevens",
                                    "NumberOfVehicles": "1499"
                                },
                                {
                                    "City": "Puyallup",
                                    "NumberOfVehicles": "1466"
                                },
                                {
                                    "City": "Bremerton",
                                    "NumberOfVehicles": "1416"
                                },
                                {
                                    "City": "Marysville",
                                    "NumberOfVehicles": "1374"
                                },
                                {
                                    "City": "Seatac",
                                    "NumberOfVehicles": "1238"
                                },
                                {
                                    "City": "Port Orchard",
                                    "NumberOfVehicles": "1180"
                                },
                                {
                                    "City": "Kenmore",
                                    "NumberOfVehicles": "1080"
                                },
                                {
                                    "City": "Bonney Lake",
                                    "NumberOfVehicles": "1071"
                                },
                                {
                                    "City": "Lacey",
                                    "NumberOfVehicles": "1027"
                                },
                                {
                                    "City": "Ridgefield",
                                    "NumberOfVehicles": "1011"
                                },
                                {
                                    "City": "Richland",
                                    "NumberOfVehicles": "1001"
                                },
                                {
                                    "City": "Burien",
                                    "NumberOfVehicles": "957"
                                },
                                {
                                    "City": "Newcastle",
                                    "NumberOfVehicles": "956"
                                },
                                {
                                    "City": "Kennewick",
                                    "NumberOfVehicles": "946"
                                },
                                {
                                    "City": "Snoqualmie",
                                    "NumberOfVehicles": "944"
                                },
                                {
                                    "City": "Monroe",
                                    "NumberOfVehicles": "834"
                                },
                                {
                                    "City": "Mukilteo",
                                    "NumberOfVehicles": "829"
                                },
                                {
                                    "City": "Lakewood",
                                    "NumberOfVehicles": "813"
                                },
                                {
                                    "City": "Spokane Valley",
                                    "NumberOfVehicles": "800"
                                },
                                {
                                    "City": "North Bend",
                                    "NumberOfVehicles": "787"
                                },
                                {
                                    "City": "Poulsbo",
                                    "NumberOfVehicles": "765"
                                },
                                {
                                    "City": "Yakima",
                                    "NumberOfVehicles": "755"
                                },
                                {
                                    "City": "University Place",
                                    "NumberOfVehicles": "741"
                                },
                                {
                                    "City": "Mill Creek",
                                    "NumberOfVehicles": "737"
                                },
                                {
                                    "City": "Anacortes",
                                    "NumberOfVehicles": "732"
                                },
                                {
                                    "City": "Tumwater",
                                    "NumberOfVehicles": "722"
                                },
                                {
                                    "City": "Lake Forest Park",
                                    "NumberOfVehicles": "715"
                                },
                                {
                                    "City": "Mount Vernon",
                                    "NumberOfVehicles": "700"
                                },
                                {
                                    "City": "Vashon",
                                    "NumberOfVehicles": "668"
                                },
                                {
                                    "City": "Port Townsend",
                                    "NumberOfVehicles": "663"
                                },
                                {
                                    "City": "Sequim",
                                    "NumberOfVehicles": "642"
                                },
                                {
                                    "City": "Duvall",
                                    "NumberOfVehicles": "636"
                                },
                                {
                                    "City": "Battle Ground",
                                    "NumberOfVehicles": "630"
                                },
                                {
                                    "City": "Washougal",
                                    "NumberOfVehicles": "626"
                                },
                                {
                                    "City": "Pasco",
                                    "NumberOfVehicles": "608"
                                },
                                {
                                    "City": "South Hill",
                                    "NumberOfVehicles": "594"
                                },
                                {
                                    "City": "Covington",
                                    "NumberOfVehicles": "589"
                                },
                                {
                                    "City": "Arlington",
                                    "NumberOfVehicles": "579"
                                },
                                {
                                    "City": "Des Moines",
                                    "NumberOfVehicles": "541"
                                },
                                {
                                    "City": "Oak Harbor",
                                    "NumberOfVehicles": "511"
                                },
                                {
                                    "City": "Mountlake Terrace",
                                    "NumberOfVehicles": "489"
                                },
                                {
                                    "City": "Camano Island",
                                    "NumberOfVehicles": "486"
                                },
                                {
                                    "City": "Stanwood",
                                    "NumberOfVehicles": "471"
                                },
                                {
                                    "City": "Port Angeles",
                                    "NumberOfVehicles": "469"
                                },
                                {
                                    "City": "Wenatchee",
                                    "NumberOfVehicles": "465"
                                },
                                {
                                    "City": "Friday Harbor",
                                    "NumberOfVehicles": "456"
                                },
                                {
                                    "City": "Spanaway",
                                    "NumberOfVehicles": "440"
                                },
                                {
                                    "City": "Shelton",
                                    "NumberOfVehicles": "435"
                                },
                                {
                                    "City": "Blaine",
                                    "NumberOfVehicles": "422"
                                },
                                {
                                    "City": "Black Diamond",
                                    "NumberOfVehicles": "390"
                                },
                                {
                                    "City": "Longview",
                                    "NumberOfVehicles": "383"
                                },
                                {
                                    "City": "Carnation",
                                    "NumberOfVehicles": "382"
                                },
                                {
                                    "City": "Silverdale",
                                    "NumberOfVehicles": "380"
                                },
                                {
                                    "City": "Walla Walla",
                                    "NumberOfVehicles": "379"
                                },
                                {
                                    "City": "Ferndale",
                                    "NumberOfVehicles": "378"
                                },
                                {
                                    "City": "Enumclaw",
                                    "NumberOfVehicles": "370"
                                },
                                {
                                    "City": "Graham",
                                    "NumberOfVehicles": "360"
                                },
                                {
                                    "City": "Lake Tapps",
                                    "NumberOfVehicles": "360"
                                },
                                {
                                    "City": "Centralia",
                                    "NumberOfVehicles": "350"
                                },
                                {
                                    "City": "Clyde Hill",
                                    "NumberOfVehicles": "345"
                                },
                                {
                                    "City": "Medina",
                                    "NumberOfVehicles": "344"
                                },
                                {
                                    "City": "Moses Lake",
                                    "NumberOfVehicles": "343"
                                },
                                {
                                    "City": "Yelm",
                                    "NumberOfVehicles": "317"
                                },
                                {
                                    "City": "Brush Prairie",
                                    "NumberOfVehicles": "316"
                                },
                                {
                                    "City": "Ellensburg",
                                    "NumberOfVehicles": "316"
                                },
                                {
                                    "City": "Eastsound",
                                    "NumberOfVehicles": "302"
                                },
                                {
                                    "City": "Edgewood",
                                    "NumberOfVehicles": "299"
                                },
                                {
                                    "City": "East Wenatchee",
                                    "NumberOfVehicles": "289"
                                },
                                {
                                    "City": "Kingston",
                                    "NumberOfVehicles": "287"
                                },
                                {
                                    "City": "Pullman",
                                    "NumberOfVehicles": "284"
                                },
                                {
                                    "City": "Langley",
                                    "NumberOfVehicles": "276"
                                },
                                {
                                    "City": "Leavenworth",
                                    "NumberOfVehicles": "275"
                                },
                                {
                                    "City": "Normandy Park",
                                    "NumberOfVehicles": "273"
                                },
                                {
                                    "City": "Buckley",
                                    "NumberOfVehicles": "264"
                                },
                                {
                                    "City": "West Richland",
                                    "NumberOfVehicles": "252"
                                },
                                {
                                    "City": "Brier",
                                    "NumberOfVehicles": "249"
                                },
                                {
                                    "City": "Lynden",
                                    "NumberOfVehicles": "245"
                                },
                                {
                                    "City": "Coupeville",
                                    "NumberOfVehicles": "239"
                                },
                                {
                                    "City": "Fall City",
                                    "NumberOfVehicles": "238"
                                },
                                {
                                    "City": "Sumner",
                                    "NumberOfVehicles": "238"
                                },
                                {
                                    "City": "Liberty Lake",
                                    "NumberOfVehicles": "238"
                                },
                                {
                                    "City": "Clinton",
                                    "NumberOfVehicles": "230"
                                },
                                {
                                    "City": "Cle Elum",
                                    "NumberOfVehicles": "229"
                                },
                                {
                                    "City": "Chehalis",
                                    "NumberOfVehicles": "225"
                                },
                                {
                                    "City": "Fox Island",
                                    "NumberOfVehicles": "219"
                                },
                                {
                                    "City": "Dupont",
                                    "NumberOfVehicles": "209"
                                },
                                {
                                    "City": "Sedro-Woolley",
                                    "NumberOfVehicles": "207"
                                },
                                {
                                    "City": "La Center",
                                    "NumberOfVehicles": "203"
                                },
                                {
                                    "City": "Woodland",
                                    "NumberOfVehicles": "201"
                                },
                                {
                                    "City": "Freeland",
                                    "NumberOfVehicles": "200"
                                },
                                {
                                    "City": "Sultan",
                                    "NumberOfVehicles": "192"
                                },
                                {
                                    "City": "Kelso",
                                    "NumberOfVehicles": "188"
                                },
                                {
                                    "City": "Orting",
                                    "NumberOfVehicles": "176"
                                },
                                {
                                    "City": "Aberdeen",
                                    "NumberOfVehicles": "175"
                                },
                                {
                                    "City": "Burlington",
                                    "NumberOfVehicles": "175"
                                },
                                {
                                    "City": "Port Ludlow",
                                    "NumberOfVehicles": "173"
                                },
                                {
                                    "City": "Cheney",
                                    "NumberOfVehicles": "172"
                                },
                                {
                                    "City": "Chelan",
                                    "NumberOfVehicles": "171"
                                },
                                {
                                    "City": "Steilacoom",
                                    "NumberOfVehicles": "170"
                                },
                                {
                                    "City": "Fife",
                                    "NumberOfVehicles": "164"
                                },
                                {
                                    "City": "White Salmon",
                                    "NumberOfVehicles": "161"
                                },
                                {
                                    "City": "Granite Falls",
                                    "NumberOfVehicles": "156"
                                },
                                {
                                    "City": "Belfair",
                                    "NumberOfVehicles": "155"
                                },
                                {
                                    "City": "Yarrow Point",
                                    "NumberOfVehicles": "151"
                                },
                                {
                                    "City": "Greenacres",
                                    "NumberOfVehicles": "148"
                                },
                                {
                                    "City": "Fircrest",
                                    "NumberOfVehicles": "146"
                                },
                                {
                                    "City": "Eatonville",
                                    "NumberOfVehicles": "141"
                                },
                                {
                                    "City": "Roy",
                                    "NumberOfVehicles": "140"
                                },
                                {
                                    "City": "Ocean Shores",
                                    "NumberOfVehicles": "138"
                                },
                                {
                                    "City": "Lopez Island",
                                    "NumberOfVehicles": "137"
                                },
                                {
                                    "City": "Rochester",
                                    "NumberOfVehicles": "130"
                                },
                                {
                                    "City": "Kalama",
                                    "NumberOfVehicles": "129"
                                },
                                {
                                    "City": "Nine Mile Falls",
                                    "NumberOfVehicles": "118"
                                },
                                {
                                    "City": "Colbert",
                                    "NumberOfVehicles": "116"
                                },
                                {
                                    "City": "Quincy",
                                    "NumberOfVehicles": "114"
                                },
                                {
                                    "City": "Bow",
                                    "NumberOfVehicles": "110"
                                },
                                {
                                    "City": "Milton",
                                    "NumberOfVehicles": "106"
                                },
                                {
                                    "City": "Lakebay",
                                    "NumberOfVehicles": "106"
                                },
                                {
                                    "City": "Ravensdale",
                                    "NumberOfVehicles": "103"
                                },
                                {
                                    "City": "Tenino",
                                    "NumberOfVehicles": "102"
                                },
                                {
                                    "City": "Parkland",
                                    "NumberOfVehicles": "102"
                                },
                                {
                                    "City": "Olalla",
                                    "NumberOfVehicles": "101"
                                },
                                {
                                    "City": "Joint Base Lewis Mcchord",
                                    "NumberOfVehicles": "101"
                                },
                                {
                                    "City": "La Conner",
                                    "NumberOfVehicles": "101"
                                },
                                {
                                    "City": "Winthrop",
                                    "NumberOfVehicles": "100"
                                },
                                {
                                    "City": "Selah",
                                    "NumberOfVehicles": "98"
                                },
                                {
                                    "City": "Seabeck",
                                    "NumberOfVehicles": "96"
                                },
                                {
                                    "City": "Everson",
                                    "NumberOfVehicles": "95"
                                },
                                {
                                    "City": "Woodway",
                                    "NumberOfVehicles": "92"
                                },
                                {
                                    "City": "Montesano",
                                    "NumberOfVehicles": "89"
                                },
                                {
                                    "City": "Castle Rock",
                                    "NumberOfVehicles": "85"
                                },
                                {
                                    "City": "Allyn",
                                    "NumberOfVehicles": "84"
                                },
                                {
                                    "City": "Cashmere",
                                    "NumberOfVehicles": "82"
                                },
                                {
                                    "City": "Manson",
                                    "NumberOfVehicles": "81"
                                },
                                {
                                    "City": "Hansville",
                                    "NumberOfVehicles": "80"
                                },
                                {
                                    "City": "Greenbank",
                                    "NumberOfVehicles": "79"
                                },
                                {
                                    "City": "Elma",
                                    "NumberOfVehicles": "78"
                                },
                                {
                                    "City": "Mead",
                                    "NumberOfVehicles": "78"
                                },
                                {
                                    "City": "Ephrata",
                                    "NumberOfVehicles": "76"
                                },
                                {
                                    "City": "Deer Park",
                                    "NumberOfVehicles": "76"
                                },
                                {
                                    "City": "Pacific",
                                    "NumberOfVehicles": "75"
                                },
                                {
                                    "City": "Benton City",
                                    "NumberOfVehicles": "75"
                                },
                                {
                                    "City": "Suquamish",
                                    "NumberOfVehicles": "72"
                                },
                                {
                                    "City": "Prosser",
                                    "NumberOfVehicles": "71"
                                },
                                {
                                    "City": "Medical Lake",
                                    "NumberOfVehicles": "70"
                                },
                                {
                                    "City": "Clarkston",
                                    "NumberOfVehicles": "69"
                                },
                                {
                                    "City": "Grapeview",
                                    "NumberOfVehicles": "68"
                                },
                                {
                                    "City": "Veradale",
                                    "NumberOfVehicles": "67"
                                },
                                {
                                    "City": "Hoquiam",
                                    "NumberOfVehicles": "64"
                                },
                                {
                                    "City": "Winlock",
                                    "NumberOfVehicles": "62"
                                },
                                {
                                    "City": "Sunnyside",
                                    "NumberOfVehicles": "62"
                                },
                                {
                                    "City": "Gold Bar",
                                    "NumberOfVehicles": "61"
                                },
                                {
                                    "City": "Sedro Woolley",
                                    "NumberOfVehicles": "61"
                                },
                                {
                                    "City": "Point Roberts",
                                    "NumberOfVehicles": "61"
                                },
                                {
                                    "City": "Indianola",
                                    "NumberOfVehicles": "60"
                                },
                                {
                                    "City": "Orondo",
                                    "NumberOfVehicles": "59"
                                },
                                {
                                    "City": "College Place",
                                    "NumberOfVehicles": "59"
                                },
                                {
                                    "City": "Colville",
                                    "NumberOfVehicles": "59"
                                },
                                {
                                    "City": "Yacolt",
                                    "NumberOfVehicles": "59"
                                },
                                {
                                    "City": "Rainier",
                                    "NumberOfVehicles": "58"
                                },
                                {
                                    "City": "Hunts Point",
                                    "NumberOfVehicles": "56"
                                },
                                {
                                    "City": "Quilcene",
                                    "NumberOfVehicles": "55"
                                },
                                {
                                    "City": "Cathlamet",
                                    "NumberOfVehicles": "53"
                                },
                                {
                                    "City": "Hoodsport",
                                    "NumberOfVehicles": "53"
                                },
                                {
                                    "City": "Stevenson",
                                    "NumberOfVehicles": "52"
                                },
                                {
                                    "City": "Newman Lake",
                                    "NumberOfVehicles": "51"
                                },
                                {
                                    "City": "Beaux Arts",
                                    "NumberOfVehicles": "51"
                                },
                                {
                                    "City": "Twisp",
                                    "NumberOfVehicles": "50"
                                },
                                {
                                    "City": "Union",
                                    "NumberOfVehicles": "49"
                                },
                                {
                                    "City": "Long Beach",
                                    "NumberOfVehicles": "49"
                                },
                                {
                                    "City": "Port Hadlock",
                                    "NumberOfVehicles": "48"
                                },
                                {
                                    "City": "Othello",
                                    "NumberOfVehicles": "48"
                                },
                                {
                                    "City": "Nordland",
                                    "NumberOfVehicles": "48"
                                },
                                {
                                    "City": "Otis Orchards",
                                    "NumberOfVehicles": "47"
                                },
                                {
                                    "City": "Ronald",
                                    "NumberOfVehicles": "43"
                                },
                                {
                                    "City": "Lummi Island",
                                    "NumberOfVehicles": "41"
                                },
                                {
                                    "City": "Olga",
                                    "NumberOfVehicles": "41"
                                },
                                {
                                    "City": "Newport",
                                    "NumberOfVehicles": "41"
                                },
                                {
                                    "City": "Zillah",
                                    "NumberOfVehicles": "40"
                                },
                                {
                                    "City": "Toledo",
                                    "NumberOfVehicles": "40"
                                },
                                {
                                    "City": "Algona",
                                    "NumberOfVehicles": "38"
                                },
                                {
                                    "City": "Anderson Island",
                                    "NumberOfVehicles": "38"
                                },
                                {
                                    "City": "Chattaroy",
                                    "NumberOfVehicles": "37"
                                },
                                {
                                    "City": "Deming",
                                    "NumberOfVehicles": "37"
                                },
                                {
                                    "City": "Concrete",
                                    "NumberOfVehicles": "35"
                                },
                                {
                                    "City": "Underwood",
                                    "NumberOfVehicles": "35"
                                },
                                {
                                    "City": "Chimacum",
                                    "NumberOfVehicles": "35"
                                },
                                {
                                    "City": "Snoqualmie Pass",
                                    "NumberOfVehicles": "35"
                                },
                                {
                                    "City": "Silverlake",
                                    "NumberOfVehicles": "34"
                                },
                                {
                                    "City": "Ruston",
                                    "NumberOfVehicles": "34"
                                },
                                {
                                    "City": "Mossyrock",
                                    "NumberOfVehicles": "33"
                                },
                                {
                                    "City": "Kettle Falls",
                                    "NumberOfVehicles": "33"
                                },
                                {
                                    "City": "Grandview",
                                    "NumberOfVehicles": "33"
                                },
                                {
                                    "City": "Ocean Park",
                                    "NumberOfVehicles": "33"
                                },
                                {
                                    "City": "Mccleary",
                                    "NumberOfVehicles": "33"
                                },
                                {
                                    "City": "Preston",
                                    "NumberOfVehicles": "32"
                                },
                                {
                                    "City": "Mattawa",
                                    "NumberOfVehicles": "32"
                                },
                                {
                                    "City": "Maple Falls",
                                    "NumberOfVehicles": "32"
                                },
                                {
                                    "City": "Moxee",
                                    "NumberOfVehicles": "31"
                                },
                                {
                                    "City": "Raymond",
                                    "NumberOfVehicles": "31"
                                },
                                {
                                    "City": "Airway Heights",
                                    "NumberOfVehicles": "31"
                                },
                                {
                                    "City": "Goldendale",
                                    "NumberOfVehicles": "30"
                                },
                                {
                                    "City": "Amboy",
                                    "NumberOfVehicles": "30"
                                },
                                {
                                    "City": "Westport",
                                    "NumberOfVehicles": "29"
                                },
                                {
                                    "City": "Custer",
                                    "NumberOfVehicles": "29"
                                },
                                {
                                    "City": "Tahuya",
                                    "NumberOfVehicles": "28"
                                },
                                {
                                    "City": "Onalaska",
                                    "NumberOfVehicles": "27"
                                },
                                {
                                    "City": "Elk",
                                    "NumberOfVehicles": "27"
                                },
                                {
                                    "City": "Pacific Beach",
                                    "NumberOfVehicles": "27"
                                },
                                {
                                    "City": "Trout Lake",
                                    "NumberOfVehicles": "26"
                                },
                                {
                                    "City": "Malaga",
                                    "NumberOfVehicles": "26"
                                },
                                {
                                    "City": "Naches",
                                    "NumberOfVehicles": "26"
                                },
                                {
                                    "City": "Entiat",
                                    "NumberOfVehicles": "25"
                                },
                                {
                                    "City": "Vaughn",
                                    "NumberOfVehicles": "25"
                                },
                                {
                                    "City": "Colfax",
                                    "NumberOfVehicles": "25"
                                },
                                {
                                    "City": "Brinnon",
                                    "NumberOfVehicles": "24"
                                },
                                {
                                    "City": "Easton",
                                    "NumberOfVehicles": "24"
                                },
                                {
                                    "City": "Lyle",
                                    "NumberOfVehicles": "24"
                                },
                                {
                                    "City": "Roslyn",
                                    "NumberOfVehicles": "24"
                                },
                                {
                                    "City": "Chewelah",
                                    "NumberOfVehicles": "23"
                                },
                                {
                                    "City": "Royal City",
                                    "NumberOfVehicles": "23"
                                },
                                {
                                    "City": "Mazama",
                                    "NumberOfVehicles": "22"
                                },
                                {
                                    "City": "Carson",
                                    "NumberOfVehicles": "22"
                                },
                                {
                                    "City": "Valleyford",
                                    "NumberOfVehicles": "22"
                                },
                                {
                                    "City": "Tonasket",
                                    "NumberOfVehicles": "22"
                                },
                                {
                                    "City": "Palouse",
                                    "NumberOfVehicles": "22"
                                },
                                {
                                    "City": "Surfside",
                                    "NumberOfVehicles": "22"
                                },
                                {
                                    "City": "Oakville",
                                    "NumberOfVehicles": "22"
                                },
                                {
                                    "City": "Soap Lake",
                                    "NumberOfVehicles": "21"
                                },
                                {
                                    "City": "Peshastin",
                                    "NumberOfVehicles": "21"
                                },
                                {
                                    "City": "Longbranch",
                                    "NumberOfVehicles": "20"
                                },
                                {
                                    "City": "Packwood",
                                    "NumberOfVehicles": "20"
                                },
                                {
                                    "City": "Oroville",
                                    "NumberOfVehicles": "20"
                                },
                                {
                                    "City": "Ariel",
                                    "NumberOfVehicles": "19"
                                },
                                {
                                    "City": "Omak",
                                    "NumberOfVehicles": "19"
                                },
                                {
                                    "City": "Husum",
                                    "NumberOfVehicles": "19"
                                },
                                {
                                    "City": "Loon Lake",
                                    "NumberOfVehicles": "19"
                                },
                                {
                                    "City": "Ilwaco",
                                    "NumberOfVehicles": "17"
                                },
                                {
                                    "City": "Naselle",
                                    "NumberOfVehicles": "17"
                                },
                                {
                                    "City": "Brewster",
                                    "NumberOfVehicles": "17"
                                },
                                {
                                    "City": "Snowden",
                                    "NumberOfVehicles": "17"
                                },
                                {
                                    "City": "Forks",
                                    "NumberOfVehicles": "17"
                                },
                                {
                                    "City": "Ritzville",
                                    "NumberOfVehicles": "17"
                                },
                                {
                                    "City": "Glacier",
                                    "NumberOfVehicles": "16"
                                },
                                {
                                    "City": "Ashford",
                                    "NumberOfVehicles": "16"
                                },
                                {
                                    "City": "Cosmopolis",
                                    "NumberOfVehicles": "16"
                                },
                                {
                                    "City": "Davenport",
                                    "NumberOfVehicles": "15"
                                },
                                {
                                    "City": "Morton",
                                    "NumberOfVehicles": "15"
                                },
                                {
                                    "City": "Shaw Island",
                                    "NumberOfVehicles": "15"
                                },
                                {
                                    "City": "Dayton",
                                    "NumberOfVehicles": "15"
                                },
                                {
                                    "City": "Fairchild Air Force Base",
                                    "NumberOfVehicles": "15"
                                },
                                {
                                    "City": "Toppenish",
                                    "NumberOfVehicles": "15"
                                },
                                {
                                    "City": "Wapato",
                                    "NumberOfVehicles": "14"
                                },
                                {
                                    "City": "San Diego",
                                    "NumberOfVehicles": "14"
                                },
                                {
                                    "City": "Rock Island",
                                    "NumberOfVehicles": "13"
                                },
                                {
                                    "City": "North Bonneville",
                                    "NumberOfVehicles": "13"
                                },
                                {
                                    "City": "Republic",
                                    "NumberOfVehicles": "12"
                                },
                                {
                                    "City": "Darrington",
                                    "NumberOfVehicles": "12"
                                },
                                {
                                    "City": "Union Gap",
                                    "NumberOfVehicles": "12"
                                },
                                {
                                    "City": "Sumas",
                                    "NumberOfVehicles": "12"
                                },
                                {
                                    "City": "Outlook",
                                    "NumberOfVehicles": "12"
                                },
                                {
                                    "City": "Spangle",
                                    "NumberOfVehicles": "12"
                                },
                                {
                                    "City": "Burbank",
                                    "NumberOfVehicles": "12"
                                },
                                {
                                    "City": "Coulee City",
                                    "NumberOfVehicles": "12"
                                },
                                {
                                    "City": "Mineral",
                                    "NumberOfVehicles": "11"
                                },
                                {
                                    "City": "Connell",
                                    "NumberOfVehicles": "11"
                                },
                                {
                                    "City": "Asotin",
                                    "NumberOfVehicles": "11"
                                },
                                {
                                    "City": "Silver Creek",
                                    "NumberOfVehicles": "11"
                                },
                                {
                                    "City": "Orcas Is",
                                    "NumberOfVehicles": "11"
                                },
                                {
                                    "City": "Nooksack",
                                    "NumberOfVehicles": "11"
                                },
                                {
                                    "City": "Waitsburg",
                                    "NumberOfVehicles": "10"
                                },
                                {
                                    "City": "Dallesport",
                                    "NumberOfVehicles": "10"
                                },
                                {
                                    "City": "Rosalia",
                                    "NumberOfVehicles": "10"
                                },
                                {
                                    "City": "Acme",
                                    "NumberOfVehicles": "10"
                                },
                                {
                                    "City": "Okanogan",
                                    "NumberOfVehicles": "9"
                                },
                                {
                                    "City": "Bingen",
                                    "NumberOfVehicles": "9"
                                },
                                {
                                    "City": "Kittitas",
                                    "NumberOfVehicles": "9"
                                },
                                {
                                    "City": "Colorado Springs",
                                    "NumberOfVehicles": "9"
                                },
                                {
                                    "City": "Lilliwaup",
                                    "NumberOfVehicles": "9"
                                },
                                {
                                    "City": "Seaview",
                                    "NumberOfVehicles": "9"
                                },
                                {
                                    "City": "Grand Coulee",
                                    "NumberOfVehicles": "9"
                                },
                                {
                                    "City": "Granger",
                                    "NumberOfVehicles": "9"
                                },
                                {
                                    "City": "Tieton",
                                    "NumberOfVehicles": "8"
                                },
                                {
                                    "City": "Napavine",
                                    "NumberOfVehicles": "8"
                                },
                                {
                                    "City": "Randle",
                                    "NumberOfVehicles": "8"
                                },
                                {
                                    "City": "North Cove",
                                    "NumberOfVehicles": "8"
                                },
                                {
                                    "City": "Keyport",
                                    "NumberOfVehicles": "8"
                                },
                                {
                                    "City": "Skykomish",
                                    "NumberOfVehicles": "8"
                                },
                                {
                                    "City": "Valley",
                                    "NumberOfVehicles": "8"
                                },
                                {
                                    "City": "Curlew",
                                    "NumberOfVehicles": "8"
                                },
                                {
                                    "City": "Grayland",
                                    "NumberOfVehicles": "8"
                                },
                                {
                                    "City": "Menlo",
                                    "NumberOfVehicles": "8"
                                },
                                {
                                    "City": "Reardan",
                                    "NumberOfVehicles": "8"
                                },
                                {
                                    "City": "Vader",
                                    "NumberOfVehicles": "8"
                                },
                                {
                                    "City": "Carbonado",
                                    "NumberOfVehicles": "8"
                                },
                                {
                                    "City": "Curtis",
                                    "NumberOfVehicles": "7"
                                },
                                {
                                    "City": "Garfield",
                                    "NumberOfVehicles": "7"
                                },
                                {
                                    "City": "Oysterville",
                                    "NumberOfVehicles": "7"
                                },
                                {
                                    "City": "Bz Corner",
                                    "NumberOfVehicles": "7"
                                },
                                {
                                    "City": "Touchet",
                                    "NumberOfVehicles": "7"
                                },
                                {
                                    "City": "Virginia Beach",
                                    "NumberOfVehicles": "6"
                                },
                                {
                                    "City": "Pateros",
                                    "NumberOfVehicles": "6"
                                },
                                {
                                    "City": "South Bend",
                                    "NumberOfVehicles": "6"
                                },
                                {
                                    "City": "Coulee Dam",
                                    "NumberOfVehicles": "6"
                                },
                                {
                                    "City": "Carlton",
                                    "NumberOfVehicles": "6"
                                },
                                {
                                    "City": "Ethel",
                                    "NumberOfVehicles": "6"
                                },
                                {
                                    "City": "Warden",
                                    "NumberOfVehicles": "6"
                                },
                                {
                                    "City": "Electric City",
                                    "NumberOfVehicles": "6"
                                },
                                {
                                    "City": "Mesa",
                                    "NumberOfVehicles": "6"
                                },
                                {
                                    "City": "Odessa",
                                    "NumberOfVehicles": "6"
                                },
                                {
                                    "City": "Waterville",
                                    "NumberOfVehicles": "6"
                                },
                                {
                                    "City": "Thorp",
                                    "NumberOfVehicles": "6"
                                },
                                {
                                    "City": "Evans",
                                    "NumberOfVehicles": "6"
                                },
                                {
                                    "City": "Cowiche",
                                    "NumberOfVehicles": "6"
                                },
                                {
                                    "City": "Mabton",
                                    "NumberOfVehicles": "6"
                                },
                                {
                                    "City": "Bridgeport Bar",
                                    "NumberOfVehicles": "5"
                                },
                                {
                                    "City": "Rice",
                                    "NumberOfVehicles": "5"
                                },
                                {
                                    "City": "Wilkeson",
                                    "NumberOfVehicles": "5"
                                },
                                {
                                    "City": "Salkum",
                                    "NumberOfVehicles": "5"
                                },
                                {
                                    "City": "San Antonio",
                                    "NumberOfVehicles": "5"
                                },
                                {
                                    "City": "Alexandria",
                                    "NumberOfVehicles": "5"
                                },
                                {
                                    "City": "Neah Bay",
                                    "NumberOfVehicles": "5"
                                },
                                {
                                    "City": "Mica",
                                    "NumberOfVehicles": "5"
                                },
                                {
                                    "City": "Cusick",
                                    "NumberOfVehicles": "5"
                                },
                                {
                                    "City": "Nahcotta",
                                    "NumberOfVehicles": "5"
                                },
                                {
                                    "City": "Index",
                                    "NumberOfVehicles": "5"
                                },
                                {
                                    "City": "Libertyville",
                                    "NumberOfVehicles": "5"
                                },
                                {
                                    "City": "Tekoa",
                                    "NumberOfVehicles": "5"
                                },
                                {
                                    "City": "Baring",
                                    "NumberOfVehicles": "5"
                                },
                                {
                                    "City": "Tulalip",
                                    "NumberOfVehicles": "5"
                                },
                                {
                                    "City": "Eltopia",
                                    "NumberOfVehicles": "5"
                                },
                                {
                                    "City": "Toutle",
                                    "NumberOfVehicles": "5"
                                },
                                {
                                    "City": "Oakesdale",
                                    "NumberOfVehicles": "5"
                                },
                                {
                                    "City": "Wilbur",
                                    "NumberOfVehicles": "5"
                                },
                                {
                                    "City": "Taholah",
                                    "NumberOfVehicles": "5"
                                },
                                {
                                    "City": "Riverside",
                                    "NumberOfVehicles": "4"
                                },
                                {
                                    "City": "Cinebar",
                                    "NumberOfVehicles": "4"
                                },
                                {
                                    "City": "Oceanside",
                                    "NumberOfVehicles": "4"
                                },
                                {
                                    "City": "Skamokawa",
                                    "NumberOfVehicles": "4"
                                },
                                {
                                    "City": "Uniontown",
                                    "NumberOfVehicles": "4"
                                },
                                {
                                    "City": "Moclips",
                                    "NumberOfVehicles": "4"
                                },
                                {
                                    "City": "Las Vegas",
                                    "NumberOfVehicles": "4"
                                },
                                {
                                    "City": "Lincoln",
                                    "NumberOfVehicles": "4"
                                },
                                {
                                    "City": "San Jose",
                                    "NumberOfVehicles": "4"
                                },
                                {
                                    "City": "Copalis Beach",
                                    "NumberOfVehicles": "4"
                                },
                                {
                                    "City": "Springfield",
                                    "NumberOfVehicles": "4"
                                },
                                {
                                    "City": "Chula Vista",
                                    "NumberOfVehicles": "4"
                                },
                                {
                                    "City": "Springdale",
                                    "NumberOfVehicles": "4"
                                },
                                {
                                    "City": "Rockford",
                                    "NumberOfVehicles": "4"
                                },
                                {
                                    "City": "NULL",
                                    "NumberOfVehicles": "4"
                                },
                                {
                                    "City": "South Cle Elum",
                                    "NumberOfVehicles": "4"
                                },
                                {
                                    "City": "Glenoma",
                                    "NumberOfVehicles": "4"
                                },
                                {
                                    "City": "Edwall",
                                    "NumberOfVehicles": "4"
                                },
                                {
                                    "City": "Manassas",
                                    "NumberOfVehicles": "3"
                                },
                                {
                                    "City": "Honolulu",
                                    "NumberOfVehicles": "3"
                                },
                                {
                                    "City": "Clearlake",
                                    "NumberOfVehicles": "3"
                                },
                                {
                                    "City": "Wahkiacus",
                                    "NumberOfVehicles": "3"
                                },
                                {
                                    "City": "Orcas",
                                    "NumberOfVehicles": "3"
                                },
                                {
                                    "City": "Sekiu",
                                    "NumberOfVehicles": "3"
                                },
                                {
                                    "City": "Irvine",
                                    "NumberOfVehicles": "3"
                                },
                                {
                                    "City": "Charlottesville",
                                    "NumberOfVehicles": "3"
                                },
                                {
                                    "City": "Clayton",
                                    "NumberOfVehicles": "3"
                                },
                                {
                                    "City": "Centerville",
                                    "NumberOfVehicles": "3"
                                },
                                {
                                    "City": "Grays River",
                                    "NumberOfVehicles": "3"
                                },
                                {
                                    "City": "Amanda Park",
                                    "NumberOfVehicles": "3"
                                },
                                {
                                    "City": "Washington",
                                    "NumberOfVehicles": "3"
                                },
                                {
                                    "City": "Phoenix",
                                    "NumberOfVehicles": "3"
                                },
                                {
                                    "City": "Bridgeport",
                                    "NumberOfVehicles": "3"
                                },
                                {
                                    "City": "Houston",
                                    "NumberOfVehicles": "3"
                                },
                                {
                                    "City": "Corpus Christi",
                                    "NumberOfVehicles": "3"
                                },
                                {
                                    "City": "Pasc",
                                    "NumberOfVehicles": "3"
                                },
                                {
                                    "City": "Chinook",
                                    "NumberOfVehicles": "3"
                                },
                                {
                                    "City": "Harrington",
                                    "NumberOfVehicles": "3"
                                },
                                {
                                    "City": "Quinault",
                                    "NumberOfVehicles": "3"
                                },
                                {
                                    "City": "Endicott",
                                    "NumberOfVehicles": "3"
                                },
                                {
                                    "City": "Portland",
                                    "NumberOfVehicles": "3"
                                },
                                {
                                    "City": "Ford",
                                    "NumberOfVehicles": "3"
                                },
                                {
                                    "City": "Inchelium",
                                    "NumberOfVehicles": "3"
                                },
                                {
                                    "City": "Tokeland",
                                    "NumberOfVehicles": "3"
                                },
                                {
                                    "City": "Spring Lake",
                                    "NumberOfVehicles": "3"
                                },
                                {
                                    "City": "Fort Bragg",
                                    "NumberOfVehicles": "3"
                                },
                                {
                                    "City": "Fredericksburg",
                                    "NumberOfVehicles": "3"
                                },
                                {
                                    "City": "Vienna",
                                    "NumberOfVehicles": "3"
                                },
                                {
                                    "City": "Prattville",
                                    "NumberOfVehicles": "3"
                                },
                                {
                                    "City": "Lemoore",
                                    "NumberOfVehicles": "3"
                                },
                                {
                                    "City": "Methow",
                                    "NumberOfVehicles": "3"
                                },
                                {
                                    "City": "Murdock",
                                    "NumberOfVehicles": "3"
                                },
                                {
                                    "City": "Usk",
                                    "NumberOfVehicles": "3"
                                },
                                {
                                    "City": "Elbe",
                                    "NumberOfVehicles": "3"
                                },
                                {
                                    "City": "Salem",
                                    "NumberOfVehicles": "3"
                                },
                                {
                                    "City": "Lopez Is",
                                    "NumberOfVehicles": "3"
                                },
                                {
                                    "City": "Berkeley",
                                    "NumberOfVehicles": "2"
                                },
                                {
                                    "City": "Rockport",
                                    "NumberOfVehicles": "2"
                                },
                                {
                                    "City": "Cincinnati",
                                    "NumberOfVehicles": "2"
                                },
                                {
                                    "City": "Fort Belvoir",
                                    "NumberOfVehicles": "2"
                                },
                                {
                                    "City": "Boise",
                                    "NumberOfVehicles": "2"
                                },
                                {
                                    "City": "Portsmouth",
                                    "NumberOfVehicles": "2"
                                },
                                {
                                    "City": "Ione",
                                    "NumberOfVehicles": "2"
                                },
                                {
                                    "City": "Port Gamble",
                                    "NumberOfVehicles": "2"
                                },
                                {
                                    "City": "Dumfries",
                                    "NumberOfVehicles": "2"
                                },
                                {
                                    "City": "Cougar",
                                    "NumberOfVehicles": "2"
                                },
                                {
                                    "City": "Seaside",
                                    "NumberOfVehicles": "2"
                                },
                                {
                                    "City": "Wichita Falls",
                                    "NumberOfVehicles": "2"
                                },
                                {
                                    "City": "Roosevelt",
                                    "NumberOfVehicles": "2"
                                },
                                {
                                    "City": "Wellpinit",
                                    "NumberOfVehicles": "2"
                                },
                                {
                                    "City": "Parker",
                                    "NumberOfVehicles": "2"
                                },
                                {
                                    "City": "Palisades",
                                    "NumberOfVehicles": "2"
                                },
                                {
                                    "City": "Lebam",
                                    "NumberOfVehicles": "2"
                                },
                                {
                                    "City": "Davis",
                                    "NumberOfVehicles": "2"
                                },
                                {
                                    "City": "Ann Arbor",
                                    "NumberOfVehicles": "2"
                                },
                                {
                                    "City": "Burke",
                                    "NumberOfVehicles": "2"
                                },
                                {
                                    "City": "Hartline",
                                    "NumberOfVehicles": "2"
                                },
                                {
                                    "City": "Lexington Park",
                                    "NumberOfVehicles": "2"
                                },
                                {
                                    "City": "Odenton",
                                    "NumberOfVehicles": "2"
                                },
                                {
                                    "City": "Paterson",
                                    "NumberOfVehicles": "2"
                                },
                                {
                                    "City": "Chesapeake Beach",
                                    "NumberOfVehicles": "2"
                                },
                                {
                                    "City": "Englewood",
                                    "NumberOfVehicles": "2"
                                },
                                {
                                    "City": "Satsop",
                                    "NumberOfVehicles": "2"
                                },
                                {
                                    "City": "Addy",
                                    "NumberOfVehicles": "2"
                                },
                                {
                                    "City": "Bethesda",
                                    "NumberOfVehicles": "2"
                                },
                                {
                                    "City": "Fort Irwin",
                                    "NumberOfVehicles": "2"
                                },
                                {
                                    "City": "Salt Lake City",
                                    "NumberOfVehicles": "2"
                                },
                                {
                                    "City": "Colton",
                                    "NumberOfVehicles": "2"
                                },
                                {
                                    "City": "Copalis Crossing",
                                    "NumberOfVehicles": "2"
                                },
                                {
                                    "City": "Lakeview",
                                    "NumberOfVehicles": "2"
                                },
                                {
                                    "City": "Aldie",
                                    "NumberOfVehicles": "2"
                                },
                                {
                                    "City": "Watertown",
                                    "NumberOfVehicles": "2"
                                },
                                {
                                    "City": "Deer Meadows",
                                    "NumberOfVehicles": "2"
                                },
                                {
                                    "City": "Cupertino",
                                    "NumberOfVehicles": "2"
                                },
                                {
                                    "City": "Port Hueneme",
                                    "NumberOfVehicles": "2"
                                },
                                {
                                    "City": "Belle Chasse",
                                    "NumberOfVehicles": "2"
                                },
                                {
                                    "City": "South Prairie",
                                    "NumberOfVehicles": "2"
                                },
                                {
                                    "City": "Pomeroy",
                                    "NumberOfVehicles": "2"
                                },
                                {
                                    "City": "Waldron",
                                    "NumberOfVehicles": "2"
                                },
                                {
                                    "City": "Mansfield",
                                    "NumberOfVehicles": "2"
                                },
                                {
                                    "City": "Incorporated",
                                    "NumberOfVehicles": "2"
                                },
                                {
                                    "City": "Gifford",
                                    "NumberOfVehicles": "2"
                                },
                                {
                                    "City": "Chandler",
                                    "NumberOfVehicles": "2"
                                },
                                {
                                    "City": "Waverly",
                                    "NumberOfVehicles": "2"
                                },
                                {
                                    "City": "Buena Park",
                                    "NumberOfVehicles": "2"
                                },
                                {
                                    "City": "Alameda",
                                    "NumberOfVehicles": "2"
                                },
                                {
                                    "City": "Silver Spring",
                                    "NumberOfVehicles": "2"
                                },
                                {
                                    "City": "Little Rock",
                                    "NumberOfVehicles": "2"
                                },
                                {
                                    "City": "Hunters",
                                    "NumberOfVehicles": "2"
                                },
                                {
                                    "City": "Artondale",
                                    "NumberOfVehicles": "2"
                                },
                                {
                                    "City": "El Paso",
                                    "NumberOfVehicles": "2"
                                },
                                {
                                    "City": "Marlin",
                                    "NumberOfVehicles": "2"
                                },
                                {
                                    "City": "Madison",
                                    "NumberOfVehicles": "2"
                                },
                                {
                                    "City": "Tooele",
                                    "NumberOfVehicles": "2"
                                },
                                {
                                    "City": "Fort George G Meade",
                                    "NumberOfVehicles": "2"
                                },
                                {
                                    "City": "Upper Marlboro",
                                    "NumberOfVehicles": "2"
                                },
                                {
                                    "City": "Sacramento",
                                    "NumberOfVehicles": "2"
                                },
                                {
                                    "City": "Fort Wayne",
                                    "NumberOfVehicles": "2"
                                },
                                {
                                    "City": "Lyman",
                                    "NumberOfVehicles": "2"
                                },
                                {
                                    "City": "Vacaville",
                                    "NumberOfVehicles": "2"
                                },
                                {
                                    "City": "Northport",
                                    "NumberOfVehicles": "2"
                                },
                                {
                                    "City": "Middletown",
                                    "NumberOfVehicles": "2"
                                },
                                {
                                    "City": "Austin",
                                    "NumberOfVehicles": "2"
                                },
                                {
                                    "City": "Charleston Afb",
                                    "NumberOfVehicles": "2"
                                },
                                {
                                    "City": "Shreveport",
                                    "NumberOfVehicles": "2"
                                },
                                {
                                    "City": "Lind",
                                    "NumberOfVehicles": "2"
                                },
                                {
                                    "City": "Healdsburg",
                                    "NumberOfVehicles": "2"
                                },
                                {
                                    "City": "Stafford",
                                    "NumberOfVehicles": "2"
                                },
                                {
                                    "City": "Travis Afb",
                                    "NumberOfVehicles": "2"
                                },
                                {
                                    "City": "Platte City",
                                    "NumberOfVehicles": "2"
                                },
                                {
                                    "City": "Palo Alto",
                                    "NumberOfVehicles": "2"
                                },
                                {
                                    "City": "Seven Bays",
                                    "NumberOfVehicles": "2"
                                },
                                {
                                    "City": "Kapowsin",
                                    "NumberOfVehicles": "2"
                                },
                                {
                                    "City": "Goodyear",
                                    "NumberOfVehicles": "2"
                                },
                                {
                                    "City": "Elmer City",
                                    "NumberOfVehicles": "2"
                                },
                                {
                                    "City": "Tucson",
                                    "NumberOfVehicles": "2"
                                },
                                {
                                    "City": "St John",
                                    "NumberOfVehicles": "2"
                                },
                                {
                                    "City": "Summerville",
                                    "NumberOfVehicles": "2"
                                },
                                {
                                    "City": "Chesapeake",
                                    "NumberOfVehicles": "2"
                                },
                                {
                                    "City": "New York",
                                    "NumberOfVehicles": "1"
                                },
                                {
                                    "City": "Rich",
                                    "NumberOfVehicles": "1"
                                },
                                {
                                    "City": "Martinez",
                                    "NumberOfVehicles": "1"
                                },
                                {
                                    "City": "Bucoda",
                                    "NumberOfVehicles": "1"
                                },
                                {
                                    "City": "Southlake",
                                    "NumberOfVehicles": "1"
                                },
                                {
                                    "City": "Frederick",
                                    "NumberOfVehicles": "1"
                                },
                                {
                                    "City": "Egg Harbor Township",
                                    "NumberOfVehicles": "1"
                                },
                                {
                                    "City": "Carlisle",
                                    "NumberOfVehicles": "1"
                                },
                                {
                                    "City": "Andrews Air Force Base",
                                    "NumberOfVehicles": "1"
                                },
                                {
                                    "City": "Rosburg",
                                    "NumberOfVehicles": "1"
                                },
                                {
                                    "City": "Vantage",
                                    "NumberOfVehicles": "1"
                                },
                                {
                                    "City": "Apache Junction",
                                    "NumberOfVehicles": "1"
                                },
                                {
                                    "City": "San Rafael",
                                    "NumberOfVehicles": "1"
                                },
                                {
                                    "City": "White Swan",
                                    "NumberOfVehicles": "1"
                                },
                                {
                                    "City": "Fort Leavenworth",
                                    "NumberOfVehicles": "1"
                                },
                                {
                                    "City": "Raleigh",
                                    "NumberOfVehicles": "1"
                                },
                                {
                                    "City": "Fort Huachuca",
                                    "NumberOfVehicles": "1"
                                },
                                {
                                    "City": "Jersey City",
                                    "NumberOfVehicles": "1"
                                },
                                {
                                    "City": "Smith Creek",
                                    "NumberOfVehicles": "1"
                                },
                                {
                                    "City": "Lodi",
                                    "NumberOfVehicles": "1"
                                },
                                {
                                    "City": "Hanover",
                                    "NumberOfVehicles": "1"
                                },
                                {
                                    "City": "Pensacola",
                                    "NumberOfVehicles": "1"
                                },
                                {
                                    "City": "Wishram",
                                    "NumberOfVehicles": "1"
                                },
                                {
                                    "City": "Moorpark",
                                    "NumberOfVehicles": "1"
                                },
                                {
                                    "City": "Lancaster",
                                    "NumberOfVehicles": "1"
                                },
                                {
                                    "City": "Worley",
                                    "NumberOfVehicles": "1"
                                },
                                {
                                    "City": "Los Altos",
                                    "NumberOfVehicles": "1"
                                },
                                {
                                    "City": "Herndon",
                                    "NumberOfVehicles": "1"
                                },
                                {
                                    "City": "Toano",
                                    "NumberOfVehicles": "1"
                                },
                                {
                                    "City": "Almira",
                                    "NumberOfVehicles": "1"
                                },
                                {
                                    "City": "Minneapolis",
                                    "NumberOfVehicles": "1"
                                },
                                {
                                    "City": "Sprague",
                                    "NumberOfVehicles": "1"
                                },
                                {
                                    "City": "Mobile",
                                    "NumberOfVehicles": "1"
                                },
                                {
                                    "City": "Pittsburgh",
                                    "NumberOfVehicles": "1"
                                },
                                {
                                    "City": "Providence",
                                    "NumberOfVehicles": "1"
                                },
                                {
                                    "City": "Norfolk",
                                    "NumberOfVehicles": "1"
                                },
                                {
                                    "City": "Winter Park",
                                    "NumberOfVehicles": "1"
                                },
                                {
                                    "City": "Mililani",
                                    "NumberOfVehicles": "1"
                                },
                                {
                                    "City": "Latah",
                                    "NumberOfVehicles": "1"
                                },
                                {
                                    "City": "Little Elm",
                                    "NumberOfVehicles": "1"
                                },
                                {
                                    "City": "Princeton",
                                    "NumberOfVehicles": "1"
                                },
                                {
                                    "City": "Lompoc",
                                    "NumberOfVehicles": "1"
                                },
                                {
                                    "City": "Sunnyvale",
                                    "NumberOfVehicles": "1"
                                },
                                {
                                    "City": "Aurora",
                                    "NumberOfVehicles": "1"
                                },
                                {
                                    "City": "Williamsburg",
                                    "NumberOfVehicles": "1"
                                },
                                {
                                    "City": "Pros",
                                    "NumberOfVehicles": "1"
                                },
                                {
                                    "City": "Jacksonville",
                                    "NumberOfVehicles": "1"
                                },
                                {
                                    "City": "Goshen",
                                    "NumberOfVehicles": "1"
                                },
                                {
                                    "City": "Washtucna",
                                    "NumberOfVehicles": "1"
                                },
                                {
                                    "City": "Groton",
                                    "NumberOfVehicles": "1"
                                },
                                {
                                    "City": "Tempe",
                                    "NumberOfVehicles": "1"
                                },
                                {
                                    "City": "La Mesa",
                                    "NumberOfVehicles": "1"
                                },
                                {
                                    "City": "Hanford",
                                    "NumberOfVehicles": "1"
                                },
                                {
                                    "City": "Decatur",
                                    "NumberOfVehicles": "1"
                                },
                                {
                                    "City": "Reseda",
                                    "NumberOfVehicles": "1"
                                },
                                {
                                    "City": "Wichita",
                                    "NumberOfVehicles": "1"
                                },
                                {
                                    "City": "Westminster",
                                    "NumberOfVehicles": "1"
                                },
                                {
                                    "City": "Beaver",
                                    "NumberOfVehicles": "1"
                                },
                                {
                                    "City": "Chelmsford",
                                    "NumberOfVehicles": "1"
                                },
                                {
                                    "City": "Bedford",
                                    "NumberOfVehicles": "1"
                                },
                                {
                                    "City": "Waterford",
                                    "NumberOfVehicles": "1"
                                },
                                {
                                    "City": "Pacifica",
                                    "NumberOfVehicles": "1"
                                },
                                {
                                    "City": "Killeen",
                                    "NumberOfVehicles": "1"
                                },
                                {
                                    "City": "Conyers",
                                    "NumberOfVehicles": "1"
                                },
                                {
                                    "City": "Midway City",
                                    "NumberOfVehicles": "1"
                                },
                                {
                                    "City": "Newark",
                                    "NumberOfVehicles": "1"
                                },
                                {
                                    "City": "Newport News",
                                    "NumberOfVehicles": "1"
                                },
                                {
                                    "City": "Gales Ferry",
                                    "NumberOfVehicles": "1"
                                },
                                {
                                    "City": "Woodbridge",
                                    "NumberOfVehicles": "1"
                                },
                                {
                                    "City": "Alderwood Manor",
                                    "NumberOfVehicles": "1"
                                },
                                {
                                    "City": "Logan",
                                    "NumberOfVehicles": "1"
                                },
                                {
                                    "City": "Orient",
                                    "NumberOfVehicles": "1"
                                },
                                {
                                    "City": "Redwood City",
                                    "NumberOfVehicles": "1"
                                },
                                {
                                    "City": "Holly Springs",
                                    "NumberOfVehicles": "1"
                                },
                                {
                                    "City": "Hanahan",
                                    "NumberOfVehicles": "1"
                                },
                                {
                                    "City": "West Chicago",
                                    "NumberOfVehicles": "1"
                                },
                                {
                                    "City": "Pelham",
                                    "NumberOfVehicles": "1"
                                },
                                {
                                    "City": "Malott",
                                    "NumberOfVehicles": "1"
                                },
                                {
                                    "City": "North Hollywood",
                                    "NumberOfVehicles": "1"
                                },
                                {
                                    "City": "Timnath",
                                    "NumberOfVehicles": "1"
                                },
                                {
                                    "City": "Arnold",
                                    "NumberOfVehicles": "1"
                                },
                                {
                                    "City": "Post Falls",
                                    "NumberOfVehicles": "1"
                                },
                                {
                                    "City": "Riverview",
                                    "NumberOfVehicles": "1"
                                },
                                {
                                    "City": "Newbury Park",
                                    "NumberOfVehicles": "1"
                                },
                                {
                                    "City": "Cathedral City",
                                    "NumberOfVehicles": "1"
                                },
                                {
                                    "City": "Enid",
                                    "NumberOfVehicles": "1"
                                },
                                {
                                    "City": "Chantilly",
                                    "NumberOfVehicles": "1"
                                },
                                {
                                    "City": "Waldorf",
                                    "NumberOfVehicles": "1"
                                },
                                {
                                    "City": "Sausalito",
                                    "NumberOfVehicles": "1"
                                },
                                {
                                    "City": "Marina",
                                    "NumberOfVehicles": "1"
                                },
                                {
                                    "City": "Mystic",
                                    "NumberOfVehicles": "1"
                                },
                                {
                                    "City": "Green Bay",
                                    "NumberOfVehicles": "1"
                                },
                                {
                                    "City": "Fremont",
                                    "NumberOfVehicles": "1"
                                },
                                {
                                    "City": "Trinidad",
                                    "NumberOfVehicles": "1"
                                },
                                {
                                    "City": "O Fallon",
                                    "NumberOfVehicles": "1"
                                },
                                {
                                    "City": "Holloman Air Force Base",
                                    "NumberOfVehicles": "1"
                                },
                                {
                                    "City": "Brooklyn",
                                    "NumberOfVehicles": "1"
                                },
                                {
                                    "City": "Sparks",
                                    "NumberOfVehicles": "1"
                                },
                                {
                                    "City": "Bloomfield",
                                    "NumberOfVehicles": "1"
                                },
                                {
                                    "City": "Winterville",
                                    "NumberOfVehicles": "1"
                                },
                                {
                                    "City": "Chelan Falls",
                                    "NumberOfVehicles": "1"
                                },
                                {
                                    "City": "Plymouth",
                                    "NumberOfVehicles": "1"
                                },
                                {
                                    "City": "Suffolk",
                                    "NumberOfVehicles": "1"
                                },
                                {
                                    "City": "Fort Washington",
                                    "NumberOfVehicles": "1"
                                },
                                {
                                    "City": "Monterey",
                                    "NumberOfVehicles": "1"
                                },
                                {
                                    "City": "Hanscom Afb",
                                    "NumberOfVehicles": "1"
                                },
                                {
                                    "City": "Stratford",
                                    "NumberOfVehicles": "1"
                                },
                                {
                                    "City": "Potomac",
                                    "NumberOfVehicles": "1"
                                },
                                {
                                    "City": "Klickitat",
                                    "NumberOfVehicles": "1"
                                },
                                {
                                    "City": "Prairie Ridge",
                                    "NumberOfVehicles": "1"
                                },
                                {
                                    "City": "Ridgecrest",
                                    "NumberOfVehicles": "1"
                                },
                                {
                                    "City": "Montclair",
                                    "NumberOfVehicles": "1"
                                },
                                {
                                    "City": "Cheyenne",
                                    "NumberOfVehicles": "1"
                                },
                                {
                                    "City": "Walla Walla Co",
                                    "NumberOfVehicles": "1"
                                },
                                {
                                    "City": "Joint Base Mdl",
                                    "NumberOfVehicles": "1"
                                },
                                {
                                    "City": "North Las Vegas",
                                    "NumberOfVehicles": "1"
                                },
                                {
                                    "City": "Ellicott City",
                                    "NumberOfVehicles": "1"
                                },
                                {
                                    "City": "Chapel Hill",
                                    "NumberOfVehicles": "1"
                                },
                                {
                                    "City": "Lynn",
                                    "NumberOfVehicles": "1"
                                },
                                {
                                    "City": "Moyock",
                                    "NumberOfVehicles": "1"
                                },
                                {
                                    "City": "Chicago",
                                    "NumberOfVehicles": "1"
                                },
                                {
                                    "City": "Santa Rosa",
                                    "NumberOfVehicles": "1"
                                },
                                {
                                    "City": "Home",
                                    "NumberOfVehicles": "1"
                                },
                                {
                                    "City": "Raeford",
                                    "NumberOfVehicles": "1"
                                },
                                {
                                    "City": "Hamilton",
                                    "NumberOfVehicles": "1"
                                },
                                {
                                    "City": "Dover",
                                    "NumberOfVehicles": "1"
                                },
                                {
                                    "City": "Round Rock",
                                    "NumberOfVehicles": "1"
                                },
                                {
                                    "City": "Camarillo",
                                    "NumberOfVehicles": "1"
                                },
                                {
                                    "City": "Bay Center",
                                    "NumberOfVehicles": "1"
                                },
                                {
                                    "City": "Fort Benning",
                                    "NumberOfVehicles": "1"
                                },
                                {
                                    "City": "Danville",
                                    "NumberOfVehicles": "1"
                                },
                                {
                                    "City": "Lansing",
                                    "NumberOfVehicles": "1"
                                },
                                {
                                    "City": "Atlanta",
                                    "NumberOfVehicles": "1"
                                },
                                {
                                    "City": "Champaign",
                                    "NumberOfVehicles": "1"
                                },
                                {
                                    "City": "Gunpowder",
                                    "NumberOfVehicles": "1"
                                },
                                {
                                    "City": "Old Lyme",
                                    "NumberOfVehicles": "1"
                                },
                                {
                                    "City": "Burr Ridge",
                                    "NumberOfVehicles": "1"
                                },
                                {
                                    "City": "Wildomar",
                                    "NumberOfVehicles": "1"
                                },
                                {
                                    "City": "Startup",
                                    "NumberOfVehicles": "1"
                                },
                                {
                                    "City": "Moraga",
                                    "NumberOfVehicles": "1"
                                },
                                {
                                    "City": "Mc Lean",
                                    "NumberOfVehicles": "1"
                                },
                                {
                                    "City": "Carrollton",
                                    "NumberOfVehicles": "1"
                                },
                                {
                                    "City": "Alderdale",
                                    "NumberOfVehicles": "1"
                                },
                                {
                                    "City": "Atherton",
                                    "NumberOfVehicles": "1"
                                },
                                {
                                    "City": "Conconully",
                                    "NumberOfVehicles": "1"
                                },
                                {
                                    "City": "Calera",
                                    "NumberOfVehicles": "1"
                                },
                                {
                                    "City": "Roseville",
                                    "NumberOfVehicles": "1"
                                },
                                {
                                    "City": "Bangor Base",
                                    "NumberOfVehicles": "1"
                                },
                                {
                                    "City": "Naples",
                                    "NumberOfVehicles": "1"
                                },
                                {
                                    "City": "Edwardsville",
                                    "NumberOfVehicles": "1"
                                },
                                {
                                    "City": "Hopkins",
                                    "NumberOfVehicles": "1"
                                },
                                {
                                    "City": "Whitefish",
                                    "NumberOfVehicles": "1"
                                },
                                {
                                    "City": "Frances",
                                    "NumberOfVehicles": "1"
                                },
                                {
                                    "City": "Henrico",
                                    "NumberOfVehicles": "1"
                                },
                                {
                                    "City": "Ewa Beach",
                                    "NumberOfVehicles": "1"
                                },
                                {
                                    "City": "Melbourne",
                                    "NumberOfVehicles": "1"
                                },
                                {
                                    "City": "Yorktown",
                                    "NumberOfVehicles": "1"
                                },
                                {
                                    "City": "Gambrills",
                                    "NumberOfVehicles": "1"
                                },
                                {
                                    "City": "Smiths Station",
                                    "NumberOfVehicles": "1"
                                },
                                {
                                    "City": "Elizabethtown",
                                    "NumberOfVehicles": "1"
                                },
                                {
                                    "City": "Benicia",
                                    "NumberOfVehicles": "1"
                                },
                                {
                                    "City": "Los Angeles",
                                    "NumberOfVehicles": "1"
                                },
                                {
                                    "City": "Rosamond",
                                    "NumberOfVehicles": "1"
                                },
                                {
                                    "City": "Gaithersburg",
                                    "NumberOfVehicles": "1"
                                },
                                {
                                    "City": "Lithia",
                                    "NumberOfVehicles": "1"
                                },
                                {
                                    "City": "Mountain View",
                                    "NumberOfVehicles": "1"
                                },
                                {
                                    "City": "Fayetteville",
                                    "NumberOfVehicles": "1"
                                },
                                {
                                    "City": "Miami",
                                    "NumberOfVehicles": "1"
                                },
                                {
                                    "City": "Leander",
                                    "NumberOfVehicles": "1"
                                },
                                {
                                    "City": "Kekaha",
                                    "NumberOfVehicles": "1"
                                },
                                {
                                    "City": "Hatton",
                                    "NumberOfVehicles": "1"
                                },
                                {
                                    "City": "Mccutcheon Field",
                                    "NumberOfVehicles": "1"
                                },
                                {
                                    "City": "Pacific Grove",
                                    "NumberOfVehicles": "1"
                                },
                                {
                                    "City": "Menifee",
                                    "NumberOfVehicles": "1"
                                },
                                {
                                    "City": "Hobart",
                                    "NumberOfVehicles": "1"
                                },
                                {
                                    "City": "South Lake Tahoe",
                                    "NumberOfVehicles": "1"
                                },
                                {
                                    "City": "Marblemount",
                                    "NumberOfVehicles": "1"
                                },
                                {
                                    "City": "Eagle River",
                                    "NumberOfVehicles": "1"
                                },
                                {
                                    "City": "Kihei",
                                    "NumberOfVehicles": "1"
                                },
                                {
                                    "City": "Ventura",
                                    "NumberOfVehicles": "1"
                                },
                                {
                                    "City": "Aberdeen Proving Ground",
                                    "NumberOfVehicles": "1"
                                },
                                {
                                    "City": "Saint Jacob",
                                    "NumberOfVehicles": "1"
                                },
                                {
                                    "City": "Henderson",
                                    "NumberOfVehicles": "1"
                                },
                                {
                                    "City": "Sanford",
                                    "NumberOfVehicles": "1"
                                },
                                {
                                    "City": "Mechanicsburg",
                                    "NumberOfVehicles": "1"
                                },
                                {
                                    "City": "East Brunswick",
                                    "NumberOfVehicles": "1"
                                },
                                {
                                    "City": "Bluffdale",
                                    "NumberOfVehicles": "1"
                                },
                                {
                                    "City": "Tumtum",
                                    "NumberOfVehicles": "1"
                                },
                                {
                                    "City": "San Juan Is",
                                    "NumberOfVehicles": "1"
                                },
                                {
                                    "City": "Silver Lake",
                                    "NumberOfVehicles": "1"
                                },
                                {
                                    "City": "Columbus",
                                    "NumberOfVehicles": "1"
                                },
                                {
                                    "City": "Adna",
                                    "NumberOfVehicles": "1"
                                },
                                {
                                    "City": "Kensington",
                                    "NumberOfVehicles": "1"
                                },
                                {
                                    "City": "Fresno",
                                    "NumberOfVehicles": "1"
                                },
                                {
                                    "City": "North Chesterfield",
                                    "NumberOfVehicles": "1"
                                },
                                {
                                    "City": "Gardena",
                                    "NumberOfVehicles": "1"
                                },
                                {
                                    "City": "Dickinson",
                                    "NumberOfVehicles": "1"
                                },
                                {
                                    "City": "Ogdensburg",
                                    "NumberOfVehicles": "1"
                                },
                                {
                                    "City": "Tampa",
                                    "NumberOfVehicles": "1"
                                },
                                {
                                    "City": "Folsom",
                                    "NumberOfVehicles": "1"
                                },
                                {
                                    "City": "Apple Valley",
                                    "NumberOfVehicles": "1"
                                },
                                {
                                    "City": "Clallam Bay",
                                    "NumberOfVehicles": "1"
                                },
                                {
                                    "City": "Scottsdale",
                                    "NumberOfVehicles": "1"
                                },
                                {
                                    "City": "Merrifield",
                                    "NumberOfVehicles": "1"
                                },
                                {
                                    "City": "Creston",
                                    "NumberOfVehicles": "1"
                                },
                                {
                                    "City": "Laughlin",
                                    "NumberOfVehicles": "1"
                                },
                                {
                                    "City": "Omaha",
                                    "NumberOfVehicles": "1"
                                },
                                {
                                    "City": "Okatie",
                                    "NumberOfVehicles": "1"
                                },
                                {
                                    "City": "Lisle",
                                    "NumberOfVehicles": "1"
                                },
                                {
                                    "City": "Reno",
                                    "NumberOfVehicles": "1"
                                },
                                {
                                    "City": "Vista",
                                    "NumberOfVehicles": "1"
                                },
                                {
                                    "City": "Edgewater",
                                    "NumberOfVehicles": "1"
                                },
                                {
                                    "City": "Beale Afb",
                                    "NumberOfVehicles": "1"
                                },
                                {
                                    "City": "Fort Knox",
                                    "NumberOfVehicles": "1"
                                },
                                {
                                    "City": "Ryderwood",
                                    "NumberOfVehicles": "1"
                                },
                                {
                                    "City": "Ithaca",
                                    "NumberOfVehicles": "1"
                                },
                                {
                                    "City": "Greenfield Center",
                                    "NumberOfVehicles": "1"
                                },
                                {
                                    "City": "Pella",
                                    "NumberOfVehicles": "1"
                                },
                                {
                                    "City": "Saint Robert",
                                    "NumberOfVehicles": "1"
                                },
                                {
                                    "City": "Lafayette",
                                    "NumberOfVehicles": "1"
                                },
                                {
                                    "City": "Maryhill",
                                    "NumberOfVehicles": "1"
                                },
                                {
                                    "City": "Malden",
                                    "NumberOfVehicles": "1"
                                },
                                {
                                    "City": "Lacrosse",
                                    "NumberOfVehicles": "1"
                                },
                                {
                                    "City": "Dixie",
                                    "NumberOfVehicles": "1"
                                },
                                {
                                    "City": "Westlake",
                                    "NumberOfVehicles": "1"
                                },
                                {
                                    "City": "Albion",
                                    "NumberOfVehicles": "1"
                                },
                                {
                                    "City": "Saratoga Springs",
                                    "NumberOfVehicles": "1"
                                },
                                {
                                    "City": "Kailua",
                                    "NumberOfVehicles": "1"
                                },
                                {
                                    "City": "Torrance",
                                    "NumberOfVehicles": "1"
                                },
                                {
                                    "City": "Warner Robins",
                                    "NumberOfVehicles": "1"
                                },
                                {
                                    "City": "Glenwood",
                                    "NumberOfVehicles": "1"
                                },
                                {
                                    "City": "Skokie",
                                    "NumberOfVehicles": "1"
                                },
                                {
                                    "City": "San Clemente",
                                    "NumberOfVehicles": "1"
                                },
                                {
                                    "City": "Nespelem",
                                    "NumberOfVehicles": "1"
                                },
                                {
                                    "City": "Lamont",
                                    "NumberOfVehicles": "1"
                                },
                                {
                                    "City": "Pe Ell",
                                    "NumberOfVehicles": "1"
                                },
                                {
                                    "City": "Mckinney",
                                    "NumberOfVehicles": "1"
                                },
                                {
                                    "City": "Trabuco Canyon",
                                    "NumberOfVehicles": "1"
                                },
                                {
                                    "City": "Waynesville",
                                    "NumberOfVehicles": "1"
                                },
                                {
                                    "City": "Deer Harbor",
                                    "NumberOfVehicles": "1"
                                },
                                {
                                    "City": "Dryden",
                                    "NumberOfVehicles": "1"
                                },
                                {
                                    "City": "Santa Cruz",
                                    "NumberOfVehicles": "1"
                                }
                            ]
                        },
                        "text/html": [
                            "<table>",
                            "<tr><th>City</th><th>NumberOfVehicles</th></tr>",
                            "<tr><td>Seattle</td><td>31436</td></tr>",
                            "<tr><td>Bellevue</td><td>9582</td></tr>",
                            "<tr><td>Redmond</td><td>6883</td></tr>",
                            "<tr><td>Vancouver</td><td>6744</td></tr>",
                            "<tr><td>Bothell</td><td>6278</td></tr>",
                            "<tr><td>Kirkland</td><td>5709</td></tr>",
                            "<tr><td>Sammamish</td><td>5595</td></tr>",
                            "<tr><td>Renton</td><td>5584</td></tr>",
                            "<tr><td>Olympia</td><td>4600</td></tr>",
                            "<tr><td>Tacoma</td><td>4011</td></tr>",
                            "<tr><td>Tukwila</td><td>3182</td></tr>",
                            "<tr><td>Bellingham</td><td>3171</td></tr>",
                            "<tr><td>Kent</td><td>3050</td></tr>",
                            "<tr><td>Issaquah</td><td>2958</td></tr>",
                            "<tr><td>Spokane</td><td>2950</td></tr>",
                            "<tr><td>Lynnwood</td><td>2921</td></tr>",
                            "<tr><td>Everett</td><td>2694</td></tr>",
                            "<tr><td>Woodinville</td><td>2494</td></tr>",
                            "<tr><td>Mercer Island</td><td>2464</td></tr>",
                            "<tr><td>Snohomish</td><td>2237</td></tr>",
                            "<tr><td>Shoreline</td><td>2129</td></tr>",
                            "<tr><td>Gig Harbor</td><td>2097</td></tr>",
                            "<tr><td>Auburn</td><td>2050</td></tr>",
                            "<tr><td>Edmonds</td><td>2003</td></tr>",
                            "<tr><td>Bainbridge Island</td><td>1853</td></tr>",
                            "<tr><td>Camas</td><td>1730</td></tr>",
                            "<tr><td>Maple Valley</td><td>1604</td></tr>",
                            "<tr><td>Federal Way</td><td>1556</td></tr>",
                            "<tr><td>Lake Stevens</td><td>1499</td></tr>",
                            "<tr><td>Puyallup</td><td>1466</td></tr>",
                            "<tr><td>Bremerton</td><td>1416</td></tr>",
                            "<tr><td>Marysville</td><td>1374</td></tr>",
                            "<tr><td>Seatac</td><td>1238</td></tr>",
                            "<tr><td>Port Orchard</td><td>1180</td></tr>",
                            "<tr><td>Kenmore</td><td>1080</td></tr>",
                            "<tr><td>Bonney Lake</td><td>1071</td></tr>",
                            "<tr><td>Lacey</td><td>1027</td></tr>",
                            "<tr><td>Ridgefield</td><td>1011</td></tr>",
                            "<tr><td>Richland</td><td>1001</td></tr>",
                            "<tr><td>Burien</td><td>957</td></tr>",
                            "<tr><td>Newcastle</td><td>956</td></tr>",
                            "<tr><td>Kennewick</td><td>946</td></tr>",
                            "<tr><td>Snoqualmie</td><td>944</td></tr>",
                            "<tr><td>Monroe</td><td>834</td></tr>",
                            "<tr><td>Mukilteo</td><td>829</td></tr>",
                            "<tr><td>Lakewood</td><td>813</td></tr>",
                            "<tr><td>Spokane Valley</td><td>800</td></tr>",
                            "<tr><td>North Bend</td><td>787</td></tr>",
                            "<tr><td>Poulsbo</td><td>765</td></tr>",
                            "<tr><td>Yakima</td><td>755</td></tr>",
                            "<tr><td>University Place</td><td>741</td></tr>",
                            "<tr><td>Mill Creek</td><td>737</td></tr>",
                            "<tr><td>Anacortes</td><td>732</td></tr>",
                            "<tr><td>Tumwater</td><td>722</td></tr>",
                            "<tr><td>Lake Forest Park</td><td>715</td></tr>",
                            "<tr><td>Mount Vernon</td><td>700</td></tr>",
                            "<tr><td>Vashon</td><td>668</td></tr>",
                            "<tr><td>Port Townsend</td><td>663</td></tr>",
                            "<tr><td>Sequim</td><td>642</td></tr>",
                            "<tr><td>Duvall</td><td>636</td></tr>",
                            "<tr><td>Battle Ground</td><td>630</td></tr>",
                            "<tr><td>Washougal</td><td>626</td></tr>",
                            "<tr><td>Pasco</td><td>608</td></tr>",
                            "<tr><td>South Hill</td><td>594</td></tr>",
                            "<tr><td>Covington</td><td>589</td></tr>",
                            "<tr><td>Arlington</td><td>579</td></tr>",
                            "<tr><td>Des Moines</td><td>541</td></tr>",
                            "<tr><td>Oak Harbor</td><td>511</td></tr>",
                            "<tr><td>Mountlake Terrace</td><td>489</td></tr>",
                            "<tr><td>Camano Island</td><td>486</td></tr>",
                            "<tr><td>Stanwood</td><td>471</td></tr>",
                            "<tr><td>Port Angeles</td><td>469</td></tr>",
                            "<tr><td>Wenatchee</td><td>465</td></tr>",
                            "<tr><td>Friday Harbor</td><td>456</td></tr>",
                            "<tr><td>Spanaway</td><td>440</td></tr>",
                            "<tr><td>Shelton</td><td>435</td></tr>",
                            "<tr><td>Blaine</td><td>422</td></tr>",
                            "<tr><td>Black Diamond</td><td>390</td></tr>",
                            "<tr><td>Longview</td><td>383</td></tr>",
                            "<tr><td>Carnation</td><td>382</td></tr>",
                            "<tr><td>Silverdale</td><td>380</td></tr>",
                            "<tr><td>Walla Walla</td><td>379</td></tr>",
                            "<tr><td>Ferndale</td><td>378</td></tr>",
                            "<tr><td>Enumclaw</td><td>370</td></tr>",
                            "<tr><td>Graham</td><td>360</td></tr>",
                            "<tr><td>Lake Tapps</td><td>360</td></tr>",
                            "<tr><td>Centralia</td><td>350</td></tr>",
                            "<tr><td>Clyde Hill</td><td>345</td></tr>",
                            "<tr><td>Medina</td><td>344</td></tr>",
                            "<tr><td>Moses Lake</td><td>343</td></tr>",
                            "<tr><td>Yelm</td><td>317</td></tr>",
                            "<tr><td>Brush Prairie</td><td>316</td></tr>",
                            "<tr><td>Ellensburg</td><td>316</td></tr>",
                            "<tr><td>Eastsound</td><td>302</td></tr>",
                            "<tr><td>Edgewood</td><td>299</td></tr>",
                            "<tr><td>East Wenatchee</td><td>289</td></tr>",
                            "<tr><td>Kingston</td><td>287</td></tr>",
                            "<tr><td>Pullman</td><td>284</td></tr>",
                            "<tr><td>Langley</td><td>276</td></tr>",
                            "<tr><td>Leavenworth</td><td>275</td></tr>",
                            "<tr><td>Normandy Park</td><td>273</td></tr>",
                            "<tr><td>Buckley</td><td>264</td></tr>",
                            "<tr><td>West Richland</td><td>252</td></tr>",
                            "<tr><td>Brier</td><td>249</td></tr>",
                            "<tr><td>Lynden</td><td>245</td></tr>",
                            "<tr><td>Coupeville</td><td>239</td></tr>",
                            "<tr><td>Fall City</td><td>238</td></tr>",
                            "<tr><td>Sumner</td><td>238</td></tr>",
                            "<tr><td>Liberty Lake</td><td>238</td></tr>",
                            "<tr><td>Clinton</td><td>230</td></tr>",
                            "<tr><td>Cle Elum</td><td>229</td></tr>",
                            "<tr><td>Chehalis</td><td>225</td></tr>",
                            "<tr><td>Fox Island</td><td>219</td></tr>",
                            "<tr><td>Dupont</td><td>209</td></tr>",
                            "<tr><td>Sedro-Woolley</td><td>207</td></tr>",
                            "<tr><td>La Center</td><td>203</td></tr>",
                            "<tr><td>Woodland</td><td>201</td></tr>",
                            "<tr><td>Freeland</td><td>200</td></tr>",
                            "<tr><td>Sultan</td><td>192</td></tr>",
                            "<tr><td>Kelso</td><td>188</td></tr>",
                            "<tr><td>Orting</td><td>176</td></tr>",
                            "<tr><td>Aberdeen</td><td>175</td></tr>",
                            "<tr><td>Burlington</td><td>175</td></tr>",
                            "<tr><td>Port Ludlow</td><td>173</td></tr>",
                            "<tr><td>Cheney</td><td>172</td></tr>",
                            "<tr><td>Chelan</td><td>171</td></tr>",
                            "<tr><td>Steilacoom</td><td>170</td></tr>",
                            "<tr><td>Fife</td><td>164</td></tr>",
                            "<tr><td>White Salmon</td><td>161</td></tr>",
                            "<tr><td>Granite Falls</td><td>156</td></tr>",
                            "<tr><td>Belfair</td><td>155</td></tr>",
                            "<tr><td>Yarrow Point</td><td>151</td></tr>",
                            "<tr><td>Greenacres</td><td>148</td></tr>",
                            "<tr><td>Fircrest</td><td>146</td></tr>",
                            "<tr><td>Eatonville</td><td>141</td></tr>",
                            "<tr><td>Roy</td><td>140</td></tr>",
                            "<tr><td>Ocean Shores</td><td>138</td></tr>",
                            "<tr><td>Lopez Island</td><td>137</td></tr>",
                            "<tr><td>Rochester</td><td>130</td></tr>",
                            "<tr><td>Kalama</td><td>129</td></tr>",
                            "<tr><td>Nine Mile Falls</td><td>118</td></tr>",
                            "<tr><td>Colbert</td><td>116</td></tr>",
                            "<tr><td>Quincy</td><td>114</td></tr>",
                            "<tr><td>Bow</td><td>110</td></tr>",
                            "<tr><td>Milton</td><td>106</td></tr>",
                            "<tr><td>Lakebay</td><td>106</td></tr>",
                            "<tr><td>Ravensdale</td><td>103</td></tr>",
                            "<tr><td>Tenino</td><td>102</td></tr>",
                            "<tr><td>Parkland</td><td>102</td></tr>",
                            "<tr><td>Olalla</td><td>101</td></tr>",
                            "<tr><td>Joint Base Lewis Mcchord</td><td>101</td></tr>",
                            "<tr><td>La Conner</td><td>101</td></tr>",
                            "<tr><td>Winthrop</td><td>100</td></tr>",
                            "<tr><td>Selah</td><td>98</td></tr>",
                            "<tr><td>Seabeck</td><td>96</td></tr>",
                            "<tr><td>Everson</td><td>95</td></tr>",
                            "<tr><td>Woodway</td><td>92</td></tr>",
                            "<tr><td>Montesano</td><td>89</td></tr>",
                            "<tr><td>Castle Rock</td><td>85</td></tr>",
                            "<tr><td>Allyn</td><td>84</td></tr>",
                            "<tr><td>Cashmere</td><td>82</td></tr>",
                            "<tr><td>Manson</td><td>81</td></tr>",
                            "<tr><td>Hansville</td><td>80</td></tr>",
                            "<tr><td>Greenbank</td><td>79</td></tr>",
                            "<tr><td>Elma</td><td>78</td></tr>",
                            "<tr><td>Mead</td><td>78</td></tr>",
                            "<tr><td>Ephrata</td><td>76</td></tr>",
                            "<tr><td>Deer Park</td><td>76</td></tr>",
                            "<tr><td>Pacific</td><td>75</td></tr>",
                            "<tr><td>Benton City</td><td>75</td></tr>",
                            "<tr><td>Suquamish</td><td>72</td></tr>",
                            "<tr><td>Prosser</td><td>71</td></tr>",
                            "<tr><td>Medical Lake</td><td>70</td></tr>",
                            "<tr><td>Clarkston</td><td>69</td></tr>",
                            "<tr><td>Grapeview</td><td>68</td></tr>",
                            "<tr><td>Veradale</td><td>67</td></tr>",
                            "<tr><td>Hoquiam</td><td>64</td></tr>",
                            "<tr><td>Winlock</td><td>62</td></tr>",
                            "<tr><td>Sunnyside</td><td>62</td></tr>",
                            "<tr><td>Gold Bar</td><td>61</td></tr>",
                            "<tr><td>Sedro Woolley</td><td>61</td></tr>",
                            "<tr><td>Point Roberts</td><td>61</td></tr>",
                            "<tr><td>Indianola</td><td>60</td></tr>",
                            "<tr><td>Orondo</td><td>59</td></tr>",
                            "<tr><td>College Place</td><td>59</td></tr>",
                            "<tr><td>Colville</td><td>59</td></tr>",
                            "<tr><td>Yacolt</td><td>59</td></tr>",
                            "<tr><td>Rainier</td><td>58</td></tr>",
                            "<tr><td>Hunts Point</td><td>56</td></tr>",
                            "<tr><td>Quilcene</td><td>55</td></tr>",
                            "<tr><td>Cathlamet</td><td>53</td></tr>",
                            "<tr><td>Hoodsport</td><td>53</td></tr>",
                            "<tr><td>Stevenson</td><td>52</td></tr>",
                            "<tr><td>Newman Lake</td><td>51</td></tr>",
                            "<tr><td>Beaux Arts</td><td>51</td></tr>",
                            "<tr><td>Twisp</td><td>50</td></tr>",
                            "<tr><td>Union</td><td>49</td></tr>",
                            "<tr><td>Long Beach</td><td>49</td></tr>",
                            "<tr><td>Port Hadlock</td><td>48</td></tr>",
                            "<tr><td>Othello</td><td>48</td></tr>",
                            "<tr><td>Nordland</td><td>48</td></tr>",
                            "<tr><td>Otis Orchards</td><td>47</td></tr>",
                            "<tr><td>Ronald</td><td>43</td></tr>",
                            "<tr><td>Lummi Island</td><td>41</td></tr>",
                            "<tr><td>Olga</td><td>41</td></tr>",
                            "<tr><td>Newport</td><td>41</td></tr>",
                            "<tr><td>Zillah</td><td>40</td></tr>",
                            "<tr><td>Toledo</td><td>40</td></tr>",
                            "<tr><td>Algona</td><td>38</td></tr>",
                            "<tr><td>Anderson Island</td><td>38</td></tr>",
                            "<tr><td>Chattaroy</td><td>37</td></tr>",
                            "<tr><td>Deming</td><td>37</td></tr>",
                            "<tr><td>Concrete</td><td>35</td></tr>",
                            "<tr><td>Underwood</td><td>35</td></tr>",
                            "<tr><td>Chimacum</td><td>35</td></tr>",
                            "<tr><td>Snoqualmie Pass</td><td>35</td></tr>",
                            "<tr><td>Silverlake</td><td>34</td></tr>",
                            "<tr><td>Ruston</td><td>34</td></tr>",
                            "<tr><td>Mossyrock</td><td>33</td></tr>",
                            "<tr><td>Kettle Falls</td><td>33</td></tr>",
                            "<tr><td>Grandview</td><td>33</td></tr>",
                            "<tr><td>Ocean Park</td><td>33</td></tr>",
                            "<tr><td>Mccleary</td><td>33</td></tr>",
                            "<tr><td>Preston</td><td>32</td></tr>",
                            "<tr><td>Mattawa</td><td>32</td></tr>",
                            "<tr><td>Maple Falls</td><td>32</td></tr>",
                            "<tr><td>Moxee</td><td>31</td></tr>",
                            "<tr><td>Raymond</td><td>31</td></tr>",
                            "<tr><td>Airway Heights</td><td>31</td></tr>",
                            "<tr><td>Goldendale</td><td>30</td></tr>",
                            "<tr><td>Amboy</td><td>30</td></tr>",
                            "<tr><td>Westport</td><td>29</td></tr>",
                            "<tr><td>Custer</td><td>29</td></tr>",
                            "<tr><td>Tahuya</td><td>28</td></tr>",
                            "<tr><td>Onalaska</td><td>27</td></tr>",
                            "<tr><td>Elk</td><td>27</td></tr>",
                            "<tr><td>Pacific Beach</td><td>27</td></tr>",
                            "<tr><td>Trout Lake</td><td>26</td></tr>",
                            "<tr><td>Malaga</td><td>26</td></tr>",
                            "<tr><td>Naches</td><td>26</td></tr>",
                            "<tr><td>Entiat</td><td>25</td></tr>",
                            "<tr><td>Vaughn</td><td>25</td></tr>",
                            "<tr><td>Colfax</td><td>25</td></tr>",
                            "<tr><td>Brinnon</td><td>24</td></tr>",
                            "<tr><td>Easton</td><td>24</td></tr>",
                            "<tr><td>Lyle</td><td>24</td></tr>",
                            "<tr><td>Roslyn</td><td>24</td></tr>",
                            "<tr><td>Chewelah</td><td>23</td></tr>",
                            "<tr><td>Royal City</td><td>23</td></tr>",
                            "<tr><td>Mazama</td><td>22</td></tr>",
                            "<tr><td>Carson</td><td>22</td></tr>",
                            "<tr><td>Valleyford</td><td>22</td></tr>",
                            "<tr><td>Tonasket</td><td>22</td></tr>",
                            "<tr><td>Palouse</td><td>22</td></tr>",
                            "<tr><td>Surfside</td><td>22</td></tr>",
                            "<tr><td>Oakville</td><td>22</td></tr>",
                            "<tr><td>Soap Lake</td><td>21</td></tr>",
                            "<tr><td>Peshastin</td><td>21</td></tr>",
                            "<tr><td>Longbranch</td><td>20</td></tr>",
                            "<tr><td>Packwood</td><td>20</td></tr>",
                            "<tr><td>Oroville</td><td>20</td></tr>",
                            "<tr><td>Ariel</td><td>19</td></tr>",
                            "<tr><td>Omak</td><td>19</td></tr>",
                            "<tr><td>Husum</td><td>19</td></tr>",
                            "<tr><td>Loon Lake</td><td>19</td></tr>",
                            "<tr><td>Ilwaco</td><td>17</td></tr>",
                            "<tr><td>Naselle</td><td>17</td></tr>",
                            "<tr><td>Brewster</td><td>17</td></tr>",
                            "<tr><td>Snowden</td><td>17</td></tr>",
                            "<tr><td>Forks</td><td>17</td></tr>",
                            "<tr><td>Ritzville</td><td>17</td></tr>",
                            "<tr><td>Glacier</td><td>16</td></tr>",
                            "<tr><td>Ashford</td><td>16</td></tr>",
                            "<tr><td>Cosmopolis</td><td>16</td></tr>",
                            "<tr><td>Davenport</td><td>15</td></tr>",
                            "<tr><td>Morton</td><td>15</td></tr>",
                            "<tr><td>Shaw Island</td><td>15</td></tr>",
                            "<tr><td>Dayton</td><td>15</td></tr>",
                            "<tr><td>Fairchild Air Force Base</td><td>15</td></tr>",
                            "<tr><td>Toppenish</td><td>15</td></tr>",
                            "<tr><td>Wapato</td><td>14</td></tr>",
                            "<tr><td>San Diego</td><td>14</td></tr>",
                            "<tr><td>Rock Island</td><td>13</td></tr>",
                            "<tr><td>North Bonneville</td><td>13</td></tr>",
                            "<tr><td>Republic</td><td>12</td></tr>",
                            "<tr><td>Darrington</td><td>12</td></tr>",
                            "<tr><td>Union Gap</td><td>12</td></tr>",
                            "<tr><td>Sumas</td><td>12</td></tr>",
                            "<tr><td>Outlook</td><td>12</td></tr>",
                            "<tr><td>Spangle</td><td>12</td></tr>",
                            "<tr><td>Burbank</td><td>12</td></tr>",
                            "<tr><td>Coulee City</td><td>12</td></tr>",
                            "<tr><td>Mineral</td><td>11</td></tr>",
                            "<tr><td>Connell</td><td>11</td></tr>",
                            "<tr><td>Asotin</td><td>11</td></tr>",
                            "<tr><td>Silver Creek</td><td>11</td></tr>",
                            "<tr><td>Orcas Is</td><td>11</td></tr>",
                            "<tr><td>Nooksack</td><td>11</td></tr>",
                            "<tr><td>Waitsburg</td><td>10</td></tr>",
                            "<tr><td>Dallesport</td><td>10</td></tr>",
                            "<tr><td>Rosalia</td><td>10</td></tr>",
                            "<tr><td>Acme</td><td>10</td></tr>",
                            "<tr><td>Okanogan</td><td>9</td></tr>",
                            "<tr><td>Bingen</td><td>9</td></tr>",
                            "<tr><td>Kittitas</td><td>9</td></tr>",
                            "<tr><td>Colorado Springs</td><td>9</td></tr>",
                            "<tr><td>Lilliwaup</td><td>9</td></tr>",
                            "<tr><td>Seaview</td><td>9</td></tr>",
                            "<tr><td>Grand Coulee</td><td>9</td></tr>",
                            "<tr><td>Granger</td><td>9</td></tr>",
                            "<tr><td>Tieton</td><td>8</td></tr>",
                            "<tr><td>Napavine</td><td>8</td></tr>",
                            "<tr><td>Randle</td><td>8</td></tr>",
                            "<tr><td>North Cove</td><td>8</td></tr>",
                            "<tr><td>Keyport</td><td>8</td></tr>",
                            "<tr><td>Skykomish</td><td>8</td></tr>",
                            "<tr><td>Valley</td><td>8</td></tr>",
                            "<tr><td>Curlew</td><td>8</td></tr>",
                            "<tr><td>Grayland</td><td>8</td></tr>",
                            "<tr><td>Menlo</td><td>8</td></tr>",
                            "<tr><td>Reardan</td><td>8</td></tr>",
                            "<tr><td>Vader</td><td>8</td></tr>",
                            "<tr><td>Carbonado</td><td>8</td></tr>",
                            "<tr><td>Curtis</td><td>7</td></tr>",
                            "<tr><td>Garfield</td><td>7</td></tr>",
                            "<tr><td>Oysterville</td><td>7</td></tr>",
                            "<tr><td>Bz Corner</td><td>7</td></tr>",
                            "<tr><td>Touchet</td><td>7</td></tr>",
                            "<tr><td>Virginia Beach</td><td>6</td></tr>",
                            "<tr><td>Pateros</td><td>6</td></tr>",
                            "<tr><td>South Bend</td><td>6</td></tr>",
                            "<tr><td>Coulee Dam</td><td>6</td></tr>",
                            "<tr><td>Carlton</td><td>6</td></tr>",
                            "<tr><td>Ethel</td><td>6</td></tr>",
                            "<tr><td>Warden</td><td>6</td></tr>",
                            "<tr><td>Electric City</td><td>6</td></tr>",
                            "<tr><td>Mesa</td><td>6</td></tr>",
                            "<tr><td>Odessa</td><td>6</td></tr>",
                            "<tr><td>Waterville</td><td>6</td></tr>",
                            "<tr><td>Thorp</td><td>6</td></tr>",
                            "<tr><td>Evans</td><td>6</td></tr>",
                            "<tr><td>Cowiche</td><td>6</td></tr>",
                            "<tr><td>Mabton</td><td>6</td></tr>",
                            "<tr><td>Bridgeport Bar</td><td>5</td></tr>",
                            "<tr><td>Rice</td><td>5</td></tr>",
                            "<tr><td>Wilkeson</td><td>5</td></tr>",
                            "<tr><td>Salkum</td><td>5</td></tr>",
                            "<tr><td>San Antonio</td><td>5</td></tr>",
                            "<tr><td>Alexandria</td><td>5</td></tr>",
                            "<tr><td>Neah Bay</td><td>5</td></tr>",
                            "<tr><td>Mica</td><td>5</td></tr>",
                            "<tr><td>Cusick</td><td>5</td></tr>",
                            "<tr><td>Nahcotta</td><td>5</td></tr>",
                            "<tr><td>Index</td><td>5</td></tr>",
                            "<tr><td>Libertyville</td><td>5</td></tr>",
                            "<tr><td>Tekoa</td><td>5</td></tr>",
                            "<tr><td>Baring</td><td>5</td></tr>",
                            "<tr><td>Tulalip</td><td>5</td></tr>",
                            "<tr><td>Eltopia</td><td>5</td></tr>",
                            "<tr><td>Toutle</td><td>5</td></tr>",
                            "<tr><td>Oakesdale</td><td>5</td></tr>",
                            "<tr><td>Wilbur</td><td>5</td></tr>",
                            "<tr><td>Taholah</td><td>5</td></tr>",
                            "<tr><td>Riverside</td><td>4</td></tr>",
                            "<tr><td>Cinebar</td><td>4</td></tr>",
                            "<tr><td>Oceanside</td><td>4</td></tr>",
                            "<tr><td>Skamokawa</td><td>4</td></tr>",
                            "<tr><td>Uniontown</td><td>4</td></tr>",
                            "<tr><td>Moclips</td><td>4</td></tr>",
                            "<tr><td>Las Vegas</td><td>4</td></tr>",
                            "<tr><td>Lincoln</td><td>4</td></tr>",
                            "<tr><td>San Jose</td><td>4</td></tr>",
                            "<tr><td>Copalis Beach</td><td>4</td></tr>",
                            "<tr><td>Springfield</td><td>4</td></tr>",
                            "<tr><td>Chula Vista</td><td>4</td></tr>",
                            "<tr><td>Springdale</td><td>4</td></tr>",
                            "<tr><td>Rockford</td><td>4</td></tr>",
                            "<tr><td>NULL</td><td>4</td></tr>",
                            "<tr><td>South Cle Elum</td><td>4</td></tr>",
                            "<tr><td>Glenoma</td><td>4</td></tr>",
                            "<tr><td>Edwall</td><td>4</td></tr>",
                            "<tr><td>Manassas</td><td>3</td></tr>",
                            "<tr><td>Honolulu</td><td>3</td></tr>",
                            "<tr><td>Clearlake</td><td>3</td></tr>",
                            "<tr><td>Wahkiacus</td><td>3</td></tr>",
                            "<tr><td>Orcas</td><td>3</td></tr>",
                            "<tr><td>Sekiu</td><td>3</td></tr>",
                            "<tr><td>Irvine</td><td>3</td></tr>",
                            "<tr><td>Charlottesville</td><td>3</td></tr>",
                            "<tr><td>Clayton</td><td>3</td></tr>",
                            "<tr><td>Centerville</td><td>3</td></tr>",
                            "<tr><td>Grays River</td><td>3</td></tr>",
                            "<tr><td>Amanda Park</td><td>3</td></tr>",
                            "<tr><td>Washington</td><td>3</td></tr>",
                            "<tr><td>Phoenix</td><td>3</td></tr>",
                            "<tr><td>Bridgeport</td><td>3</td></tr>",
                            "<tr><td>Houston</td><td>3</td></tr>",
                            "<tr><td>Corpus Christi</td><td>3</td></tr>",
                            "<tr><td>Pasc</td><td>3</td></tr>",
                            "<tr><td>Chinook</td><td>3</td></tr>",
                            "<tr><td>Harrington</td><td>3</td></tr>",
                            "<tr><td>Quinault</td><td>3</td></tr>",
                            "<tr><td>Endicott</td><td>3</td></tr>",
                            "<tr><td>Portland</td><td>3</td></tr>",
                            "<tr><td>Ford</td><td>3</td></tr>",
                            "<tr><td>Inchelium</td><td>3</td></tr>",
                            "<tr><td>Tokeland</td><td>3</td></tr>",
                            "<tr><td>Spring Lake</td><td>3</td></tr>",
                            "<tr><td>Fort Bragg</td><td>3</td></tr>",
                            "<tr><td>Fredericksburg</td><td>3</td></tr>",
                            "<tr><td>Vienna</td><td>3</td></tr>",
                            "<tr><td>Prattville</td><td>3</td></tr>",
                            "<tr><td>Lemoore</td><td>3</td></tr>",
                            "<tr><td>Methow</td><td>3</td></tr>",
                            "<tr><td>Murdock</td><td>3</td></tr>",
                            "<tr><td>Usk</td><td>3</td></tr>",
                            "<tr><td>Elbe</td><td>3</td></tr>",
                            "<tr><td>Salem</td><td>3</td></tr>",
                            "<tr><td>Lopez Is</td><td>3</td></tr>",
                            "<tr><td>Berkeley</td><td>2</td></tr>",
                            "<tr><td>Rockport</td><td>2</td></tr>",
                            "<tr><td>Cincinnati</td><td>2</td></tr>",
                            "<tr><td>Fort Belvoir</td><td>2</td></tr>",
                            "<tr><td>Boise</td><td>2</td></tr>",
                            "<tr><td>Portsmouth</td><td>2</td></tr>",
                            "<tr><td>Ione</td><td>2</td></tr>",
                            "<tr><td>Port Gamble</td><td>2</td></tr>",
                            "<tr><td>Dumfries</td><td>2</td></tr>",
                            "<tr><td>Cougar</td><td>2</td></tr>",
                            "<tr><td>Seaside</td><td>2</td></tr>",
                            "<tr><td>Wichita Falls</td><td>2</td></tr>",
                            "<tr><td>Roosevelt</td><td>2</td></tr>",
                            "<tr><td>Wellpinit</td><td>2</td></tr>",
                            "<tr><td>Parker</td><td>2</td></tr>",
                            "<tr><td>Palisades</td><td>2</td></tr>",
                            "<tr><td>Lebam</td><td>2</td></tr>",
                            "<tr><td>Davis</td><td>2</td></tr>",
                            "<tr><td>Ann Arbor</td><td>2</td></tr>",
                            "<tr><td>Burke</td><td>2</td></tr>",
                            "<tr><td>Hartline</td><td>2</td></tr>",
                            "<tr><td>Lexington Park</td><td>2</td></tr>",
                            "<tr><td>Odenton</td><td>2</td></tr>",
                            "<tr><td>Paterson</td><td>2</td></tr>",
                            "<tr><td>Chesapeake Beach</td><td>2</td></tr>",
                            "<tr><td>Englewood</td><td>2</td></tr>",
                            "<tr><td>Satsop</td><td>2</td></tr>",
                            "<tr><td>Addy</td><td>2</td></tr>",
                            "<tr><td>Bethesda</td><td>2</td></tr>",
                            "<tr><td>Fort Irwin</td><td>2</td></tr>",
                            "<tr><td>Salt Lake City</td><td>2</td></tr>",
                            "<tr><td>Colton</td><td>2</td></tr>",
                            "<tr><td>Copalis Crossing</td><td>2</td></tr>",
                            "<tr><td>Lakeview</td><td>2</td></tr>",
                            "<tr><td>Aldie</td><td>2</td></tr>",
                            "<tr><td>Watertown</td><td>2</td></tr>",
                            "<tr><td>Deer Meadows</td><td>2</td></tr>",
                            "<tr><td>Cupertino</td><td>2</td></tr>",
                            "<tr><td>Port Hueneme</td><td>2</td></tr>",
                            "<tr><td>Belle Chasse</td><td>2</td></tr>",
                            "<tr><td>South Prairie</td><td>2</td></tr>",
                            "<tr><td>Pomeroy</td><td>2</td></tr>",
                            "<tr><td>Waldron</td><td>2</td></tr>",
                            "<tr><td>Mansfield</td><td>2</td></tr>",
                            "<tr><td>Incorporated</td><td>2</td></tr>",
                            "<tr><td>Gifford</td><td>2</td></tr>",
                            "<tr><td>Chandler</td><td>2</td></tr>",
                            "<tr><td>Waverly</td><td>2</td></tr>",
                            "<tr><td>Buena Park</td><td>2</td></tr>",
                            "<tr><td>Alameda</td><td>2</td></tr>",
                            "<tr><td>Silver Spring</td><td>2</td></tr>",
                            "<tr><td>Little Rock</td><td>2</td></tr>",
                            "<tr><td>Hunters</td><td>2</td></tr>",
                            "<tr><td>Artondale</td><td>2</td></tr>",
                            "<tr><td>El Paso</td><td>2</td></tr>",
                            "<tr><td>Marlin</td><td>2</td></tr>",
                            "<tr><td>Madison</td><td>2</td></tr>",
                            "<tr><td>Tooele</td><td>2</td></tr>",
                            "<tr><td>Fort George G Meade</td><td>2</td></tr>",
                            "<tr><td>Upper Marlboro</td><td>2</td></tr>",
                            "<tr><td>Sacramento</td><td>2</td></tr>",
                            "<tr><td>Fort Wayne</td><td>2</td></tr>",
                            "<tr><td>Lyman</td><td>2</td></tr>",
                            "<tr><td>Vacaville</td><td>2</td></tr>",
                            "<tr><td>Northport</td><td>2</td></tr>",
                            "<tr><td>Middletown</td><td>2</td></tr>",
                            "<tr><td>Austin</td><td>2</td></tr>",
                            "<tr><td>Charleston Afb</td><td>2</td></tr>",
                            "<tr><td>Shreveport</td><td>2</td></tr>",
                            "<tr><td>Lind</td><td>2</td></tr>",
                            "<tr><td>Healdsburg</td><td>2</td></tr>",
                            "<tr><td>Stafford</td><td>2</td></tr>",
                            "<tr><td>Travis Afb</td><td>2</td></tr>",
                            "<tr><td>Platte City</td><td>2</td></tr>",
                            "<tr><td>Palo Alto</td><td>2</td></tr>",
                            "<tr><td>Seven Bays</td><td>2</td></tr>",
                            "<tr><td>Kapowsin</td><td>2</td></tr>",
                            "<tr><td>Goodyear</td><td>2</td></tr>",
                            "<tr><td>Elmer City</td><td>2</td></tr>",
                            "<tr><td>Tucson</td><td>2</td></tr>",
                            "<tr><td>St John</td><td>2</td></tr>",
                            "<tr><td>Summerville</td><td>2</td></tr>",
                            "<tr><td>Chesapeake</td><td>2</td></tr>",
                            "<tr><td>New York</td><td>1</td></tr>",
                            "<tr><td>Rich</td><td>1</td></tr>",
                            "<tr><td>Martinez</td><td>1</td></tr>",
                            "<tr><td>Bucoda</td><td>1</td></tr>",
                            "<tr><td>Southlake</td><td>1</td></tr>",
                            "<tr><td>Frederick</td><td>1</td></tr>",
                            "<tr><td>Egg Harbor Township</td><td>1</td></tr>",
                            "<tr><td>Carlisle</td><td>1</td></tr>",
                            "<tr><td>Andrews Air Force Base</td><td>1</td></tr>",
                            "<tr><td>Rosburg</td><td>1</td></tr>",
                            "<tr><td>Vantage</td><td>1</td></tr>",
                            "<tr><td>Apache Junction</td><td>1</td></tr>",
                            "<tr><td>San Rafael</td><td>1</td></tr>",
                            "<tr><td>White Swan</td><td>1</td></tr>",
                            "<tr><td>Fort Leavenworth</td><td>1</td></tr>",
                            "<tr><td>Raleigh</td><td>1</td></tr>",
                            "<tr><td>Fort Huachuca</td><td>1</td></tr>",
                            "<tr><td>Jersey City</td><td>1</td></tr>",
                            "<tr><td>Smith Creek</td><td>1</td></tr>",
                            "<tr><td>Lodi</td><td>1</td></tr>",
                            "<tr><td>Hanover</td><td>1</td></tr>",
                            "<tr><td>Pensacola</td><td>1</td></tr>",
                            "<tr><td>Wishram</td><td>1</td></tr>",
                            "<tr><td>Moorpark</td><td>1</td></tr>",
                            "<tr><td>Lancaster</td><td>1</td></tr>",
                            "<tr><td>Worley</td><td>1</td></tr>",
                            "<tr><td>Los Altos</td><td>1</td></tr>",
                            "<tr><td>Herndon</td><td>1</td></tr>",
                            "<tr><td>Toano</td><td>1</td></tr>",
                            "<tr><td>Almira</td><td>1</td></tr>",
                            "<tr><td>Minneapolis</td><td>1</td></tr>",
                            "<tr><td>Sprague</td><td>1</td></tr>",
                            "<tr><td>Mobile</td><td>1</td></tr>",
                            "<tr><td>Pittsburgh</td><td>1</td></tr>",
                            "<tr><td>Providence</td><td>1</td></tr>",
                            "<tr><td>Norfolk</td><td>1</td></tr>",
                            "<tr><td>Winter Park</td><td>1</td></tr>",
                            "<tr><td>Mililani</td><td>1</td></tr>",
                            "<tr><td>Latah</td><td>1</td></tr>",
                            "<tr><td>Little Elm</td><td>1</td></tr>",
                            "<tr><td>Princeton</td><td>1</td></tr>",
                            "<tr><td>Lompoc</td><td>1</td></tr>",
                            "<tr><td>Sunnyvale</td><td>1</td></tr>",
                            "<tr><td>Aurora</td><td>1</td></tr>",
                            "<tr><td>Williamsburg</td><td>1</td></tr>",
                            "<tr><td>Pros</td><td>1</td></tr>",
                            "<tr><td>Jacksonville</td><td>1</td></tr>",
                            "<tr><td>Goshen</td><td>1</td></tr>",
                            "<tr><td>Washtucna</td><td>1</td></tr>",
                            "<tr><td>Groton</td><td>1</td></tr>",
                            "<tr><td>Tempe</td><td>1</td></tr>",
                            "<tr><td>La Mesa</td><td>1</td></tr>",
                            "<tr><td>Hanford</td><td>1</td></tr>",
                            "<tr><td>Decatur</td><td>1</td></tr>",
                            "<tr><td>Reseda</td><td>1</td></tr>",
                            "<tr><td>Wichita</td><td>1</td></tr>",
                            "<tr><td>Westminster</td><td>1</td></tr>",
                            "<tr><td>Beaver</td><td>1</td></tr>",
                            "<tr><td>Chelmsford</td><td>1</td></tr>",
                            "<tr><td>Bedford</td><td>1</td></tr>",
                            "<tr><td>Waterford</td><td>1</td></tr>",
                            "<tr><td>Pacifica</td><td>1</td></tr>",
                            "<tr><td>Killeen</td><td>1</td></tr>",
                            "<tr><td>Conyers</td><td>1</td></tr>",
                            "<tr><td>Midway City</td><td>1</td></tr>",
                            "<tr><td>Newark</td><td>1</td></tr>",
                            "<tr><td>Newport News</td><td>1</td></tr>",
                            "<tr><td>Gales Ferry</td><td>1</td></tr>",
                            "<tr><td>Woodbridge</td><td>1</td></tr>",
                            "<tr><td>Alderwood Manor</td><td>1</td></tr>",
                            "<tr><td>Logan</td><td>1</td></tr>",
                            "<tr><td>Orient</td><td>1</td></tr>",
                            "<tr><td>Redwood City</td><td>1</td></tr>",
                            "<tr><td>Holly Springs</td><td>1</td></tr>",
                            "<tr><td>Hanahan</td><td>1</td></tr>",
                            "<tr><td>West Chicago</td><td>1</td></tr>",
                            "<tr><td>Pelham</td><td>1</td></tr>",
                            "<tr><td>Malott</td><td>1</td></tr>",
                            "<tr><td>North Hollywood</td><td>1</td></tr>",
                            "<tr><td>Timnath</td><td>1</td></tr>",
                            "<tr><td>Arnold</td><td>1</td></tr>",
                            "<tr><td>Post Falls</td><td>1</td></tr>",
                            "<tr><td>Riverview</td><td>1</td></tr>",
                            "<tr><td>Newbury Park</td><td>1</td></tr>",
                            "<tr><td>Cathedral City</td><td>1</td></tr>",
                            "<tr><td>Enid</td><td>1</td></tr>",
                            "<tr><td>Chantilly</td><td>1</td></tr>",
                            "<tr><td>Waldorf</td><td>1</td></tr>",
                            "<tr><td>Sausalito</td><td>1</td></tr>",
                            "<tr><td>Marina</td><td>1</td></tr>",
                            "<tr><td>Mystic</td><td>1</td></tr>",
                            "<tr><td>Green Bay</td><td>1</td></tr>",
                            "<tr><td>Fremont</td><td>1</td></tr>",
                            "<tr><td>Trinidad</td><td>1</td></tr>",
                            "<tr><td>O Fallon</td><td>1</td></tr>",
                            "<tr><td>Holloman Air Force Base</td><td>1</td></tr>",
                            "<tr><td>Brooklyn</td><td>1</td></tr>",
                            "<tr><td>Sparks</td><td>1</td></tr>",
                            "<tr><td>Bloomfield</td><td>1</td></tr>",
                            "<tr><td>Winterville</td><td>1</td></tr>",
                            "<tr><td>Chelan Falls</td><td>1</td></tr>",
                            "<tr><td>Plymouth</td><td>1</td></tr>",
                            "<tr><td>Suffolk</td><td>1</td></tr>",
                            "<tr><td>Fort Washington</td><td>1</td></tr>",
                            "<tr><td>Monterey</td><td>1</td></tr>",
                            "<tr><td>Hanscom Afb</td><td>1</td></tr>",
                            "<tr><td>Stratford</td><td>1</td></tr>",
                            "<tr><td>Potomac</td><td>1</td></tr>",
                            "<tr><td>Klickitat</td><td>1</td></tr>",
                            "<tr><td>Prairie Ridge</td><td>1</td></tr>",
                            "<tr><td>Ridgecrest</td><td>1</td></tr>",
                            "<tr><td>Montclair</td><td>1</td></tr>",
                            "<tr><td>Cheyenne</td><td>1</td></tr>",
                            "<tr><td>Walla Walla Co</td><td>1</td></tr>",
                            "<tr><td>Joint Base Mdl</td><td>1</td></tr>",
                            "<tr><td>North Las Vegas</td><td>1</td></tr>",
                            "<tr><td>Ellicott City</td><td>1</td></tr>",
                            "<tr><td>Chapel Hill</td><td>1</td></tr>",
                            "<tr><td>Lynn</td><td>1</td></tr>",
                            "<tr><td>Moyock</td><td>1</td></tr>",
                            "<tr><td>Chicago</td><td>1</td></tr>",
                            "<tr><td>Santa Rosa</td><td>1</td></tr>",
                            "<tr><td>Home</td><td>1</td></tr>",
                            "<tr><td>Raeford</td><td>1</td></tr>",
                            "<tr><td>Hamilton</td><td>1</td></tr>",
                            "<tr><td>Dover</td><td>1</td></tr>",
                            "<tr><td>Round Rock</td><td>1</td></tr>",
                            "<tr><td>Camarillo</td><td>1</td></tr>",
                            "<tr><td>Bay Center</td><td>1</td></tr>",
                            "<tr><td>Fort Benning</td><td>1</td></tr>",
                            "<tr><td>Danville</td><td>1</td></tr>",
                            "<tr><td>Lansing</td><td>1</td></tr>",
                            "<tr><td>Atlanta</td><td>1</td></tr>",
                            "<tr><td>Champaign</td><td>1</td></tr>",
                            "<tr><td>Gunpowder</td><td>1</td></tr>",
                            "<tr><td>Old Lyme</td><td>1</td></tr>",
                            "<tr><td>Burr Ridge</td><td>1</td></tr>",
                            "<tr><td>Wildomar</td><td>1</td></tr>",
                            "<tr><td>Startup</td><td>1</td></tr>",
                            "<tr><td>Moraga</td><td>1</td></tr>",
                            "<tr><td>Mc Lean</td><td>1</td></tr>",
                            "<tr><td>Carrollton</td><td>1</td></tr>",
                            "<tr><td>Alderdale</td><td>1</td></tr>",
                            "<tr><td>Atherton</td><td>1</td></tr>",
                            "<tr><td>Conconully</td><td>1</td></tr>",
                            "<tr><td>Calera</td><td>1</td></tr>",
                            "<tr><td>Roseville</td><td>1</td></tr>",
                            "<tr><td>Bangor Base</td><td>1</td></tr>",
                            "<tr><td>Naples</td><td>1</td></tr>",
                            "<tr><td>Edwardsville</td><td>1</td></tr>",
                            "<tr><td>Hopkins</td><td>1</td></tr>",
                            "<tr><td>Whitefish</td><td>1</td></tr>",
                            "<tr><td>Frances</td><td>1</td></tr>",
                            "<tr><td>Henrico</td><td>1</td></tr>",
                            "<tr><td>Ewa Beach</td><td>1</td></tr>",
                            "<tr><td>Melbourne</td><td>1</td></tr>",
                            "<tr><td>Yorktown</td><td>1</td></tr>",
                            "<tr><td>Gambrills</td><td>1</td></tr>",
                            "<tr><td>Smiths Station</td><td>1</td></tr>",
                            "<tr><td>Elizabethtown</td><td>1</td></tr>",
                            "<tr><td>Benicia</td><td>1</td></tr>",
                            "<tr><td>Los Angeles</td><td>1</td></tr>",
                            "<tr><td>Rosamond</td><td>1</td></tr>",
                            "<tr><td>Gaithersburg</td><td>1</td></tr>",
                            "<tr><td>Lithia</td><td>1</td></tr>",
                            "<tr><td>Mountain View</td><td>1</td></tr>",
                            "<tr><td>Fayetteville</td><td>1</td></tr>",
                            "<tr><td>Miami</td><td>1</td></tr>",
                            "<tr><td>Leander</td><td>1</td></tr>",
                            "<tr><td>Kekaha</td><td>1</td></tr>",
                            "<tr><td>Hatton</td><td>1</td></tr>",
                            "<tr><td>Mccutcheon Field</td><td>1</td></tr>",
                            "<tr><td>Pacific Grove</td><td>1</td></tr>",
                            "<tr><td>Menifee</td><td>1</td></tr>",
                            "<tr><td>Hobart</td><td>1</td></tr>",
                            "<tr><td>South Lake Tahoe</td><td>1</td></tr>",
                            "<tr><td>Marblemount</td><td>1</td></tr>",
                            "<tr><td>Eagle River</td><td>1</td></tr>",
                            "<tr><td>Kihei</td><td>1</td></tr>",
                            "<tr><td>Ventura</td><td>1</td></tr>",
                            "<tr><td>Aberdeen Proving Ground</td><td>1</td></tr>",
                            "<tr><td>Saint Jacob</td><td>1</td></tr>",
                            "<tr><td>Henderson</td><td>1</td></tr>",
                            "<tr><td>Sanford</td><td>1</td></tr>",
                            "<tr><td>Mechanicsburg</td><td>1</td></tr>",
                            "<tr><td>East Brunswick</td><td>1</td></tr>",
                            "<tr><td>Bluffdale</td><td>1</td></tr>",
                            "<tr><td>Tumtum</td><td>1</td></tr>",
                            "<tr><td>San Juan Is</td><td>1</td></tr>",
                            "<tr><td>Silver Lake</td><td>1</td></tr>",
                            "<tr><td>Columbus</td><td>1</td></tr>",
                            "<tr><td>Adna</td><td>1</td></tr>",
                            "<tr><td>Kensington</td><td>1</td></tr>",
                            "<tr><td>Fresno</td><td>1</td></tr>",
                            "<tr><td>North Chesterfield</td><td>1</td></tr>",
                            "<tr><td>Gardena</td><td>1</td></tr>",
                            "<tr><td>Dickinson</td><td>1</td></tr>",
                            "<tr><td>Ogdensburg</td><td>1</td></tr>",
                            "<tr><td>Tampa</td><td>1</td></tr>",
                            "<tr><td>Folsom</td><td>1</td></tr>",
                            "<tr><td>Apple Valley</td><td>1</td></tr>",
                            "<tr><td>Clallam Bay</td><td>1</td></tr>",
                            "<tr><td>Scottsdale</td><td>1</td></tr>",
                            "<tr><td>Merrifield</td><td>1</td></tr>",
                            "<tr><td>Creston</td><td>1</td></tr>",
                            "<tr><td>Laughlin</td><td>1</td></tr>",
                            "<tr><td>Omaha</td><td>1</td></tr>",
                            "<tr><td>Okatie</td><td>1</td></tr>",
                            "<tr><td>Lisle</td><td>1</td></tr>",
                            "<tr><td>Reno</td><td>1</td></tr>",
                            "<tr><td>Vista</td><td>1</td></tr>",
                            "<tr><td>Edgewater</td><td>1</td></tr>",
                            "<tr><td>Beale Afb</td><td>1</td></tr>",
                            "<tr><td>Fort Knox</td><td>1</td></tr>",
                            "<tr><td>Ryderwood</td><td>1</td></tr>",
                            "<tr><td>Ithaca</td><td>1</td></tr>",
                            "<tr><td>Greenfield Center</td><td>1</td></tr>",
                            "<tr><td>Pella</td><td>1</td></tr>",
                            "<tr><td>Saint Robert</td><td>1</td></tr>",
                            "<tr><td>Lafayette</td><td>1</td></tr>",
                            "<tr><td>Maryhill</td><td>1</td></tr>",
                            "<tr><td>Malden</td><td>1</td></tr>",
                            "<tr><td>Lacrosse</td><td>1</td></tr>",
                            "<tr><td>Dixie</td><td>1</td></tr>",
                            "<tr><td>Westlake</td><td>1</td></tr>",
                            "<tr><td>Albion</td><td>1</td></tr>",
                            "<tr><td>Saratoga Springs</td><td>1</td></tr>",
                            "<tr><td>Kailua</td><td>1</td></tr>",
                            "<tr><td>Torrance</td><td>1</td></tr>",
                            "<tr><td>Warner Robins</td><td>1</td></tr>",
                            "<tr><td>Glenwood</td><td>1</td></tr>",
                            "<tr><td>Skokie</td><td>1</td></tr>",
                            "<tr><td>San Clemente</td><td>1</td></tr>",
                            "<tr><td>Nespelem</td><td>1</td></tr>",
                            "<tr><td>Lamont</td><td>1</td></tr>",
                            "<tr><td>Pe Ell</td><td>1</td></tr>",
                            "<tr><td>Mckinney</td><td>1</td></tr>",
                            "<tr><td>Trabuco Canyon</td><td>1</td></tr>",
                            "<tr><td>Waynesville</td><td>1</td></tr>",
                            "<tr><td>Deer Harbor</td><td>1</td></tr>",
                            "<tr><td>Dryden</td><td>1</td></tr>",
                            "<tr><td>Santa Cruz</td><td>1</td></tr>",
                            "</table>"
                        ]
                    }
                }
            ],
            "execution_count": 14
        },
        {
            "cell_type": "markdown",
            "source": [
                "### 4. Electric Vehicle Types (BEVs vs. PHEVs)"
            ],
            "metadata": {
                "language": "sql",
                "azdata_cell_guid": "1693c269-26bd-4a39-9e0b-e9c5765c8713"
            },
            "attachments": {}
        },
        {
            "cell_type": "markdown",
            "source": [
                "This chart compares the number of Battery Electric Vehicles (BEVs) to Plug-in Hybrid Electric Vehicles (PHEVs), illustrating the proportions of each type in the overall population."
            ],
            "metadata": {
                "language": "sql",
                "azdata_cell_guid": "a3fe761b-6e8d-419d-a924-c018f68a2f76"
            },
            "attachments": {}
        },
        {
            "cell_type": "code",
            "source": [
                "SELECT EVType,\r\n",
                "       COUNT(*) AS NumberOfVehicles\r\n",
                "FROM AzureProject.dbo.EVPopulationWA\r\n",
                "GROUP BY EVType;"
            ],
            "metadata": {
                "language": "sql",
                "azdata_cell_guid": "94e9c27e-eb56-4e2b-8d5c-d79c0c42699e"
            },
            "outputs": [
                {
                    "output_type": "display_data",
                    "data": {
                        "text/html": "(2 rows affected)"
                    },
                    "metadata": {}
                },
                {
                    "output_type": "display_data",
                    "data": {
                        "text/html": "Total execution time: 00:00:04.558"
                    },
                    "metadata": {}
                },
                {
                    "output_type": "execute_result",
                    "metadata": {
                        "azdata_chartOptions": {
                            "type": "horizontalBar",
                            "dataDirection": "horizontal",
                            "columnsAsLabels": true,
                            "labelFirstColumn": true,
                            "legendPosition": "top",
                            "encoding": "hex",
                            "imageFormat": "jpeg",
                            "dataType": "number"
                        }
                    },
                    "execution_count": 17,
                    "data": {
                        "application/vnd.dataresource+json": {
                            "schema": {
                                "fields": [
                                    {
                                        "name": "EVType"
                                    },
                                    {
                                        "name": "NumberOfVehicles"
                                    }
                                ]
                            },
                            "data": [
                                {
                                    "EVType": "Battery Electric Vehicle (BEV)",
                                    "NumberOfVehicles": "149687"
                                },
                                {
                                    "EVType": "Plug-in Hybrid Electric Vehicle (PHEV)",
                                    "NumberOfVehicles": "41720"
                                }
                            ]
                        },
                        "text/html": [
                            "<table>",
                            "<tr><th>EVType</th><th>NumberOfVehicles</th></tr>",
                            "<tr><td>Battery Electric Vehicle (BEV)</td><td>149687</td></tr>",
                            "<tr><td>Plug-in Hybrid Electric Vehicle (PHEV)</td><td>41720</td></tr>",
                            "</table>"
                        ]
                    }
                }
            ],
            "execution_count": 17
        },
        {
            "cell_type": "markdown",
            "source": [
                "### 5\\. SandDance Visualization"
            ],
            "metadata": {
                "language": "sql",
                "azdata_cell_guid": "6b0a26f7-9fe6-4174-8cea-67df41139cfb"
            },
            "attachments": {}
        },
        {
            "cell_type": "code",
            "source": [
                "SELECT Model,\r\n",
                "       ModelYear,\r\n",
                "       COUNT(*) AS NumberOfVehicles\r\n",
                "FROM AzureProject.dbo.EVPopulationWA\r\n",
                "GROUP BY Model, ModelYear\r\n",
                "ORDER BY ModelYear;"
            ],
            "metadata": {
                "language": "sql",
                "azdata_cell_guid": "357969c5-8591-4427-998d-36c3cbba13ab"
            },
            "outputs": [
                {
                    "output_type": "display_data",
                    "data": {
                        "text/html": "(505 rows affected)"
                    },
                    "metadata": {}
                },
                {
                    "output_type": "display_data",
                    "data": {
                        "text/html": "Total execution time: 00:03:13.403"
                    },
                    "metadata": {}
                },
                {
                    "output_type": "execute_result",
                    "metadata": {
                        "azdata_chartOptions": {
                            "type": "timeSeries",
                            "dataDirection": "vertical",
                            "columnsAsLabels": true,
                            "labelFirstColumn": false,
                            "legendPosition": "none",
                            "dataType": "number",
                            "xAxisMin": "2014-01-02T20:12"
                        }
                    },
                    "execution_count": 19,
                    "data": {
                        "application/vnd.dataresource+json": {
                            "schema": {
                                "fields": [
                                    {
                                        "name": "Model"
                                    },
                                    {
                                        "name": "ModelYear"
                                    },
                                    {
                                        "name": "NumberOfVehicles"
                                    }
                                ]
                            },
                            "data": [
                                {
                                    "Model": "S-10 PICKUP",
                                    "ModelYear": "1997",
                                    "NumberOfVehicles": "1"
                                },
                                {
                                    "Model": "RANGER",
                                    "ModelYear": "1998",
                                    "NumberOfVehicles": "1"
                                },
                                {
                                    "Model": "RANGER",
                                    "ModelYear": "1999",
                                    "NumberOfVehicles": "5"
                                },
                                {
                                    "Model": "RANGER",
                                    "ModelYear": "2000",
                                    "NumberOfVehicles": "7"
                                },
                                {
                                    "Model": "RAV4",
                                    "ModelYear": "2002",
                                    "NumberOfVehicles": "2"
                                },
                                {
                                    "Model": "RAV4",
                                    "ModelYear": "2003",
                                    "NumberOfVehicles": "1"
                                },
                                {
                                    "Model": "ROADSTER",
                                    "ModelYear": "2008",
                                    "NumberOfVehicles": "21"
                                },
                                {
                                    "Model": "ROADSTER",
                                    "ModelYear": "2010",
                                    "NumberOfVehicles": "21"
                                },
                                {
                                    "Model": "WHEEGO",
                                    "ModelYear": "2010",
                                    "NumberOfVehicles": "3"
                                },
                                {
                                    "Model": "TRANSIT CONNECT ELECTRIC",
                                    "ModelYear": "2011",
                                    "NumberOfVehicles": "5"
                                },
                                {
                                    "Model": "LEAF",
                                    "ModelYear": "2011",
                                    "NumberOfVehicles": "652"
                                },
                                {
                                    "Model": "ROADSTER",
                                    "ModelYear": "2011",
                                    "NumberOfVehicles": "6"
                                },
                                {
                                    "Model": "CITY",
                                    "ModelYear": "2011",
                                    "NumberOfVehicles": "5"
                                },
                                {
                                    "Model": "VOLT",
                                    "ModelYear": "2011",
                                    "NumberOfVehicles": "68"
                                },
                                {
                                    "Model": "MODEL S",
                                    "ModelYear": "2012",
                                    "NumberOfVehicles": "130"
                                },
                                {
                                    "Model": "FOCUS",
                                    "ModelYear": "2012",
                                    "NumberOfVehicles": "12"
                                },
                                {
                                    "Model": "VOLT",
                                    "ModelYear": "2012",
                                    "NumberOfVehicles": "456"
                                },
                                {
                                    "Model": "LEAF",
                                    "ModelYear": "2012",
                                    "NumberOfVehicles": "556"
                                },
                                {
                                    "Model": "RAV4",
                                    "ModelYear": "2012",
                                    "NumberOfVehicles": "9"
                                },
                                {
                                    "Model": "PRIUS PLUG-IN",
                                    "ModelYear": "2012",
                                    "NumberOfVehicles": "378"
                                },
                                {
                                    "Model": "KARMA",
                                    "ModelYear": "2012",
                                    "NumberOfVehicles": "11"
                                },
                                {
                                    "Model": "TRANSIT CONNECT ELECTRIC",
                                    "ModelYear": "2012",
                                    "NumberOfVehicles": "3"
                                },
                                {
                                    "Model": "I-MIEV",
                                    "ModelYear": "2012",
                                    "NumberOfVehicles": "40"
                                },
                                {
                                    "Model": "C-MAX",
                                    "ModelYear": "2013",
                                    "NumberOfVehicles": "360"
                                },
                                {
                                    "Model": "LEAF",
                                    "ModelYear": "2013",
                                    "NumberOfVehicles": "1854"
                                },
                                {
                                    "Model": "CR-V",
                                    "ModelYear": "2013",
                                    "NumberOfVehicles": "7"
                                },
                                {
                                    "Model": "MODEL S",
                                    "ModelYear": "2013",
                                    "NumberOfVehicles": "716"
                                },
                                {
                                    "Model": "RAV4",
                                    "ModelYear": "2013",
                                    "NumberOfVehicles": "13"
                                },
                                {
                                    "Model": "FORTWO ELECTRIC DRIVE",
                                    "ModelYear": "2013",
                                    "NumberOfVehicles": "26"
                                },
                                {
                                    "Model": "FOCUS",
                                    "ModelYear": "2013",
                                    "NumberOfVehicles": "62"
                                },
                                {
                                    "Model": "VOLT",
                                    "ModelYear": "2013",
                                    "NumberOfVehicles": "774"
                                },
                                {
                                    "Model": "FUSION",
                                    "ModelYear": "2013",
                                    "NumberOfVehicles": "166"
                                },
                                {
                                    "Model": "500",
                                    "ModelYear": "2013",
                                    "NumberOfVehicles": "106"
                                },
                                {
                                    "Model": "PRIUS PLUG-IN",
                                    "ModelYear": "2013",
                                    "NumberOfVehicles": "279"
                                },
                                {
                                    "Model": "B-CLASS",
                                    "ModelYear": "2014",
                                    "NumberOfVehicles": "27"
                                },
                                {
                                    "Model": "ACCORD",
                                    "ModelYear": "2014",
                                    "NumberOfVehicles": "10"
                                },
                                {
                                    "Model": "RAV4",
                                    "ModelYear": "2014",
                                    "NumberOfVehicles": "26"
                                },
                                {
                                    "Model": "LEAF",
                                    "ModelYear": "2014",
                                    "NumberOfVehicles": "625"
                                },
                                {
                                    "Model": "FOCUS",
                                    "ModelYear": "2014",
                                    "NumberOfVehicles": "58"
                                },
                                {
                                    "Model": "SPARK",
                                    "ModelYear": "2014",
                                    "NumberOfVehicles": "55"
                                },
                                {
                                    "Model": "FORTWO ELECTRIC DRIVE",
                                    "ModelYear": "2014",
                                    "NumberOfVehicles": "72"
                                },
                                {
                                    "Model": "C-MAX",
                                    "ModelYear": "2014",
                                    "NumberOfVehicles": "275"
                                },
                                {
                                    "Model": "PRIUS PLUG-IN",
                                    "ModelYear": "2014",
                                    "NumberOfVehicles": "198"
                                },
                                {
                                    "Model": "PANAMERA",
                                    "ModelYear": "2014",
                                    "NumberOfVehicles": "10"
                                },
                                {
                                    "Model": "I3",
                                    "ModelYear": "2014",
                                    "NumberOfVehicles": "422"
                                },
                                {
                                    "Model": "ELR",
                                    "ModelYear": "2014",
                                    "NumberOfVehicles": "56"
                                },
                                {
                                    "Model": "FUSION",
                                    "ModelYear": "2014",
                                    "NumberOfVehicles": "270"
                                },
                                {
                                    "Model": "500",
                                    "ModelYear": "2014",
                                    "NumberOfVehicles": "90"
                                },
                                {
                                    "Model": "I-MIEV",
                                    "ModelYear": "2014",
                                    "NumberOfVehicles": "9"
                                },
                                {
                                    "Model": "VOLT",
                                    "ModelYear": "2014",
                                    "NumberOfVehicles": "674"
                                },
                                {
                                    "Model": "I8",
                                    "ModelYear": "2014",
                                    "NumberOfVehicles": "11"
                                },
                                {
                                    "Model": "MODEL S",
                                    "ModelYear": "2014",
                                    "NumberOfVehicles": "645"
                                },
                                {
                                    "Model": "FUSION",
                                    "ModelYear": "2015",
                                    "NumberOfVehicles": "217"
                                },
                                {
                                    "Model": "VOLT",
                                    "ModelYear": "2015",
                                    "NumberOfVehicles": "357"
                                },
                                {
                                    "Model": "S-CLASS",
                                    "ModelYear": "2015",
                                    "NumberOfVehicles": "2"
                                },
                                {
                                    "Model": "MODEL S",
                                    "ModelYear": "2015",
                                    "NumberOfVehicles": "1052"
                                },
                                {
                                    "Model": "I3",
                                    "ModelYear": "2015",
                                    "NumberOfVehicles": "369"
                                },
                                {
                                    "Model": "FORTWO ELECTRIC DRIVE",
                                    "ModelYear": "2015",
                                    "NumberOfVehicles": "47"
                                },
                                {
                                    "Model": "PANAMERA",
                                    "ModelYear": "2015",
                                    "NumberOfVehicles": "17"
                                },
                                {
                                    "Model": "918",
                                    "ModelYear": "2015",
                                    "NumberOfVehicles": "1"
                                },
                                {
                                    "Model": "FOCUS",
                                    "ModelYear": "2015",
                                    "NumberOfVehicles": "34"
                                },
                                {
                                    "Model": "I8",
                                    "ModelYear": "2015",
                                    "NumberOfVehicles": "32"
                                },
                                {
                                    "Model": "PRIUS PLUG-IN",
                                    "ModelYear": "2015",
                                    "NumberOfVehicles": "101"
                                },
                                {
                                    "Model": "CAYENNE",
                                    "ModelYear": "2015",
                                    "NumberOfVehicles": "16"
                                },
                                {
                                    "Model": "B-CLASS",
                                    "ModelYear": "2015",
                                    "NumberOfVehicles": "21"
                                },
                                {
                                    "Model": "E-GOLF",
                                    "ModelYear": "2015",
                                    "NumberOfVehicles": "121"
                                },
                                {
                                    "Model": "500",
                                    "ModelYear": "2015",
                                    "NumberOfVehicles": "228"
                                },
                                {
                                    "Model": "SPARK",
                                    "ModelYear": "2015",
                                    "NumberOfVehicles": "99"
                                },
                                {
                                    "Model": "LEAF",
                                    "ModelYear": "2015",
                                    "NumberOfVehicles": "1803"
                                },
                                {
                                    "Model": "SOUL",
                                    "ModelYear": "2015",
                                    "NumberOfVehicles": "20"
                                },
                                {
                                    "Model": "C-MAX",
                                    "ModelYear": "2015",
                                    "NumberOfVehicles": "281"
                                },
                                {
                                    "Model": "X5",
                                    "ModelYear": "2016",
                                    "NumberOfVehicles": "162"
                                },
                                {
                                    "Model": "CAYENNE",
                                    "ModelYear": "2016",
                                    "NumberOfVehicles": "65"
                                },
                                {
                                    "Model": "VOLT",
                                    "ModelYear": "2016",
                                    "NumberOfVehicles": "215"
                                },
                                {
                                    "Model": "I3",
                                    "ModelYear": "2016",
                                    "NumberOfVehicles": "184"
                                },
                                {
                                    "Model": "GLE-CLASS",
                                    "ModelYear": "2016",
                                    "NumberOfVehicles": "10"
                                },
                                {
                                    "Model": "A3",
                                    "ModelYear": "2016",
                                    "NumberOfVehicles": "208"
                                },
                                {
                                    "Model": "PANAMERA",
                                    "ModelYear": "2016",
                                    "NumberOfVehicles": "9"
                                },
                                {
                                    "Model": "FORTWO",
                                    "ModelYear": "2016",
                                    "NumberOfVehicles": "30"
                                },
                                {
                                    "Model": "330E",
                                    "ModelYear": "2016",
                                    "NumberOfVehicles": "8"
                                },
                                {
                                    "Model": "LEAF",
                                    "ModelYear": "2016",
                                    "NumberOfVehicles": "1111"
                                },
                                {
                                    "Model": "C-CLASS",
                                    "ModelYear": "2016",
                                    "NumberOfVehicles": "3"
                                },
                                {
                                    "Model": "500",
                                    "ModelYear": "2016",
                                    "NumberOfVehicles": "141"
                                },
                                {
                                    "Model": "SOUL",
                                    "ModelYear": "2016",
                                    "NumberOfVehicles": "376"
                                },
                                {
                                    "Model": "I-MIEV",
                                    "ModelYear": "2016",
                                    "NumberOfVehicles": "10"
                                },
                                {
                                    "Model": "I8",
                                    "ModelYear": "2016",
                                    "NumberOfVehicles": "18"
                                },
                                {
                                    "Model": "MODEL S",
                                    "ModelYear": "2016",
                                    "NumberOfVehicles": "949"
                                },
                                {
                                    "Model": "XC90",
                                    "ModelYear": "2016",
                                    "NumberOfVehicles": "104"
                                },
                                {
                                    "Model": "FOCUS",
                                    "ModelYear": "2016",
                                    "NumberOfVehicles": "33"
                                },
                                {
                                    "Model": "B-CLASS",
                                    "ModelYear": "2016",
                                    "NumberOfVehicles": "22"
                                },
                                {
                                    "Model": "MODEL X",
                                    "ModelYear": "2016",
                                    "NumberOfVehicles": "669"
                                },
                                {
                                    "Model": "S-CLASS",
                                    "ModelYear": "2016",
                                    "NumberOfVehicles": "2"
                                },
                                {
                                    "Model": "C-MAX",
                                    "ModelYear": "2016",
                                    "NumberOfVehicles": "320"
                                },
                                {
                                    "Model": "SONATA",
                                    "ModelYear": "2016",
                                    "NumberOfVehicles": "42"
                                },
                                {
                                    "Model": "E-GOLF",
                                    "ModelYear": "2016",
                                    "NumberOfVehicles": "324"
                                },
                                {
                                    "Model": "SPARK",
                                    "ModelYear": "2016",
                                    "NumberOfVehicles": "93"
                                },
                                {
                                    "Model": "ELR",
                                    "ModelYear": "2016",
                                    "NumberOfVehicles": "19"
                                },
                                {
                                    "Model": "FUSION",
                                    "ModelYear": "2016",
                                    "NumberOfVehicles": "401"
                                },
                                {
                                    "Model": "PACIFICA",
                                    "ModelYear": "2017",
                                    "NumberOfVehicles": "93"
                                },
                                {
                                    "Model": "BOLT EV",
                                    "ModelYear": "2017",
                                    "NumberOfVehicles": "1446"
                                },
                                {
                                    "Model": "A3",
                                    "ModelYear": "2017",
                                    "NumberOfVehicles": "186"
                                },
                                {
                                    "Model": "I8",
                                    "ModelYear": "2017",
                                    "NumberOfVehicles": "6"
                                },
                                {
                                    "Model": "S-CLASS",
                                    "ModelYear": "2017",
                                    "NumberOfVehicles": "7"
                                },
                                {
                                    "Model": "330E",
                                    "ModelYear": "2017",
                                    "NumberOfVehicles": "96"
                                },
                                {
                                    "Model": "OPTIMA",
                                    "ModelYear": "2017",
                                    "NumberOfVehicles": "56"
                                },
                                {
                                    "Model": "B-CLASS",
                                    "ModelYear": "2017",
                                    "NumberOfVehicles": "22"
                                },
                                {
                                    "Model": "VOLT",
                                    "ModelYear": "2017",
                                    "NumberOfVehicles": "1415"
                                },
                                {
                                    "Model": "MODEL X",
                                    "ModelYear": "2017",
                                    "NumberOfVehicles": "677"
                                },
                                {
                                    "Model": "MODEL S",
                                    "ModelYear": "2017",
                                    "NumberOfVehicles": "936"
                                },
                                {
                                    "Model": "740E",
                                    "ModelYear": "2017",
                                    "NumberOfVehicles": "9"
                                },
                                {
                                    "Model": "CT6",
                                    "ModelYear": "2017",
                                    "NumberOfVehicles": "3"
                                },
                                {
                                    "Model": "I-MIEV",
                                    "ModelYear": "2017",
                                    "NumberOfVehicles": "1"
                                },
                                {
                                    "Model": "SONATA",
                                    "ModelYear": "2017",
                                    "NumberOfVehicles": "28"
                                },
                                {
                                    "Model": "LEAF",
                                    "ModelYear": "2017",
                                    "NumberOfVehicles": "910"
                                },
                                {
                                    "Model": "GLE-CLASS",
                                    "ModelYear": "2017",
                                    "NumberOfVehicles": "11"
                                },
                                {
                                    "Model": "C-CLASS",
                                    "ModelYear": "2017",
                                    "NumberOfVehicles": "5"
                                },
                                {
                                    "Model": "I3",
                                    "ModelYear": "2017",
                                    "NumberOfVehicles": "391"
                                },
                                {
                                    "Model": "C-MAX",
                                    "ModelYear": "2017",
                                    "NumberOfVehicles": "268"
                                },
                                {
                                    "Model": "FUSION",
                                    "ModelYear": "2017",
                                    "NumberOfVehicles": "344"
                                },
                                {
                                    "Model": "CAYENNE",
                                    "ModelYear": "2017",
                                    "NumberOfVehicles": "73"
                                },
                                {
                                    "Model": "MODEL 3",
                                    "ModelYear": "2017",
                                    "NumberOfVehicles": "65"
                                },
                                {
                                    "Model": "FORTWO",
                                    "ModelYear": "2017",
                                    "NumberOfVehicles": "33"
                                },
                                {
                                    "Model": "FOCUS",
                                    "ModelYear": "2017",
                                    "NumberOfVehicles": "22"
                                },
                                {
                                    "Model": "X5",
                                    "ModelYear": "2017",
                                    "NumberOfVehicles": "170"
                                },
                                {
                                    "Model": "IONIQ",
                                    "ModelYear": "2017",
                                    "NumberOfVehicles": "15"
                                },
                                {
                                    "Model": "E-GOLF",
                                    "ModelYear": "2017",
                                    "NumberOfVehicles": "56"
                                },
                                {
                                    "Model": "SOUL EV",
                                    "ModelYear": "2017",
                                    "NumberOfVehicles": "143"
                                },
                                {
                                    "Model": "500",
                                    "ModelYear": "2017",
                                    "NumberOfVehicles": "151"
                                },
                                {
                                    "Model": "PRIUS PRIME",
                                    "ModelYear": "2017",
                                    "NumberOfVehicles": "903"
                                },
                                {
                                    "Model": "XC90",
                                    "ModelYear": "2017",
                                    "NumberOfVehicles": "109"
                                },
                                {
                                    "Model": "COUNTRYMAN",
                                    "ModelYear": "2018",
                                    "NumberOfVehicles": "54"
                                },
                                {
                                    "Model": "330E",
                                    "ModelYear": "2018",
                                    "NumberOfVehicles": "81"
                                },
                                {
                                    "Model": "SOUL EV",
                                    "ModelYear": "2018",
                                    "NumberOfVehicles": "68"
                                },
                                {
                                    "Model": "GLC-CLASS",
                                    "ModelYear": "2018",
                                    "NumberOfVehicles": "20"
                                },
                                {
                                    "Model": "GLE-CLASS",
                                    "ModelYear": "2018",
                                    "NumberOfVehicles": "21"
                                },
                                {
                                    "Model": "500",
                                    "ModelYear": "2018",
                                    "NumberOfVehicles": "50"
                                },
                                {
                                    "Model": "XC60",
                                    "ModelYear": "2018",
                                    "NumberOfVehicles": "125"
                                },
                                {
                                    "Model": "PANAMERA",
                                    "ModelYear": "2018",
                                    "NumberOfVehicles": "56"
                                },
                                {
                                    "Model": "FOCUS",
                                    "ModelYear": "2018",
                                    "NumberOfVehicles": "8"
                                },
                                {
                                    "Model": "740E",
                                    "ModelYear": "2018",
                                    "NumberOfVehicles": "19"
                                },
                                {
                                    "Model": "E-GOLF",
                                    "ModelYear": "2018",
                                    "NumberOfVehicles": "40"
                                },
                                {
                                    "Model": "XC90",
                                    "ModelYear": "2018",
                                    "NumberOfVehicles": "85"
                                },
                                {
                                    "Model": "I3",
                                    "ModelYear": "2018",
                                    "NumberOfVehicles": "231"
                                },
                                {
                                    "Model": "X5",
                                    "ModelYear": "2018",
                                    "NumberOfVehicles": "177"
                                },
                                {
                                    "Model": "NIRO",
                                    "ModelYear": "2018",
                                    "NumberOfVehicles": "194"
                                },
                                {
                                    "Model": "MODEL 3",
                                    "ModelYear": "2018",
                                    "NumberOfVehicles": "6149"
                                },
                                {
                                    "Model": "BOLT EV",
                                    "ModelYear": "2018",
                                    "NumberOfVehicles": "527"
                                },
                                {
                                    "Model": "OPTIMA",
                                    "ModelYear": "2018",
                                    "NumberOfVehicles": "35"
                                },
                                {
                                    "Model": "CT6",
                                    "ModelYear": "2018",
                                    "NumberOfVehicles": "10"
                                },
                                {
                                    "Model": "LEAF",
                                    "ModelYear": "2018",
                                    "NumberOfVehicles": "1197"
                                },
                                {
                                    "Model": "OUTLANDER",
                                    "ModelYear": "2018",
                                    "NumberOfVehicles": "179"
                                },
                                {
                                    "Model": "VOLT",
                                    "ModelYear": "2018",
                                    "NumberOfVehicles": "722"
                                },
                                {
                                    "Model": "S90",
                                    "ModelYear": "2018",
                                    "NumberOfVehicles": "21"
                                },
                                {
                                    "Model": "530E",
                                    "ModelYear": "2018",
                                    "NumberOfVehicles": "196"
                                },
                                {
                                    "Model": "PRIUS PRIME",
                                    "ModelYear": "2018",
                                    "NumberOfVehicles": "683"
                                },
                                {
                                    "Model": "MODEL X",
                                    "ModelYear": "2018",
                                    "NumberOfVehicles": "902"
                                },
                                {
                                    "Model": "CLARITY",
                                    "ModelYear": "2018",
                                    "NumberOfVehicles": "613"
                                },
                                {
                                    "Model": "EQ FORTWO",
                                    "ModelYear": "2018",
                                    "NumberOfVehicles": "41"
                                },
                                {
                                    "Model": "C-CLASS",
                                    "ModelYear": "2018",
                                    "NumberOfVehicles": "11"
                                },
                                {
                                    "Model": "MODEL S",
                                    "ModelYear": "2018",
                                    "NumberOfVehicles": "904"
                                },
                                {
                                    "Model": "IONIQ",
                                    "ModelYear": "2018",
                                    "NumberOfVehicles": "20"
                                },
                                {
                                    "Model": "PACIFICA",
                                    "ModelYear": "2018",
                                    "NumberOfVehicles": "548"
                                },
                                {
                                    "Model": "A3",
                                    "ModelYear": "2018",
                                    "NumberOfVehicles": "166"
                                },
                                {
                                    "Model": "CAYENNE",
                                    "ModelYear": "2018",
                                    "NumberOfVehicles": "25"
                                },
                                {
                                    "Model": "FUSION",
                                    "ModelYear": "2018",
                                    "NumberOfVehicles": "162"
                                },
                                {
                                    "Model": "IONIQ",
                                    "ModelYear": "2019",
                                    "NumberOfVehicles": "82"
                                },
                                {
                                    "Model": "MODEL 3",
                                    "ModelYear": "2019",
                                    "NumberOfVehicles": "3961"
                                },
                                {
                                    "Model": "NIRO",
                                    "ModelYear": "2019",
                                    "NumberOfVehicles": "674"
                                },
                                {
                                    "Model": "CAYENNE",
                                    "ModelYear": "2019",
                                    "NumberOfVehicles": "68"
                                },
                                {
                                    "Model": "OUTLANDER",
                                    "ModelYear": "2019",
                                    "NumberOfVehicles": "171"
                                },
                                {
                                    "Model": "MODEL X",
                                    "ModelYear": "2019",
                                    "NumberOfVehicles": "421"
                                },
                                {
                                    "Model": "GLC-CLASS",
                                    "ModelYear": "2019",
                                    "NumberOfVehicles": "149"
                                },
                                {
                                    "Model": "EQ FORTWO",
                                    "ModelYear": "2019",
                                    "NumberOfVehicles": "10"
                                },
                                {
                                    "Model": "BOLT EV",
                                    "ModelYear": "2019",
                                    "NumberOfVehicles": "1080"
                                },
                                {
                                    "Model": "S60",
                                    "ModelYear": "2019",
                                    "NumberOfVehicles": "11"
                                },
                                {
                                    "Model": "PANAMERA",
                                    "ModelYear": "2019",
                                    "NumberOfVehicles": "8"
                                },
                                {
                                    "Model": "VOLT",
                                    "ModelYear": "2019",
                                    "NumberOfVehicles": "120"
                                },
                                {
                                    "Model": "I8",
                                    "ModelYear": "2019",
                                    "NumberOfVehicles": "27"
                                },
                                {
                                    "Model": "I-PACE",
                                    "ModelYear": "2019",
                                    "NumberOfVehicles": "122"
                                },
                                {
                                    "Model": "PACIFICA",
                                    "ModelYear": "2019",
                                    "NumberOfVehicles": "112"
                                },
                                {
                                    "Model": "PRIUS PRIME",
                                    "ModelYear": "2019",
                                    "NumberOfVehicles": "220"
                                },
                                {
                                    "Model": "LEAF",
                                    "ModelYear": "2019",
                                    "NumberOfVehicles": "1369"
                                },
                                {
                                    "Model": "SOUL EV",
                                    "ModelYear": "2019",
                                    "NumberOfVehicles": "3"
                                },
                                {
                                    "Model": "E-GOLF",
                                    "ModelYear": "2019",
                                    "NumberOfVehicles": "530"
                                },
                                {
                                    "Model": "OPTIMA",
                                    "ModelYear": "2019",
                                    "NumberOfVehicles": "2"
                                },
                                {
                                    "Model": "S90",
                                    "ModelYear": "2019",
                                    "NumberOfVehicles": "4"
                                },
                                {
                                    "Model": "MODEL S",
                                    "ModelYear": "2019",
                                    "NumberOfVehicles": "274"
                                },
                                {
                                    "Model": "740E",
                                    "ModelYear": "2019",
                                    "NumberOfVehicles": "5"
                                },
                                {
                                    "Model": "XC60",
                                    "ModelYear": "2019",
                                    "NumberOfVehicles": "112"
                                },
                                {
                                    "Model": "530E",
                                    "ModelYear": "2019",
                                    "NumberOfVehicles": "93"
                                },
                                {
                                    "Model": "COUNTRYMAN",
                                    "ModelYear": "2019",
                                    "NumberOfVehicles": "108"
                                },
                                {
                                    "Model": "SONATA",
                                    "ModelYear": "2019",
                                    "NumberOfVehicles": "6"
                                },
                                {
                                    "Model": "CLARITY",
                                    "ModelYear": "2019",
                                    "NumberOfVehicles": "102"
                                },
                                {
                                    "Model": "XC90",
                                    "ModelYear": "2019",
                                    "NumberOfVehicles": "73"
                                },
                                {
                                    "Model": "FUSION",
                                    "ModelYear": "2019",
                                    "NumberOfVehicles": "148"
                                },
                                {
                                    "Model": "E-TRON",
                                    "ModelYear": "2019",
                                    "NumberOfVehicles": "537"
                                },
                                {
                                    "Model": "I3",
                                    "ModelYear": "2019",
                                    "NumberOfVehicles": "199"
                                },
                                {
                                    "Model": "500",
                                    "ModelYear": "2019",
                                    "NumberOfVehicles": "15"
                                },
                                {
                                    "Model": "KONA",
                                    "ModelYear": "2019",
                                    "NumberOfVehicles": "48"
                                },
                                {
                                    "Model": "CROSSTREK",
                                    "ModelYear": "2019",
                                    "NumberOfVehicles": "69"
                                },
                                {
                                    "Model": "X3",
                                    "ModelYear": "2020",
                                    "NumberOfVehicles": "88"
                                },
                                {
                                    "Model": "CAYENNE",
                                    "ModelYear": "2020",
                                    "NumberOfVehicles": "29"
                                },
                                {
                                    "Model": "TAYCAN",
                                    "ModelYear": "2020",
                                    "NumberOfVehicles": "141"
                                },
                                {
                                    "Model": "CLARITY",
                                    "ModelYear": "2020",
                                    "NumberOfVehicles": "90"
                                },
                                {
                                    "Model": "IONIQ",
                                    "ModelYear": "2020",
                                    "NumberOfVehicles": "96"
                                },
                                {
                                    "Model": "LEAF",
                                    "ModelYear": "2020",
                                    "NumberOfVehicles": "711"
                                },
                                {
                                    "Model": "Q5 E",
                                    "ModelYear": "2020",
                                    "NumberOfVehicles": "218"
                                },
                                {
                                    "Model": "HARDTOP",
                                    "ModelYear": "2020",
                                    "NumberOfVehicles": "15"
                                },
                                {
                                    "Model": "MODEL 3",
                                    "ModelYear": "2020",
                                    "NumberOfVehicles": "3687"
                                },
                                {
                                    "Model": "I8",
                                    "ModelYear": "2020",
                                    "NumberOfVehicles": "1"
                                },
                                {
                                    "Model": "XC60",
                                    "ModelYear": "2020",
                                    "NumberOfVehicles": "89"
                                },
                                {
                                    "Model": "FUSION",
                                    "ModelYear": "2020",
                                    "NumberOfVehicles": "73"
                                },
                                {
                                    "Model": "BOLT EV",
                                    "ModelYear": "2020",
                                    "NumberOfVehicles": "1480"
                                },
                                {
                                    "Model": "RANGE ROVER SPORT",
                                    "ModelYear": "2020",
                                    "NumberOfVehicles": "24"
                                },
                                {
                                    "Model": "GLC-CLASS",
                                    "ModelYear": "2020",
                                    "NumberOfVehicles": "37"
                                },
                                {
                                    "Model": "A8 E",
                                    "ModelYear": "2020",
                                    "NumberOfVehicles": "3"
                                },
                                {
                                    "Model": "COUNTRYMAN",
                                    "ModelYear": "2020",
                                    "NumberOfVehicles": "2"
                                },
                                {
                                    "Model": "745E",
                                    "ModelYear": "2020",
                                    "NumberOfVehicles": "10"
                                },
                                {
                                    "Model": "MODEL Y",
                                    "ModelYear": "2020",
                                    "NumberOfVehicles": "2397"
                                },
                                {
                                    "Model": "XC90",
                                    "ModelYear": "2020",
                                    "NumberOfVehicles": "101"
                                },
                                {
                                    "Model": "RANGE ROVER",
                                    "ModelYear": "2020",
                                    "NumberOfVehicles": "10"
                                },
                                {
                                    "Model": "530E",
                                    "ModelYear": "2020",
                                    "NumberOfVehicles": "18"
                                },
                                {
                                    "Model": "PACIFICA",
                                    "ModelYear": "2020",
                                    "NumberOfVehicles": "289"
                                },
                                {
                                    "Model": "E-TRON SPORTBACK",
                                    "ModelYear": "2020",
                                    "NumberOfVehicles": "24"
                                },
                                {
                                    "Model": "AVIATOR",
                                    "ModelYear": "2020",
                                    "NumberOfVehicles": "38"
                                },
                                {
                                    "Model": "PRIUS PRIME",
                                    "ModelYear": "2020",
                                    "NumberOfVehicles": "371"
                                },
                                {
                                    "Model": "V60",
                                    "ModelYear": "2020",
                                    "NumberOfVehicles": "4"
                                },
                                {
                                    "Model": "S90",
                                    "ModelYear": "2020",
                                    "NumberOfVehicles": "4"
                                },
                                {
                                    "Model": "S60",
                                    "ModelYear": "2020",
                                    "NumberOfVehicles": "11"
                                },
                                {
                                    "Model": "PANAMERA",
                                    "ModelYear": "2020",
                                    "NumberOfVehicles": "9"
                                },
                                {
                                    "Model": "MODEL X",
                                    "ModelYear": "2020",
                                    "NumberOfVehicles": "694"
                                },
                                {
                                    "Model": "NIRO",
                                    "ModelYear": "2020",
                                    "NumberOfVehicles": "520"
                                },
                                {
                                    "Model": "I-PACE",
                                    "ModelYear": "2020",
                                    "NumberOfVehicles": "82"
                                },
                                {
                                    "Model": "KONA",
                                    "ModelYear": "2020",
                                    "NumberOfVehicles": "174"
                                },
                                {
                                    "Model": "MODEL S",
                                    "ModelYear": "2020",
                                    "NumberOfVehicles": "415"
                                },
                                {
                                    "Model": "OUTLANDER",
                                    "ModelYear": "2020",
                                    "NumberOfVehicles": "96"
                                },
                                {
                                    "Model": "I3",
                                    "ModelYear": "2020",
                                    "NumberOfVehicles": "85"
                                },
                                {
                                    "Model": "OPTIMA",
                                    "ModelYear": "2020",
                                    "NumberOfVehicles": "13"
                                },
                                {
                                    "Model": "Q5 E",
                                    "ModelYear": "2021",
                                    "NumberOfVehicles": "299"
                                },
                                {
                                    "Model": "MODEL Y",
                                    "ModelYear": "2021",
                                    "NumberOfVehicles": "6830"
                                },
                                {
                                    "Model": "LEAF",
                                    "ModelYear": "2021",
                                    "NumberOfVehicles": "686"
                                },
                                {
                                    "Model": "MUSTANG MACH-E",
                                    "ModelYear": "2021",
                                    "NumberOfVehicles": "874"
                                },
                                {
                                    "Model": "TAYCAN",
                                    "ModelYear": "2021",
                                    "NumberOfVehicles": "151"
                                },
                                {
                                    "Model": "MODEL 3",
                                    "ModelYear": "2021",
                                    "NumberOfVehicles": "3914"
                                },
                                {
                                    "Model": "530E",
                                    "ModelYear": "2021",
                                    "NumberOfVehicles": "26"
                                },
                                {
                                    "Model": "I3",
                                    "ModelYear": "2021",
                                    "NumberOfVehicles": "44"
                                },
                                {
                                    "Model": "CLARITY",
                                    "ModelYear": "2021",
                                    "NumberOfVehicles": "23"
                                },
                                {
                                    "Model": "AVIATOR",
                                    "ModelYear": "2021",
                                    "NumberOfVehicles": "44"
                                },
                                {
                                    "Model": "X5",
                                    "ModelYear": "2021",
                                    "NumberOfVehicles": "314"
                                },
                                {
                                    "Model": "A7 E",
                                    "ModelYear": "2021",
                                    "NumberOfVehicles": "13"
                                },
                                {
                                    "Model": "X3",
                                    "ModelYear": "2021",
                                    "NumberOfVehicles": "223"
                                },
                                {
                                    "Model": "XC60",
                                    "ModelYear": "2021",
                                    "NumberOfVehicles": "161"
                                },
                                {
                                    "Model": "V60",
                                    "ModelYear": "2021",
                                    "NumberOfVehicles": "5"
                                },
                                {
                                    "Model": "RAV4 PRIME",
                                    "ModelYear": "2021",
                                    "NumberOfVehicles": "835"
                                },
                                {
                                    "Model": "RANGE ROVER SPORT",
                                    "ModelYear": "2021",
                                    "NumberOfVehicles": "6"
                                },
                                {
                                    "Model": "330E",
                                    "ModelYear": "2021",
                                    "NumberOfVehicles": "69"
                                },
                                {
                                    "Model": "KONA ELECTRIC",
                                    "ModelYear": "2021",
                                    "NumberOfVehicles": "157"
                                },
                                {
                                    "Model": "BENTAYGA",
                                    "ModelYear": "2021",
                                    "NumberOfVehicles": "1"
                                },
                                {
                                    "Model": "S60",
                                    "ModelYear": "2021",
                                    "NumberOfVehicles": "35"
                                },
                                {
                                    "Model": "PANAMERA",
                                    "ModelYear": "2021",
                                    "NumberOfVehicles": "6"
                                },
                                {
                                    "Model": "E-TRON",
                                    "ModelYear": "2021",
                                    "NumberOfVehicles": "182"
                                },
                                {
                                    "Model": "COUNTRYMAN",
                                    "ModelYear": "2021",
                                    "NumberOfVehicles": "11"
                                },
                                {
                                    "Model": "MODEL X",
                                    "ModelYear": "2021",
                                    "NumberOfVehicles": "179"
                                },
                                {
                                    "Model": "OUTLANDER",
                                    "ModelYear": "2021",
                                    "NumberOfVehicles": "7"
                                },
                                {
                                    "Model": "ID.4",
                                    "ModelYear": "2021",
                                    "NumberOfVehicles": "994"
                                },
                                {
                                    "Model": "ESCAPE",
                                    "ModelYear": "2021",
                                    "NumberOfVehicles": "60"
                                },
                                {
                                    "Model": "BOLT EV",
                                    "ModelYear": "2021",
                                    "NumberOfVehicles": "465"
                                },
                                {
                                    "Model": "XC90",
                                    "ModelYear": "2021",
                                    "NumberOfVehicles": "281"
                                },
                                {
                                    "Model": "WRANGLER",
                                    "ModelYear": "2021",
                                    "NumberOfVehicles": "602"
                                },
                                {
                                    "Model": "745E",
                                    "ModelYear": "2021",
                                    "NumberOfVehicles": "1"
                                },
                                {
                                    "Model": "CAYENNE",
                                    "ModelYear": "2021",
                                    "NumberOfVehicles": "26"
                                },
                                {
                                    "Model": "NIRO",
                                    "ModelYear": "2021",
                                    "NumberOfVehicles": "80"
                                },
                                {
                                    "Model": "XC40",
                                    "ModelYear": "2021",
                                    "NumberOfVehicles": "263"
                                },
                                {
                                    "Model": "RANGE ROVER",
                                    "ModelYear": "2021",
                                    "NumberOfVehicles": "3"
                                },
                                {
                                    "Model": "CORSAIR",
                                    "ModelYear": "2021",
                                    "NumberOfVehicles": "4"
                                },
                                {
                                    "Model": "IONIQ",
                                    "ModelYear": "2021",
                                    "NumberOfVehicles": "38"
                                },
                                {
                                    "Model": "HARDTOP",
                                    "ModelYear": "2021",
                                    "NumberOfVehicles": "125"
                                },
                                {
                                    "Model": "MODEL S",
                                    "ModelYear": "2021",
                                    "NumberOfVehicles": "489"
                                },
                                {
                                    "Model": "E-TRON SPORTBACK",
                                    "ModelYear": "2021",
                                    "NumberOfVehicles": "75"
                                },
                                {
                                    "Model": "PRIUS PRIME",
                                    "ModelYear": "2021",
                                    "NumberOfVehicles": "281"
                                },
                                {
                                    "Model": "PS2",
                                    "ModelYear": "2021",
                                    "NumberOfVehicles": "152"
                                },
                                {
                                    "Model": "PACIFICA",
                                    "ModelYear": "2021",
                                    "NumberOfVehicles": "497"
                                },
                                {
                                    "Model": "AVIATOR",
                                    "ModelYear": "2022",
                                    "NumberOfVehicles": "42"
                                },
                                {
                                    "Model": "BOLT EUV",
                                    "ModelYear": "2022",
                                    "NumberOfVehicles": "719"
                                },
                                {
                                    "Model": "IONIQ",
                                    "ModelYear": "2022",
                                    "NumberOfVehicles": "15"
                                },
                                {
                                    "Model": "MODEL Y",
                                    "ModelYear": "2022",
                                    "NumberOfVehicles": "7419"
                                },
                                {
                                    "Model": "NIRO",
                                    "ModelYear": "2022",
                                    "NumberOfVehicles": "686"
                                },
                                {
                                    "Model": "Q4",
                                    "ModelYear": "2022",
                                    "NumberOfVehicles": "77"
                                },
                                {
                                    "Model": "C40",
                                    "ModelYear": "2022",
                                    "NumberOfVehicles": "124"
                                },
                                {
                                    "Model": "PRIUS PRIME",
                                    "ModelYear": "2022",
                                    "NumberOfVehicles": "206"
                                },
                                {
                                    "Model": "GRAND CHEROKEE",
                                    "ModelYear": "2022",
                                    "NumberOfVehicles": "288"
                                },
                                {
                                    "Model": "S60",
                                    "ModelYear": "2022",
                                    "NumberOfVehicles": "44"
                                },
                                {
                                    "Model": "330E",
                                    "ModelYear": "2022",
                                    "NumberOfVehicles": "73"
                                },
                                {
                                    "Model": "F-150",
                                    "ModelYear": "2022",
                                    "NumberOfVehicles": "339"
                                },
                                {
                                    "Model": "PANAMERA",
                                    "ModelYear": "2022",
                                    "NumberOfVehicles": "8"
                                },
                                {
                                    "Model": "OUTLANDER",
                                    "ModelYear": "2022",
                                    "NumberOfVehicles": "91"
                                },
                                {
                                    "Model": "IX",
                                    "ModelYear": "2022",
                                    "NumberOfVehicles": "137"
                                },
                                {
                                    "Model": "MODEL X",
                                    "ModelYear": "2022",
                                    "NumberOfVehicles": "826"
                                },
                                {
                                    "Model": "PS2",
                                    "ModelYear": "2022",
                                    "NumberOfVehicles": "370"
                                },
                                {
                                    "Model": "IONIQ 5",
                                    "ModelYear": "2022",
                                    "NumberOfVehicles": "423"
                                },
                                {
                                    "Model": "KONA ELECTRIC",
                                    "ModelYear": "2022",
                                    "NumberOfVehicles": "112"
                                },
                                {
                                    "Model": "Q5",
                                    "ModelYear": "2022",
                                    "NumberOfVehicles": "139"
                                },
                                {
                                    "Model": "EQB-CLASS",
                                    "ModelYear": "2022",
                                    "NumberOfVehicles": "54"
                                },
                                {
                                    "Model": "TRANSIT",
                                    "ModelYear": "2022",
                                    "NumberOfVehicles": "139"
                                },
                                {
                                    "Model": "XC60",
                                    "ModelYear": "2022",
                                    "NumberOfVehicles": "240"
                                },
                                {
                                    "Model": "XC40",
                                    "ModelYear": "2022",
                                    "NumberOfVehicles": "251"
                                },
                                {
                                    "Model": "R1S",
                                    "ModelYear": "2022",
                                    "NumberOfVehicles": "178"
                                },
                                {
                                    "Model": "R1T",
                                    "ModelYear": "2022",
                                    "NumberOfVehicles": "897"
                                },
                                {
                                    "Model": "EQS-CLASS SEDAN",
                                    "ModelYear": "2022",
                                    "NumberOfVehicles": "100"
                                },
                                {
                                    "Model": "CAYENNE",
                                    "ModelYear": "2022",
                                    "NumberOfVehicles": "32"
                                },
                                {
                                    "Model": "I4",
                                    "ModelYear": "2022",
                                    "NumberOfVehicles": "115"
                                },
                                {
                                    "Model": "AIR",
                                    "ModelYear": "2022",
                                    "NumberOfVehicles": "100"
                                },
                                {
                                    "Model": "ID.4",
                                    "ModelYear": "2022",
                                    "NumberOfVehicles": "725"
                                },
                                {
                                    "Model": "CORSAIR",
                                    "ModelYear": "2022",
                                    "NumberOfVehicles": "69"
                                },
                                {
                                    "Model": "E-TRON GT",
                                    "ModelYear": "2022",
                                    "NumberOfVehicles": "74"
                                },
                                {
                                    "Model": "MX-30",
                                    "ModelYear": "2022",
                                    "NumberOfVehicles": "5"
                                },
                                {
                                    "Model": "FLYING SPUR",
                                    "ModelYear": "2022",
                                    "NumberOfVehicles": "2"
                                },
                                {
                                    "Model": "E-TRON",
                                    "ModelYear": "2022",
                                    "NumberOfVehicles": "243"
                                },
                                {
                                    "Model": "RS E-TRON GT",
                                    "ModelYear": "2022",
                                    "NumberOfVehicles": "21"
                                },
                                {
                                    "Model": "MUSTANG MACH-E",
                                    "ModelYear": "2022",
                                    "NumberOfVehicles": "1042"
                                },
                                {
                                    "Model": "PACIFICA",
                                    "ModelYear": "2022",
                                    "NumberOfVehicles": "385"
                                },
                                {
                                    "Model": "MODEL S",
                                    "ModelYear": "2022",
                                    "NumberOfVehicles": "690"
                                },
                                {
                                    "Model": "ESCAPE",
                                    "ModelYear": "2022",
                                    "NumberOfVehicles": "228"
                                },
                                {
                                    "Model": "EV6",
                                    "ModelYear": "2022",
                                    "NumberOfVehicles": "1019"
                                },
                                {
                                    "Model": "WRANGLER",
                                    "ModelYear": "2022",
                                    "NumberOfVehicles": "489"
                                },
                                {
                                    "Model": "EDV",
                                    "ModelYear": "2022",
                                    "NumberOfVehicles": "243"
                                },
                                {
                                    "Model": "NX",
                                    "ModelYear": "2022",
                                    "NumberOfVehicles": "51"
                                },
                                {
                                    "Model": "TUCSON",
                                    "ModelYear": "2022",
                                    "NumberOfVehicles": "46"
                                },
                                {
                                    "Model": "E-TRON SPORTBACK",
                                    "ModelYear": "2022",
                                    "NumberOfVehicles": "78"
                                },
                                {
                                    "Model": "SANTA FE",
                                    "ModelYear": "2022",
                                    "NumberOfVehicles": "73"
                                },
                                {
                                    "Model": "I-PACE",
                                    "ModelYear": "2022",
                                    "NumberOfVehicles": "19"
                                },
                                {
                                    "Model": "X5",
                                    "ModelYear": "2022",
                                    "NumberOfVehicles": "588"
                                },
                                {
                                    "Model": "XC90",
                                    "ModelYear": "2022",
                                    "NumberOfVehicles": "343"
                                },
                                {
                                    "Model": "745LE",
                                    "ModelYear": "2022",
                                    "NumberOfVehicles": "2"
                                },
                                {
                                    "Model": "LEAF",
                                    "ModelYear": "2022",
                                    "NumberOfVehicles": "1069"
                                },
                                {
                                    "Model": "530E",
                                    "ModelYear": "2022",
                                    "NumberOfVehicles": "31"
                                },
                                {
                                    "Model": "V60",
                                    "ModelYear": "2022",
                                    "NumberOfVehicles": "4"
                                },
                                {
                                    "Model": "HARDTOP",
                                    "ModelYear": "2022",
                                    "NumberOfVehicles": "214"
                                },
                                {
                                    "Model": "TAYCAN",
                                    "ModelYear": "2022",
                                    "NumberOfVehicles": "184"
                                },
                                {
                                    "Model": "BOLT EV",
                                    "ModelYear": "2022",
                                    "NumberOfVehicles": "306"
                                },
                                {
                                    "Model": "SORENTO",
                                    "ModelYear": "2022",
                                    "NumberOfVehicles": "339"
                                },
                                {
                                    "Model": "COUNTRYMAN",
                                    "ModelYear": "2022",
                                    "NumberOfVehicles": "20"
                                },
                                {
                                    "Model": "MODEL 3",
                                    "ModelYear": "2022",
                                    "NumberOfVehicles": "4874"
                                },
                                {
                                    "Model": "RAV4 PRIME",
                                    "ModelYear": "2022",
                                    "NumberOfVehicles": "396"
                                },
                                {
                                    "Model": "C40",
                                    "ModelYear": "2023",
                                    "NumberOfVehicles": "289"
                                },
                                {
                                    "Model": "IX",
                                    "ModelYear": "2023",
                                    "NumberOfVehicles": "276"
                                },
                                {
                                    "Model": "EQS-CLASS SEDAN",
                                    "ModelYear": "2023",
                                    "NumberOfVehicles": "105"
                                },
                                {
                                    "Model": "R1T",
                                    "ModelYear": "2023",
                                    "NumberOfVehicles": "811"
                                },
                                {
                                    "Model": "AVIATOR",
                                    "ModelYear": "2023",
                                    "NumberOfVehicles": "53"
                                },
                                {
                                    "Model": "530E",
                                    "ModelYear": "2023",
                                    "NumberOfVehicles": "56"
                                },
                                {
                                    "Model": "TUCSON",
                                    "ModelYear": "2023",
                                    "NumberOfVehicles": "95"
                                },
                                {
                                    "Model": "G80",
                                    "ModelYear": "2023",
                                    "NumberOfVehicles": "14"
                                },
                                {
                                    "Model": "MODEL X",
                                    "ModelYear": "2023",
                                    "NumberOfVehicles": "1446"
                                },
                                {
                                    "Model": "330E",
                                    "ModelYear": "2023",
                                    "NumberOfVehicles": "116"
                                },
                                {
                                    "Model": "LEAF",
                                    "ModelYear": "2023",
                                    "NumberOfVehicles": "743"
                                },
                                {
                                    "Model": "EQE-CLASS SEDAN",
                                    "ModelYear": "2023",
                                    "NumberOfVehicles": "100"
                                },
                                {
                                    "Model": "COUNTRYMAN",
                                    "ModelYear": "2023",
                                    "NumberOfVehicles": "28"
                                },
                                {
                                    "Model": "PS2",
                                    "ModelYear": "2023",
                                    "NumberOfVehicles": "267"
                                },
                                {
                                    "Model": "AIR",
                                    "ModelYear": "2023",
                                    "NumberOfVehicles": "152"
                                },
                                {
                                    "Model": "GRAND CHEROKEE",
                                    "ModelYear": "2023",
                                    "NumberOfVehicles": "638"
                                },
                                {
                                    "Model": "RANGE ROVER",
                                    "ModelYear": "2023",
                                    "NumberOfVehicles": "2"
                                },
                                {
                                    "Model": "CORSAIR",
                                    "ModelYear": "2023",
                                    "NumberOfVehicles": "26"
                                },
                                {
                                    "Model": "RAV4 PRIME",
                                    "ModelYear": "2023",
                                    "NumberOfVehicles": "683"
                                },
                                {
                                    "Model": "IONIQ 6",
                                    "ModelYear": "2023",
                                    "NumberOfVehicles": "275"
                                },
                                {
                                    "Model": "XC40",
                                    "ModelYear": "2023",
                                    "NumberOfVehicles": "446"
                                },
                                {
                                    "Model": "R1S",
                                    "ModelYear": "2023",
                                    "NumberOfVehicles": "1764"
                                },
                                {
                                    "Model": "BZ4X",
                                    "ModelYear": "2023",
                                    "NumberOfVehicles": "371"
                                },
                                {
                                    "Model": "MUSTANG MACH-E",
                                    "ModelYear": "2023",
                                    "NumberOfVehicles": "1826"
                                },
                                {
                                    "Model": "SORENTO",
                                    "ModelYear": "2023",
                                    "NumberOfVehicles": "238"
                                },
                                {
                                    "Model": "SPORTAGE",
                                    "ModelYear": "2023",
                                    "NumberOfVehicles": "1018"
                                },
                                {
                                    "Model": "I4",
                                    "ModelYear": "2023",
                                    "NumberOfVehicles": "691"
                                },
                                {
                                    "Model": "SOLTERRA",
                                    "ModelYear": "2023",
                                    "NumberOfVehicles": "791"
                                },
                                {
                                    "Model": "S90",
                                    "ModelYear": "2023",
                                    "NumberOfVehicles": "2"
                                },
                                {
                                    "Model": "I-PACE",
                                    "ModelYear": "2023",
                                    "NumberOfVehicles": "5"
                                },
                                {
                                    "Model": "LYRIQ",
                                    "ModelYear": "2023",
                                    "NumberOfVehicles": "56"
                                },
                                {
                                    "Model": "Q5 E",
                                    "ModelYear": "2023",
                                    "NumberOfVehicles": "143"
                                },
                                {
                                    "Model": "S60",
                                    "ModelYear": "2023",
                                    "NumberOfVehicles": "28"
                                },
                                {
                                    "Model": "MODEL S",
                                    "ModelYear": "2023",
                                    "NumberOfVehicles": "574"
                                },
                                {
                                    "Model": "TAYCAN",
                                    "ModelYear": "2023",
                                    "NumberOfVehicles": "135"
                                },
                                {
                                    "Model": "F-150",
                                    "ModelYear": "2023",
                                    "NumberOfVehicles": "1609"
                                },
                                {
                                    "Model": "BOLT EUV",
                                    "ModelYear": "2023",
                                    "NumberOfVehicles": "1931"
                                },
                                {
                                    "Model": "PACIFICA",
                                    "ModelYear": "2023",
                                    "NumberOfVehicles": "1134"
                                },
                                {
                                    "Model": "EQS-CLASS SUV",
                                    "ModelYear": "2023",
                                    "NumberOfVehicles": "251"
                                },
                                {
                                    "Model": "WRANGLER",
                                    "ModelYear": "2023",
                                    "NumberOfVehicles": "1462"
                                },
                                {
                                    "Model": "RZ",
                                    "ModelYear": "2023",
                                    "NumberOfVehicles": "214"
                                },
                                {
                                    "Model": "OCEAN",
                                    "ModelYear": "2023",
                                    "NumberOfVehicles": "170"
                                },
                                {
                                    "Model": "NX",
                                    "ModelYear": "2023",
                                    "NumberOfVehicles": "23"
                                },
                                {
                                    "Model": "GV70",
                                    "ModelYear": "2023",
                                    "NumberOfVehicles": "15"
                                },
                                {
                                    "Model": "X5",
                                    "ModelYear": "2023",
                                    "NumberOfVehicles": "550"
                                },
                                {
                                    "Model": "EQB-CLASS",
                                    "ModelYear": "2023",
                                    "NumberOfVehicles": "300"
                                },
                                {
                                    "Model": "ESCAPE",
                                    "ModelYear": "2023",
                                    "NumberOfVehicles": "120"
                                },
                                {
                                    "Model": "NIRO",
                                    "ModelYear": "2023",
                                    "NumberOfVehicles": "852"
                                },
                                {
                                    "Model": "I7",
                                    "ModelYear": "2023",
                                    "NumberOfVehicles": "19"
                                },
                                {
                                    "Model": "EDV",
                                    "ModelYear": "2023",
                                    "NumberOfVehicles": "277"
                                },
                                {
                                    "Model": "SANTA FE",
                                    "ModelYear": "2023",
                                    "NumberOfVehicles": "157"
                                },
                                {
                                    "Model": "E-TRON GT",
                                    "ModelYear": "2023",
                                    "NumberOfVehicles": "49"
                                },
                                {
                                    "Model": "XC60",
                                    "ModelYear": "2023",
                                    "NumberOfVehicles": "241"
                                },
                                {
                                    "Model": "KONA ELECTRIC",
                                    "ModelYear": "2023",
                                    "NumberOfVehicles": "392"
                                },
                                {
                                    "Model": "BOLT EV",
                                    "ModelYear": "2023",
                                    "NumberOfVehicles": "1140"
                                },
                                {
                                    "Model": "ID.4",
                                    "ModelYear": "2023",
                                    "NumberOfVehicles": "2592"
                                },
                                {
                                    "Model": "MODEL Y",
                                    "ModelYear": "2023",
                                    "NumberOfVehicles": "18973"
                                },
                                {
                                    "Model": "MODEL 3",
                                    "ModelYear": "2023",
                                    "NumberOfVehicles": "7553"
                                },
                                {
                                    "Model": "HARDTOP",
                                    "ModelYear": "2023",
                                    "NumberOfVehicles": "205"
                                },
                                {
                                    "Model": "EV6",
                                    "ModelYear": "2023",
                                    "NumberOfVehicles": "1019"
                                },
                                {
                                    "Model": "RANGE ROVER SPORT",
                                    "ModelYear": "2023",
                                    "NumberOfVehicles": "4"
                                },
                                {
                                    "Model": "XC90",
                                    "ModelYear": "2023",
                                    "NumberOfVehicles": "255"
                                },
                                {
                                    "Model": "E-TRON",
                                    "ModelYear": "2023",
                                    "NumberOfVehicles": "114"
                                },
                                {
                                    "Model": "Q4",
                                    "ModelYear": "2023",
                                    "NumberOfVehicles": "366"
                                },
                                {
                                    "Model": "EQE-CLASS SUV",
                                    "ModelYear": "2023",
                                    "NumberOfVehicles": "309"
                                },
                                {
                                    "Model": "MX-30",
                                    "ModelYear": "2023",
                                    "NumberOfVehicles": "1"
                                },
                                {
                                    "Model": "IONIQ 5",
                                    "ModelYear": "2023",
                                    "NumberOfVehicles": "1865"
                                },
                                {
                                    "Model": "GV60",
                                    "ModelYear": "2023",
                                    "NumberOfVehicles": "136"
                                },
                                {
                                    "Model": "RS E-TRON GT",
                                    "ModelYear": "2023",
                                    "NumberOfVehicles": "16"
                                },
                                {
                                    "Model": "ARIYA",
                                    "ModelYear": "2023",
                                    "NumberOfVehicles": "758"
                                },
                                {
                                    "Model": "OUTLANDER",
                                    "ModelYear": "2023",
                                    "NumberOfVehicles": "368"
                                },
                                {
                                    "Model": "PANAMERA",
                                    "ModelYear": "2023",
                                    "NumberOfVehicles": "11"
                                },
                                {
                                    "Model": "CAYENNE",
                                    "ModelYear": "2023",
                                    "NumberOfVehicles": "33"
                                },
                                {
                                    "Model": "V60",
                                    "ModelYear": "2023",
                                    "NumberOfVehicles": "11"
                                },
                                {
                                    "Model": "PRIUS PRIME",
                                    "ModelYear": "2023",
                                    "NumberOfVehicles": "91"
                                },
                                {
                                    "Model": "TRANSIT",
                                    "ModelYear": "2023",
                                    "NumberOfVehicles": "235"
                                },
                                {
                                    "Model": "SOLTERRA",
                                    "ModelYear": "2024",
                                    "NumberOfVehicles": "110"
                                },
                                {
                                    "Model": "R1T",
                                    "ModelYear": "2024",
                                    "NumberOfVehicles": "68"
                                },
                                {
                                    "Model": "PROMASTER 3500",
                                    "ModelYear": "2024",
                                    "NumberOfVehicles": "2"
                                },
                                {
                                    "Model": "I5",
                                    "ModelYear": "2024",
                                    "NumberOfVehicles": "94"
                                },
                                {
                                    "Model": "HUMMER EV PICKUP",
                                    "ModelYear": "2024",
                                    "NumberOfVehicles": "11"
                                },
                                {
                                    "Model": "NIRO",
                                    "ModelYear": "2024",
                                    "NumberOfVehicles": "352"
                                },
                                {
                                    "Model": "MODEL Y",
                                    "ModelYear": "2024",
                                    "NumberOfVehicles": "3902"
                                },
                                {
                                    "Model": "KONA ELECTRIC",
                                    "ModelYear": "2024",
                                    "NumberOfVehicles": "155"
                                },
                                {
                                    "Model": "ARIYA",
                                    "ModelYear": "2024",
                                    "NumberOfVehicles": "42"
                                },
                                {
                                    "Model": "XM",
                                    "ModelYear": "2024",
                                    "NumberOfVehicles": "10"
                                },
                                {
                                    "Model": "SPORTAGE",
                                    "ModelYear": "2024",
                                    "NumberOfVehicles": "142"
                                },
                                {
                                    "Model": "330E",
                                    "ModelYear": "2024",
                                    "NumberOfVehicles": "31"
                                },
                                {
                                    "Model": "ZDX",
                                    "ModelYear": "2024",
                                    "NumberOfVehicles": "1"
                                },
                                {
                                    "Model": "R1S",
                                    "ModelYear": "2024",
                                    "NumberOfVehicles": "511"
                                },
                                {
                                    "Model": "V60",
                                    "ModelYear": "2024",
                                    "NumberOfVehicles": "39"
                                },
                                {
                                    "Model": "750E",
                                    "ModelYear": "2024",
                                    "NumberOfVehicles": "1"
                                },
                                {
                                    "Model": "EDV",
                                    "ModelYear": "2024",
                                    "NumberOfVehicles": "2"
                                },
                                {
                                    "Model": "I7",
                                    "ModelYear": "2024",
                                    "NumberOfVehicles": "25"
                                },
                                {
                                    "Model": "SPECTRE",
                                    "ModelYear": "2024",
                                    "NumberOfVehicles": "2"
                                },
                                {
                                    "Model": "RAV4 PRIME",
                                    "ModelYear": "2024",
                                    "NumberOfVehicles": "682"
                                },
                                {
                                    "Model": "GLE-CLASS",
                                    "ModelYear": "2024",
                                    "NumberOfVehicles": "111"
                                },
                                {
                                    "Model": "TUCSON",
                                    "ModelYear": "2024",
                                    "NumberOfVehicles": "73"
                                },
                                {
                                    "Model": "EQS-CLASS SEDAN",
                                    "ModelYear": "2024",
                                    "NumberOfVehicles": "9"
                                },
                                {
                                    "Model": "NX",
                                    "ModelYear": "2024",
                                    "NumberOfVehicles": "162"
                                },
                                {
                                    "Model": "PS2",
                                    "ModelYear": "2024",
                                    "NumberOfVehicles": "150"
                                },
                                {
                                    "Model": "MUSTANG MACH-E",
                                    "ModelYear": "2024",
                                    "NumberOfVehicles": "16"
                                },
                                {
                                    "Model": "LEAF",
                                    "ModelYear": "2024",
                                    "NumberOfVehicles": "153"
                                },
                                {
                                    "Model": "BZ4X",
                                    "ModelYear": "2024",
                                    "NumberOfVehicles": "222"
                                },
                                {
                                    "Model": "TONALE",
                                    "ModelYear": "2024",
                                    "NumberOfVehicles": "56"
                                },
                                {
                                    "Model": "XC60",
                                    "ModelYear": "2024",
                                    "NumberOfVehicles": "219"
                                },
                                {
                                    "Model": "SORENTO",
                                    "ModelYear": "2024",
                                    "NumberOfVehicles": "71"
                                },
                                {
                                    "Model": "XC90",
                                    "ModelYear": "2024",
                                    "NumberOfVehicles": "201"
                                },
                                {
                                    "Model": "SQ8",
                                    "ModelYear": "2024",
                                    "NumberOfVehicles": "12"
                                },
                                {
                                    "Model": "XC40",
                                    "ModelYear": "2024",
                                    "NumberOfVehicles": "88"
                                },
                                {
                                    "Model": "BLAZER EV",
                                    "ModelYear": "2024",
                                    "NumberOfVehicles": "91"
                                },
                                {
                                    "Model": "LYRIQ",
                                    "ModelYear": "2024",
                                    "NumberOfVehicles": "408"
                                },
                                {
                                    "Model": "S60",
                                    "ModelYear": "2024",
                                    "NumberOfVehicles": "30"
                                },
                                {
                                    "Model": "RS E-TRON GT",
                                    "ModelYear": "2024",
                                    "NumberOfVehicles": "5"
                                },
                                {
                                    "Model": "Q8",
                                    "ModelYear": "2024",
                                    "NumberOfVehicles": "354"
                                },
                                {
                                    "Model": "EQE-CLASS SEDAN",
                                    "ModelYear": "2024",
                                    "NumberOfVehicles": "32"
                                },
                                {
                                    "Model": "GRAND CHEROKEE",
                                    "ModelYear": "2024",
                                    "NumberOfVehicles": "327"
                                },
                                {
                                    "Model": "RZ",
                                    "ModelYear": "2024",
                                    "NumberOfVehicles": "35"
                                },
                                {
                                    "Model": "PROLOGUE",
                                    "ModelYear": "2024",
                                    "NumberOfVehicles": "12"
                                },
                                {
                                    "Model": "GV60",
                                    "ModelYear": "2024",
                                    "NumberOfVehicles": "23"
                                },
                                {
                                    "Model": "GV70",
                                    "ModelYear": "2024",
                                    "NumberOfVehicles": "31"
                                },
                                {
                                    "Model": "S-CLASS",
                                    "ModelYear": "2024",
                                    "NumberOfVehicles": "2"
                                },
                                {
                                    "Model": "Q5 E",
                                    "ModelYear": "2024",
                                    "NumberOfVehicles": "100"
                                },
                                {
                                    "Model": "OUTLANDER",
                                    "ModelYear": "2024",
                                    "NumberOfVehicles": "24"
                                },
                                {
                                    "Model": "CORSAIR",
                                    "ModelYear": "2024",
                                    "NumberOfVehicles": "5"
                                },
                                {
                                    "Model": "AIR",
                                    "ModelYear": "2024",
                                    "NumberOfVehicles": "11"
                                },
                                {
                                    "Model": "Q4",
                                    "ModelYear": "2024",
                                    "NumberOfVehicles": "175"
                                },
                                {
                                    "Model": "WRANGLER",
                                    "ModelYear": "2024",
                                    "NumberOfVehicles": "1190"
                                },
                                {
                                    "Model": "IONIQ 6",
                                    "ModelYear": "2024",
                                    "NumberOfVehicles": "126"
                                },
                                {
                                    "Model": "S90",
                                    "ModelYear": "2024",
                                    "NumberOfVehicles": "3"
                                },
                                {
                                    "Model": "RANGE ROVER SPORT",
                                    "ModelYear": "2024",
                                    "NumberOfVehicles": "4"
                                },
                                {
                                    "Model": "I4",
                                    "ModelYear": "2024",
                                    "NumberOfVehicles": "384"
                                },
                                {
                                    "Model": "EV6",
                                    "ModelYear": "2024",
                                    "NumberOfVehicles": "340"
                                },
                                {
                                    "Model": "CX-90",
                                    "ModelYear": "2024",
                                    "NumberOfVehicles": "575"
                                },
                                {
                                    "Model": "ESCAPE",
                                    "ModelYear": "2024",
                                    "NumberOfVehicles": "15"
                                },
                                {
                                    "Model": "CYBERTRUCK",
                                    "ModelYear": "2024",
                                    "NumberOfVehicles": "128"
                                },
                                {
                                    "Model": "EV9",
                                    "ModelYear": "2024",
                                    "NumberOfVehicles": "411"
                                },
                                {
                                    "Model": "MODEL S",
                                    "ModelYear": "2024",
                                    "NumberOfVehicles": "95"
                                },
                                {
                                    "Model": "F-150",
                                    "ModelYear": "2024",
                                    "NumberOfVehicles": "18"
                                },
                                {
                                    "Model": "EQE-CLASS SUV",
                                    "ModelYear": "2024",
                                    "NumberOfVehicles": "33"
                                },
                                {
                                    "Model": "PACIFICA",
                                    "ModelYear": "2024",
                                    "NumberOfVehicles": "335"
                                },
                                {
                                    "Model": "SILVERADO EV",
                                    "ModelYear": "2024",
                                    "NumberOfVehicles": "87"
                                },
                                {
                                    "Model": "C40",
                                    "ModelYear": "2024",
                                    "NumberOfVehicles": "13"
                                },
                                {
                                    "Model": "IX",
                                    "ModelYear": "2024",
                                    "NumberOfVehicles": "514"
                                },
                                {
                                    "Model": "RANGE ROVER",
                                    "ModelYear": "2024",
                                    "NumberOfVehicles": "7"
                                },
                                {
                                    "Model": "TAYCAN",
                                    "ModelYear": "2024",
                                    "NumberOfVehicles": "69"
                                },
                                {
                                    "Model": "I-PACE",
                                    "ModelYear": "2024",
                                    "NumberOfVehicles": "6"
                                },
                                {
                                    "Model": "RX",
                                    "ModelYear": "2024",
                                    "NumberOfVehicles": "74"
                                },
                                {
                                    "Model": "IONIQ 5",
                                    "ModelYear": "2024",
                                    "NumberOfVehicles": "459"
                                },
                                {
                                    "Model": "TX",
                                    "ModelYear": "2024",
                                    "NumberOfVehicles": "7"
                                },
                                {
                                    "Model": "HARDTOP",
                                    "ModelYear": "2024",
                                    "NumberOfVehicles": "202"
                                },
                                {
                                    "Model": "EQS-CLASS SUV",
                                    "ModelYear": "2024",
                                    "NumberOfVehicles": "8"
                                },
                                {
                                    "Model": "X5",
                                    "ModelYear": "2024",
                                    "NumberOfVehicles": "495"
                                },
                                {
                                    "Model": "HORNET",
                                    "ModelYear": "2024",
                                    "NumberOfVehicles": "619"
                                },
                                {
                                    "Model": "E-TRON GT",
                                    "ModelYear": "2024",
                                    "NumberOfVehicles": "13"
                                },
                                {
                                    "Model": "MODEL 3",
                                    "ModelYear": "2024",
                                    "NumberOfVehicles": "775"
                                },
                                {
                                    "Model": "PRIUS PRIME",
                                    "ModelYear": "2024",
                                    "NumberOfVehicles": "230"
                                },
                                {
                                    "Model": "ID.4",
                                    "ModelYear": "2024",
                                    "NumberOfVehicles": "26"
                                },
                                {
                                    "Model": "MODEL X",
                                    "ModelYear": "2024",
                                    "NumberOfVehicles": "312"
                                },
                                {
                                    "Model": "NX",
                                    "ModelYear": "2025",
                                    "NumberOfVehicles": "1"
                                },
                                {
                                    "Model": "IONIQ 5 N",
                                    "ModelYear": "2025",
                                    "NumberOfVehicles": "5"
                                }
                            ]
                        },
                        "text/html": [
                            "<table>",
                            "<tr><th>Model</th><th>ModelYear</th><th>NumberOfVehicles</th></tr>",
                            "<tr><td>S-10 PICKUP</td><td>1997</td><td>1</td></tr>",
                            "<tr><td>RANGER</td><td>1998</td><td>1</td></tr>",
                            "<tr><td>RANGER</td><td>1999</td><td>5</td></tr>",
                            "<tr><td>RANGER</td><td>2000</td><td>7</td></tr>",
                            "<tr><td>RAV4</td><td>2002</td><td>2</td></tr>",
                            "<tr><td>RAV4</td><td>2003</td><td>1</td></tr>",
                            "<tr><td>ROADSTER</td><td>2008</td><td>21</td></tr>",
                            "<tr><td>ROADSTER</td><td>2010</td><td>21</td></tr>",
                            "<tr><td>WHEEGO</td><td>2010</td><td>3</td></tr>",
                            "<tr><td>TRANSIT CONNECT ELECTRIC</td><td>2011</td><td>5</td></tr>",
                            "<tr><td>LEAF</td><td>2011</td><td>652</td></tr>",
                            "<tr><td>ROADSTER</td><td>2011</td><td>6</td></tr>",
                            "<tr><td>CITY</td><td>2011</td><td>5</td></tr>",
                            "<tr><td>VOLT</td><td>2011</td><td>68</td></tr>",
                            "<tr><td>MODEL S</td><td>2012</td><td>130</td></tr>",
                            "<tr><td>FOCUS</td><td>2012</td><td>12</td></tr>",
                            "<tr><td>VOLT</td><td>2012</td><td>456</td></tr>",
                            "<tr><td>LEAF</td><td>2012</td><td>556</td></tr>",
                            "<tr><td>RAV4</td><td>2012</td><td>9</td></tr>",
                            "<tr><td>PRIUS PLUG-IN</td><td>2012</td><td>378</td></tr>",
                            "<tr><td>KARMA</td><td>2012</td><td>11</td></tr>",
                            "<tr><td>TRANSIT CONNECT ELECTRIC</td><td>2012</td><td>3</td></tr>",
                            "<tr><td>I-MIEV</td><td>2012</td><td>40</td></tr>",
                            "<tr><td>C-MAX</td><td>2013</td><td>360</td></tr>",
                            "<tr><td>LEAF</td><td>2013</td><td>1854</td></tr>",
                            "<tr><td>CR-V</td><td>2013</td><td>7</td></tr>",
                            "<tr><td>MODEL S</td><td>2013</td><td>716</td></tr>",
                            "<tr><td>RAV4</td><td>2013</td><td>13</td></tr>",
                            "<tr><td>FORTWO ELECTRIC DRIVE</td><td>2013</td><td>26</td></tr>",
                            "<tr><td>FOCUS</td><td>2013</td><td>62</td></tr>",
                            "<tr><td>VOLT</td><td>2013</td><td>774</td></tr>",
                            "<tr><td>FUSION</td><td>2013</td><td>166</td></tr>",
                            "<tr><td>500</td><td>2013</td><td>106</td></tr>",
                            "<tr><td>PRIUS PLUG-IN</td><td>2013</td><td>279</td></tr>",
                            "<tr><td>B-CLASS</td><td>2014</td><td>27</td></tr>",
                            "<tr><td>ACCORD</td><td>2014</td><td>10</td></tr>",
                            "<tr><td>RAV4</td><td>2014</td><td>26</td></tr>",
                            "<tr><td>LEAF</td><td>2014</td><td>625</td></tr>",
                            "<tr><td>FOCUS</td><td>2014</td><td>58</td></tr>",
                            "<tr><td>SPARK</td><td>2014</td><td>55</td></tr>",
                            "<tr><td>FORTWO ELECTRIC DRIVE</td><td>2014</td><td>72</td></tr>",
                            "<tr><td>C-MAX</td><td>2014</td><td>275</td></tr>",
                            "<tr><td>PRIUS PLUG-IN</td><td>2014</td><td>198</td></tr>",
                            "<tr><td>PANAMERA</td><td>2014</td><td>10</td></tr>",
                            "<tr><td>I3</td><td>2014</td><td>422</td></tr>",
                            "<tr><td>ELR</td><td>2014</td><td>56</td></tr>",
                            "<tr><td>FUSION</td><td>2014</td><td>270</td></tr>",
                            "<tr><td>500</td><td>2014</td><td>90</td></tr>",
                            "<tr><td>I-MIEV</td><td>2014</td><td>9</td></tr>",
                            "<tr><td>VOLT</td><td>2014</td><td>674</td></tr>",
                            "<tr><td>I8</td><td>2014</td><td>11</td></tr>",
                            "<tr><td>MODEL S</td><td>2014</td><td>645</td></tr>",
                            "<tr><td>FUSION</td><td>2015</td><td>217</td></tr>",
                            "<tr><td>VOLT</td><td>2015</td><td>357</td></tr>",
                            "<tr><td>S-CLASS</td><td>2015</td><td>2</td></tr>",
                            "<tr><td>MODEL S</td><td>2015</td><td>1052</td></tr>",
                            "<tr><td>I3</td><td>2015</td><td>369</td></tr>",
                            "<tr><td>FORTWO ELECTRIC DRIVE</td><td>2015</td><td>47</td></tr>",
                            "<tr><td>PANAMERA</td><td>2015</td><td>17</td></tr>",
                            "<tr><td>918</td><td>2015</td><td>1</td></tr>",
                            "<tr><td>FOCUS</td><td>2015</td><td>34</td></tr>",
                            "<tr><td>I8</td><td>2015</td><td>32</td></tr>",
                            "<tr><td>PRIUS PLUG-IN</td><td>2015</td><td>101</td></tr>",
                            "<tr><td>CAYENNE</td><td>2015</td><td>16</td></tr>",
                            "<tr><td>B-CLASS</td><td>2015</td><td>21</td></tr>",
                            "<tr><td>E-GOLF</td><td>2015</td><td>121</td></tr>",
                            "<tr><td>500</td><td>2015</td><td>228</td></tr>",
                            "<tr><td>SPARK</td><td>2015</td><td>99</td></tr>",
                            "<tr><td>LEAF</td><td>2015</td><td>1803</td></tr>",
                            "<tr><td>SOUL</td><td>2015</td><td>20</td></tr>",
                            "<tr><td>C-MAX</td><td>2015</td><td>281</td></tr>",
                            "<tr><td>X5</td><td>2016</td><td>162</td></tr>",
                            "<tr><td>CAYENNE</td><td>2016</td><td>65</td></tr>",
                            "<tr><td>VOLT</td><td>2016</td><td>215</td></tr>",
                            "<tr><td>I3</td><td>2016</td><td>184</td></tr>",
                            "<tr><td>GLE-CLASS</td><td>2016</td><td>10</td></tr>",
                            "<tr><td>A3</td><td>2016</td><td>208</td></tr>",
                            "<tr><td>PANAMERA</td><td>2016</td><td>9</td></tr>",
                            "<tr><td>FORTWO</td><td>2016</td><td>30</td></tr>",
                            "<tr><td>330E</td><td>2016</td><td>8</td></tr>",
                            "<tr><td>LEAF</td><td>2016</td><td>1111</td></tr>",
                            "<tr><td>C-CLASS</td><td>2016</td><td>3</td></tr>",
                            "<tr><td>500</td><td>2016</td><td>141</td></tr>",
                            "<tr><td>SOUL</td><td>2016</td><td>376</td></tr>",
                            "<tr><td>I-MIEV</td><td>2016</td><td>10</td></tr>",
                            "<tr><td>I8</td><td>2016</td><td>18</td></tr>",
                            "<tr><td>MODEL S</td><td>2016</td><td>949</td></tr>",
                            "<tr><td>XC90</td><td>2016</td><td>104</td></tr>",
                            "<tr><td>FOCUS</td><td>2016</td><td>33</td></tr>",
                            "<tr><td>B-CLASS</td><td>2016</td><td>22</td></tr>",
                            "<tr><td>MODEL X</td><td>2016</td><td>669</td></tr>",
                            "<tr><td>S-CLASS</td><td>2016</td><td>2</td></tr>",
                            "<tr><td>C-MAX</td><td>2016</td><td>320</td></tr>",
                            "<tr><td>SONATA</td><td>2016</td><td>42</td></tr>",
                            "<tr><td>E-GOLF</td><td>2016</td><td>324</td></tr>",
                            "<tr><td>SPARK</td><td>2016</td><td>93</td></tr>",
                            "<tr><td>ELR</td><td>2016</td><td>19</td></tr>",
                            "<tr><td>FUSION</td><td>2016</td><td>401</td></tr>",
                            "<tr><td>PACIFICA</td><td>2017</td><td>93</td></tr>",
                            "<tr><td>BOLT EV</td><td>2017</td><td>1446</td></tr>",
                            "<tr><td>A3</td><td>2017</td><td>186</td></tr>",
                            "<tr><td>I8</td><td>2017</td><td>6</td></tr>",
                            "<tr><td>S-CLASS</td><td>2017</td><td>7</td></tr>",
                            "<tr><td>330E</td><td>2017</td><td>96</td></tr>",
                            "<tr><td>OPTIMA</td><td>2017</td><td>56</td></tr>",
                            "<tr><td>B-CLASS</td><td>2017</td><td>22</td></tr>",
                            "<tr><td>VOLT</td><td>2017</td><td>1415</td></tr>",
                            "<tr><td>MODEL X</td><td>2017</td><td>677</td></tr>",
                            "<tr><td>MODEL S</td><td>2017</td><td>936</td></tr>",
                            "<tr><td>740E</td><td>2017</td><td>9</td></tr>",
                            "<tr><td>CT6</td><td>2017</td><td>3</td></tr>",
                            "<tr><td>I-MIEV</td><td>2017</td><td>1</td></tr>",
                            "<tr><td>SONATA</td><td>2017</td><td>28</td></tr>",
                            "<tr><td>LEAF</td><td>2017</td><td>910</td></tr>",
                            "<tr><td>GLE-CLASS</td><td>2017</td><td>11</td></tr>",
                            "<tr><td>C-CLASS</td><td>2017</td><td>5</td></tr>",
                            "<tr><td>I3</td><td>2017</td><td>391</td></tr>",
                            "<tr><td>C-MAX</td><td>2017</td><td>268</td></tr>",
                            "<tr><td>FUSION</td><td>2017</td><td>344</td></tr>",
                            "<tr><td>CAYENNE</td><td>2017</td><td>73</td></tr>",
                            "<tr><td>MODEL 3</td><td>2017</td><td>65</td></tr>",
                            "<tr><td>FORTWO</td><td>2017</td><td>33</td></tr>",
                            "<tr><td>FOCUS</td><td>2017</td><td>22</td></tr>",
                            "<tr><td>X5</td><td>2017</td><td>170</td></tr>",
                            "<tr><td>IONIQ</td><td>2017</td><td>15</td></tr>",
                            "<tr><td>E-GOLF</td><td>2017</td><td>56</td></tr>",
                            "<tr><td>SOUL EV</td><td>2017</td><td>143</td></tr>",
                            "<tr><td>500</td><td>2017</td><td>151</td></tr>",
                            "<tr><td>PRIUS PRIME</td><td>2017</td><td>903</td></tr>",
                            "<tr><td>XC90</td><td>2017</td><td>109</td></tr>",
                            "<tr><td>COUNTRYMAN</td><td>2018</td><td>54</td></tr>",
                            "<tr><td>330E</td><td>2018</td><td>81</td></tr>",
                            "<tr><td>SOUL EV</td><td>2018</td><td>68</td></tr>",
                            "<tr><td>GLC-CLASS</td><td>2018</td><td>20</td></tr>",
                            "<tr><td>GLE-CLASS</td><td>2018</td><td>21</td></tr>",
                            "<tr><td>500</td><td>2018</td><td>50</td></tr>",
                            "<tr><td>XC60</td><td>2018</td><td>125</td></tr>",
                            "<tr><td>PANAMERA</td><td>2018</td><td>56</td></tr>",
                            "<tr><td>FOCUS</td><td>2018</td><td>8</td></tr>",
                            "<tr><td>740E</td><td>2018</td><td>19</td></tr>",
                            "<tr><td>E-GOLF</td><td>2018</td><td>40</td></tr>",
                            "<tr><td>XC90</td><td>2018</td><td>85</td></tr>",
                            "<tr><td>I3</td><td>2018</td><td>231</td></tr>",
                            "<tr><td>X5</td><td>2018</td><td>177</td></tr>",
                            "<tr><td>NIRO</td><td>2018</td><td>194</td></tr>",
                            "<tr><td>MODEL 3</td><td>2018</td><td>6149</td></tr>",
                            "<tr><td>BOLT EV</td><td>2018</td><td>527</td></tr>",
                            "<tr><td>OPTIMA</td><td>2018</td><td>35</td></tr>",
                            "<tr><td>CT6</td><td>2018</td><td>10</td></tr>",
                            "<tr><td>LEAF</td><td>2018</td><td>1197</td></tr>",
                            "<tr><td>OUTLANDER</td><td>2018</td><td>179</td></tr>",
                            "<tr><td>VOLT</td><td>2018</td><td>722</td></tr>",
                            "<tr><td>S90</td><td>2018</td><td>21</td></tr>",
                            "<tr><td>530E</td><td>2018</td><td>196</td></tr>",
                            "<tr><td>PRIUS PRIME</td><td>2018</td><td>683</td></tr>",
                            "<tr><td>MODEL X</td><td>2018</td><td>902</td></tr>",
                            "<tr><td>CLARITY</td><td>2018</td><td>613</td></tr>",
                            "<tr><td>EQ FORTWO</td><td>2018</td><td>41</td></tr>",
                            "<tr><td>C-CLASS</td><td>2018</td><td>11</td></tr>",
                            "<tr><td>MODEL S</td><td>2018</td><td>904</td></tr>",
                            "<tr><td>IONIQ</td><td>2018</td><td>20</td></tr>",
                            "<tr><td>PACIFICA</td><td>2018</td><td>548</td></tr>",
                            "<tr><td>A3</td><td>2018</td><td>166</td></tr>",
                            "<tr><td>CAYENNE</td><td>2018</td><td>25</td></tr>",
                            "<tr><td>FUSION</td><td>2018</td><td>162</td></tr>",
                            "<tr><td>IONIQ</td><td>2019</td><td>82</td></tr>",
                            "<tr><td>MODEL 3</td><td>2019</td><td>3961</td></tr>",
                            "<tr><td>NIRO</td><td>2019</td><td>674</td></tr>",
                            "<tr><td>CAYENNE</td><td>2019</td><td>68</td></tr>",
                            "<tr><td>OUTLANDER</td><td>2019</td><td>171</td></tr>",
                            "<tr><td>MODEL X</td><td>2019</td><td>421</td></tr>",
                            "<tr><td>GLC-CLASS</td><td>2019</td><td>149</td></tr>",
                            "<tr><td>EQ FORTWO</td><td>2019</td><td>10</td></tr>",
                            "<tr><td>BOLT EV</td><td>2019</td><td>1080</td></tr>",
                            "<tr><td>S60</td><td>2019</td><td>11</td></tr>",
                            "<tr><td>PANAMERA</td><td>2019</td><td>8</td></tr>",
                            "<tr><td>VOLT</td><td>2019</td><td>120</td></tr>",
                            "<tr><td>I8</td><td>2019</td><td>27</td></tr>",
                            "<tr><td>I-PACE</td><td>2019</td><td>122</td></tr>",
                            "<tr><td>PACIFICA</td><td>2019</td><td>112</td></tr>",
                            "<tr><td>PRIUS PRIME</td><td>2019</td><td>220</td></tr>",
                            "<tr><td>LEAF</td><td>2019</td><td>1369</td></tr>",
                            "<tr><td>SOUL EV</td><td>2019</td><td>3</td></tr>",
                            "<tr><td>E-GOLF</td><td>2019</td><td>530</td></tr>",
                            "<tr><td>OPTIMA</td><td>2019</td><td>2</td></tr>",
                            "<tr><td>S90</td><td>2019</td><td>4</td></tr>",
                            "<tr><td>MODEL S</td><td>2019</td><td>274</td></tr>",
                            "<tr><td>740E</td><td>2019</td><td>5</td></tr>",
                            "<tr><td>XC60</td><td>2019</td><td>112</td></tr>",
                            "<tr><td>530E</td><td>2019</td><td>93</td></tr>",
                            "<tr><td>COUNTRYMAN</td><td>2019</td><td>108</td></tr>",
                            "<tr><td>SONATA</td><td>2019</td><td>6</td></tr>",
                            "<tr><td>CLARITY</td><td>2019</td><td>102</td></tr>",
                            "<tr><td>XC90</td><td>2019</td><td>73</td></tr>",
                            "<tr><td>FUSION</td><td>2019</td><td>148</td></tr>",
                            "<tr><td>E-TRON</td><td>2019</td><td>537</td></tr>",
                            "<tr><td>I3</td><td>2019</td><td>199</td></tr>",
                            "<tr><td>500</td><td>2019</td><td>15</td></tr>",
                            "<tr><td>KONA</td><td>2019</td><td>48</td></tr>",
                            "<tr><td>CROSSTREK</td><td>2019</td><td>69</td></tr>",
                            "<tr><td>X3</td><td>2020</td><td>88</td></tr>",
                            "<tr><td>CAYENNE</td><td>2020</td><td>29</td></tr>",
                            "<tr><td>TAYCAN</td><td>2020</td><td>141</td></tr>",
                            "<tr><td>CLARITY</td><td>2020</td><td>90</td></tr>",
                            "<tr><td>IONIQ</td><td>2020</td><td>96</td></tr>",
                            "<tr><td>LEAF</td><td>2020</td><td>711</td></tr>",
                            "<tr><td>Q5 E</td><td>2020</td><td>218</td></tr>",
                            "<tr><td>HARDTOP</td><td>2020</td><td>15</td></tr>",
                            "<tr><td>MODEL 3</td><td>2020</td><td>3687</td></tr>",
                            "<tr><td>I8</td><td>2020</td><td>1</td></tr>",
                            "<tr><td>XC60</td><td>2020</td><td>89</td></tr>",
                            "<tr><td>FUSION</td><td>2020</td><td>73</td></tr>",
                            "<tr><td>BOLT EV</td><td>2020</td><td>1480</td></tr>",
                            "<tr><td>RANGE ROVER SPORT</td><td>2020</td><td>24</td></tr>",
                            "<tr><td>GLC-CLASS</td><td>2020</td><td>37</td></tr>",
                            "<tr><td>A8 E</td><td>2020</td><td>3</td></tr>",
                            "<tr><td>COUNTRYMAN</td><td>2020</td><td>2</td></tr>",
                            "<tr><td>745E</td><td>2020</td><td>10</td></tr>",
                            "<tr><td>MODEL Y</td><td>2020</td><td>2397</td></tr>",
                            "<tr><td>XC90</td><td>2020</td><td>101</td></tr>",
                            "<tr><td>RANGE ROVER</td><td>2020</td><td>10</td></tr>",
                            "<tr><td>530E</td><td>2020</td><td>18</td></tr>",
                            "<tr><td>PACIFICA</td><td>2020</td><td>289</td></tr>",
                            "<tr><td>E-TRON SPORTBACK</td><td>2020</td><td>24</td></tr>",
                            "<tr><td>AVIATOR</td><td>2020</td><td>38</td></tr>",
                            "<tr><td>PRIUS PRIME</td><td>2020</td><td>371</td></tr>",
                            "<tr><td>V60</td><td>2020</td><td>4</td></tr>",
                            "<tr><td>S90</td><td>2020</td><td>4</td></tr>",
                            "<tr><td>S60</td><td>2020</td><td>11</td></tr>",
                            "<tr><td>PANAMERA</td><td>2020</td><td>9</td></tr>",
                            "<tr><td>MODEL X</td><td>2020</td><td>694</td></tr>",
                            "<tr><td>NIRO</td><td>2020</td><td>520</td></tr>",
                            "<tr><td>I-PACE</td><td>2020</td><td>82</td></tr>",
                            "<tr><td>KONA</td><td>2020</td><td>174</td></tr>",
                            "<tr><td>MODEL S</td><td>2020</td><td>415</td></tr>",
                            "<tr><td>OUTLANDER</td><td>2020</td><td>96</td></tr>",
                            "<tr><td>I3</td><td>2020</td><td>85</td></tr>",
                            "<tr><td>OPTIMA</td><td>2020</td><td>13</td></tr>",
                            "<tr><td>Q5 E</td><td>2021</td><td>299</td></tr>",
                            "<tr><td>MODEL Y</td><td>2021</td><td>6830</td></tr>",
                            "<tr><td>LEAF</td><td>2021</td><td>686</td></tr>",
                            "<tr><td>MUSTANG MACH-E</td><td>2021</td><td>874</td></tr>",
                            "<tr><td>TAYCAN</td><td>2021</td><td>151</td></tr>",
                            "<tr><td>MODEL 3</td><td>2021</td><td>3914</td></tr>",
                            "<tr><td>530E</td><td>2021</td><td>26</td></tr>",
                            "<tr><td>I3</td><td>2021</td><td>44</td></tr>",
                            "<tr><td>CLARITY</td><td>2021</td><td>23</td></tr>",
                            "<tr><td>AVIATOR</td><td>2021</td><td>44</td></tr>",
                            "<tr><td>X5</td><td>2021</td><td>314</td></tr>",
                            "<tr><td>A7 E</td><td>2021</td><td>13</td></tr>",
                            "<tr><td>X3</td><td>2021</td><td>223</td></tr>",
                            "<tr><td>XC60</td><td>2021</td><td>161</td></tr>",
                            "<tr><td>V60</td><td>2021</td><td>5</td></tr>",
                            "<tr><td>RAV4 PRIME</td><td>2021</td><td>835</td></tr>",
                            "<tr><td>RANGE ROVER SPORT</td><td>2021</td><td>6</td></tr>",
                            "<tr><td>330E</td><td>2021</td><td>69</td></tr>",
                            "<tr><td>KONA ELECTRIC</td><td>2021</td><td>157</td></tr>",
                            "<tr><td>BENTAYGA</td><td>2021</td><td>1</td></tr>",
                            "<tr><td>S60</td><td>2021</td><td>35</td></tr>",
                            "<tr><td>PANAMERA</td><td>2021</td><td>6</td></tr>",
                            "<tr><td>E-TRON</td><td>2021</td><td>182</td></tr>",
                            "<tr><td>COUNTRYMAN</td><td>2021</td><td>11</td></tr>",
                            "<tr><td>MODEL X</td><td>2021</td><td>179</td></tr>",
                            "<tr><td>OUTLANDER</td><td>2021</td><td>7</td></tr>",
                            "<tr><td>ID.4</td><td>2021</td><td>994</td></tr>",
                            "<tr><td>ESCAPE</td><td>2021</td><td>60</td></tr>",
                            "<tr><td>BOLT EV</td><td>2021</td><td>465</td></tr>",
                            "<tr><td>XC90</td><td>2021</td><td>281</td></tr>",
                            "<tr><td>WRANGLER</td><td>2021</td><td>602</td></tr>",
                            "<tr><td>745E</td><td>2021</td><td>1</td></tr>",
                            "<tr><td>CAYENNE</td><td>2021</td><td>26</td></tr>",
                            "<tr><td>NIRO</td><td>2021</td><td>80</td></tr>",
                            "<tr><td>XC40</td><td>2021</td><td>263</td></tr>",
                            "<tr><td>RANGE ROVER</td><td>2021</td><td>3</td></tr>",
                            "<tr><td>CORSAIR</td><td>2021</td><td>4</td></tr>",
                            "<tr><td>IONIQ</td><td>2021</td><td>38</td></tr>",
                            "<tr><td>HARDTOP</td><td>2021</td><td>125</td></tr>",
                            "<tr><td>MODEL S</td><td>2021</td><td>489</td></tr>",
                            "<tr><td>E-TRON SPORTBACK</td><td>2021</td><td>75</td></tr>",
                            "<tr><td>PRIUS PRIME</td><td>2021</td><td>281</td></tr>",
                            "<tr><td>PS2</td><td>2021</td><td>152</td></tr>",
                            "<tr><td>PACIFICA</td><td>2021</td><td>497</td></tr>",
                            "<tr><td>AVIATOR</td><td>2022</td><td>42</td></tr>",
                            "<tr><td>BOLT EUV</td><td>2022</td><td>719</td></tr>",
                            "<tr><td>IONIQ</td><td>2022</td><td>15</td></tr>",
                            "<tr><td>MODEL Y</td><td>2022</td><td>7419</td></tr>",
                            "<tr><td>NIRO</td><td>2022</td><td>686</td></tr>",
                            "<tr><td>Q4</td><td>2022</td><td>77</td></tr>",
                            "<tr><td>C40</td><td>2022</td><td>124</td></tr>",
                            "<tr><td>PRIUS PRIME</td><td>2022</td><td>206</td></tr>",
                            "<tr><td>GRAND CHEROKEE</td><td>2022</td><td>288</td></tr>",
                            "<tr><td>S60</td><td>2022</td><td>44</td></tr>",
                            "<tr><td>330E</td><td>2022</td><td>73</td></tr>",
                            "<tr><td>F-150</td><td>2022</td><td>339</td></tr>",
                            "<tr><td>PANAMERA</td><td>2022</td><td>8</td></tr>",
                            "<tr><td>OUTLANDER</td><td>2022</td><td>91</td></tr>",
                            "<tr><td>IX</td><td>2022</td><td>137</td></tr>",
                            "<tr><td>MODEL X</td><td>2022</td><td>826</td></tr>",
                            "<tr><td>PS2</td><td>2022</td><td>370</td></tr>",
                            "<tr><td>IONIQ 5</td><td>2022</td><td>423</td></tr>",
                            "<tr><td>KONA ELECTRIC</td><td>2022</td><td>112</td></tr>",
                            "<tr><td>Q5</td><td>2022</td><td>139</td></tr>",
                            "<tr><td>EQB-CLASS</td><td>2022</td><td>54</td></tr>",
                            "<tr><td>TRANSIT</td><td>2022</td><td>139</td></tr>",
                            "<tr><td>XC60</td><td>2022</td><td>240</td></tr>",
                            "<tr><td>XC40</td><td>2022</td><td>251</td></tr>",
                            "<tr><td>R1S</td><td>2022</td><td>178</td></tr>",
                            "<tr><td>R1T</td><td>2022</td><td>897</td></tr>",
                            "<tr><td>EQS-CLASS SEDAN</td><td>2022</td><td>100</td></tr>",
                            "<tr><td>CAYENNE</td><td>2022</td><td>32</td></tr>",
                            "<tr><td>I4</td><td>2022</td><td>115</td></tr>",
                            "<tr><td>AIR</td><td>2022</td><td>100</td></tr>",
                            "<tr><td>ID.4</td><td>2022</td><td>725</td></tr>",
                            "<tr><td>CORSAIR</td><td>2022</td><td>69</td></tr>",
                            "<tr><td>E-TRON GT</td><td>2022</td><td>74</td></tr>",
                            "<tr><td>MX-30</td><td>2022</td><td>5</td></tr>",
                            "<tr><td>FLYING SPUR</td><td>2022</td><td>2</td></tr>",
                            "<tr><td>E-TRON</td><td>2022</td><td>243</td></tr>",
                            "<tr><td>RS E-TRON GT</td><td>2022</td><td>21</td></tr>",
                            "<tr><td>MUSTANG MACH-E</td><td>2022</td><td>1042</td></tr>",
                            "<tr><td>PACIFICA</td><td>2022</td><td>385</td></tr>",
                            "<tr><td>MODEL S</td><td>2022</td><td>690</td></tr>",
                            "<tr><td>ESCAPE</td><td>2022</td><td>228</td></tr>",
                            "<tr><td>EV6</td><td>2022</td><td>1019</td></tr>",
                            "<tr><td>WRANGLER</td><td>2022</td><td>489</td></tr>",
                            "<tr><td>EDV</td><td>2022</td><td>243</td></tr>",
                            "<tr><td>NX</td><td>2022</td><td>51</td></tr>",
                            "<tr><td>TUCSON</td><td>2022</td><td>46</td></tr>",
                            "<tr><td>E-TRON SPORTBACK</td><td>2022</td><td>78</td></tr>",
                            "<tr><td>SANTA FE</td><td>2022</td><td>73</td></tr>",
                            "<tr><td>I-PACE</td><td>2022</td><td>19</td></tr>",
                            "<tr><td>X5</td><td>2022</td><td>588</td></tr>",
                            "<tr><td>XC90</td><td>2022</td><td>343</td></tr>",
                            "<tr><td>745LE</td><td>2022</td><td>2</td></tr>",
                            "<tr><td>LEAF</td><td>2022</td><td>1069</td></tr>",
                            "<tr><td>530E</td><td>2022</td><td>31</td></tr>",
                            "<tr><td>V60</td><td>2022</td><td>4</td></tr>",
                            "<tr><td>HARDTOP</td><td>2022</td><td>214</td></tr>",
                            "<tr><td>TAYCAN</td><td>2022</td><td>184</td></tr>",
                            "<tr><td>BOLT EV</td><td>2022</td><td>306</td></tr>",
                            "<tr><td>SORENTO</td><td>2022</td><td>339</td></tr>",
                            "<tr><td>COUNTRYMAN</td><td>2022</td><td>20</td></tr>",
                            "<tr><td>MODEL 3</td><td>2022</td><td>4874</td></tr>",
                            "<tr><td>RAV4 PRIME</td><td>2022</td><td>396</td></tr>",
                            "<tr><td>C40</td><td>2023</td><td>289</td></tr>",
                            "<tr><td>IX</td><td>2023</td><td>276</td></tr>",
                            "<tr><td>EQS-CLASS SEDAN</td><td>2023</td><td>105</td></tr>",
                            "<tr><td>R1T</td><td>2023</td><td>811</td></tr>",
                            "<tr><td>AVIATOR</td><td>2023</td><td>53</td></tr>",
                            "<tr><td>530E</td><td>2023</td><td>56</td></tr>",
                            "<tr><td>TUCSON</td><td>2023</td><td>95</td></tr>",
                            "<tr><td>G80</td><td>2023</td><td>14</td></tr>",
                            "<tr><td>MODEL X</td><td>2023</td><td>1446</td></tr>",
                            "<tr><td>330E</td><td>2023</td><td>116</td></tr>",
                            "<tr><td>LEAF</td><td>2023</td><td>743</td></tr>",
                            "<tr><td>EQE-CLASS SEDAN</td><td>2023</td><td>100</td></tr>",
                            "<tr><td>COUNTRYMAN</td><td>2023</td><td>28</td></tr>",
                            "<tr><td>PS2</td><td>2023</td><td>267</td></tr>",
                            "<tr><td>AIR</td><td>2023</td><td>152</td></tr>",
                            "<tr><td>GRAND CHEROKEE</td><td>2023</td><td>638</td></tr>",
                            "<tr><td>RANGE ROVER</td><td>2023</td><td>2</td></tr>",
                            "<tr><td>CORSAIR</td><td>2023</td><td>26</td></tr>",
                            "<tr><td>RAV4 PRIME</td><td>2023</td><td>683</td></tr>",
                            "<tr><td>IONIQ 6</td><td>2023</td><td>275</td></tr>",
                            "<tr><td>XC40</td><td>2023</td><td>446</td></tr>",
                            "<tr><td>R1S</td><td>2023</td><td>1764</td></tr>",
                            "<tr><td>BZ4X</td><td>2023</td><td>371</td></tr>",
                            "<tr><td>MUSTANG MACH-E</td><td>2023</td><td>1826</td></tr>",
                            "<tr><td>SORENTO</td><td>2023</td><td>238</td></tr>",
                            "<tr><td>SPORTAGE</td><td>2023</td><td>1018</td></tr>",
                            "<tr><td>I4</td><td>2023</td><td>691</td></tr>",
                            "<tr><td>SOLTERRA</td><td>2023</td><td>791</td></tr>",
                            "<tr><td>S90</td><td>2023</td><td>2</td></tr>",
                            "<tr><td>I-PACE</td><td>2023</td><td>5</td></tr>",
                            "<tr><td>LYRIQ</td><td>2023</td><td>56</td></tr>",
                            "<tr><td>Q5 E</td><td>2023</td><td>143</td></tr>",
                            "<tr><td>S60</td><td>2023</td><td>28</td></tr>",
                            "<tr><td>MODEL S</td><td>2023</td><td>574</td></tr>",
                            "<tr><td>TAYCAN</td><td>2023</td><td>135</td></tr>",
                            "<tr><td>F-150</td><td>2023</td><td>1609</td></tr>",
                            "<tr><td>BOLT EUV</td><td>2023</td><td>1931</td></tr>",
                            "<tr><td>PACIFICA</td><td>2023</td><td>1134</td></tr>",
                            "<tr><td>EQS-CLASS SUV</td><td>2023</td><td>251</td></tr>",
                            "<tr><td>WRANGLER</td><td>2023</td><td>1462</td></tr>",
                            "<tr><td>RZ</td><td>2023</td><td>214</td></tr>",
                            "<tr><td>OCEAN</td><td>2023</td><td>170</td></tr>",
                            "<tr><td>NX</td><td>2023</td><td>23</td></tr>",
                            "<tr><td>GV70</td><td>2023</td><td>15</td></tr>",
                            "<tr><td>X5</td><td>2023</td><td>550</td></tr>",
                            "<tr><td>EQB-CLASS</td><td>2023</td><td>300</td></tr>",
                            "<tr><td>ESCAPE</td><td>2023</td><td>120</td></tr>",
                            "<tr><td>NIRO</td><td>2023</td><td>852</td></tr>",
                            "<tr><td>I7</td><td>2023</td><td>19</td></tr>",
                            "<tr><td>EDV</td><td>2023</td><td>277</td></tr>",
                            "<tr><td>SANTA FE</td><td>2023</td><td>157</td></tr>",
                            "<tr><td>E-TRON GT</td><td>2023</td><td>49</td></tr>",
                            "<tr><td>XC60</td><td>2023</td><td>241</td></tr>",
                            "<tr><td>KONA ELECTRIC</td><td>2023</td><td>392</td></tr>",
                            "<tr><td>BOLT EV</td><td>2023</td><td>1140</td></tr>",
                            "<tr><td>ID.4</td><td>2023</td><td>2592</td></tr>",
                            "<tr><td>MODEL Y</td><td>2023</td><td>18973</td></tr>",
                            "<tr><td>MODEL 3</td><td>2023</td><td>7553</td></tr>",
                            "<tr><td>HARDTOP</td><td>2023</td><td>205</td></tr>",
                            "<tr><td>EV6</td><td>2023</td><td>1019</td></tr>",
                            "<tr><td>RANGE ROVER SPORT</td><td>2023</td><td>4</td></tr>",
                            "<tr><td>XC90</td><td>2023</td><td>255</td></tr>",
                            "<tr><td>E-TRON</td><td>2023</td><td>114</td></tr>",
                            "<tr><td>Q4</td><td>2023</td><td>366</td></tr>",
                            "<tr><td>EQE-CLASS SUV</td><td>2023</td><td>309</td></tr>",
                            "<tr><td>MX-30</td><td>2023</td><td>1</td></tr>",
                            "<tr><td>IONIQ 5</td><td>2023</td><td>1865</td></tr>",
                            "<tr><td>GV60</td><td>2023</td><td>136</td></tr>",
                            "<tr><td>RS E-TRON GT</td><td>2023</td><td>16</td></tr>",
                            "<tr><td>ARIYA</td><td>2023</td><td>758</td></tr>",
                            "<tr><td>OUTLANDER</td><td>2023</td><td>368</td></tr>",
                            "<tr><td>PANAMERA</td><td>2023</td><td>11</td></tr>",
                            "<tr><td>CAYENNE</td><td>2023</td><td>33</td></tr>",
                            "<tr><td>V60</td><td>2023</td><td>11</td></tr>",
                            "<tr><td>PRIUS PRIME</td><td>2023</td><td>91</td></tr>",
                            "<tr><td>TRANSIT</td><td>2023</td><td>235</td></tr>",
                            "<tr><td>SOLTERRA</td><td>2024</td><td>110</td></tr>",
                            "<tr><td>R1T</td><td>2024</td><td>68</td></tr>",
                            "<tr><td>PROMASTER 3500</td><td>2024</td><td>2</td></tr>",
                            "<tr><td>I5</td><td>2024</td><td>94</td></tr>",
                            "<tr><td>HUMMER EV PICKUP</td><td>2024</td><td>11</td></tr>",
                            "<tr><td>NIRO</td><td>2024</td><td>352</td></tr>",
                            "<tr><td>MODEL Y</td><td>2024</td><td>3902</td></tr>",
                            "<tr><td>KONA ELECTRIC</td><td>2024</td><td>155</td></tr>",
                            "<tr><td>ARIYA</td><td>2024</td><td>42</td></tr>",
                            "<tr><td>XM</td><td>2024</td><td>10</td></tr>",
                            "<tr><td>SPORTAGE</td><td>2024</td><td>142</td></tr>",
                            "<tr><td>330E</td><td>2024</td><td>31</td></tr>",
                            "<tr><td>ZDX</td><td>2024</td><td>1</td></tr>",
                            "<tr><td>R1S</td><td>2024</td><td>511</td></tr>",
                            "<tr><td>V60</td><td>2024</td><td>39</td></tr>",
                            "<tr><td>750E</td><td>2024</td><td>1</td></tr>",
                            "<tr><td>EDV</td><td>2024</td><td>2</td></tr>",
                            "<tr><td>I7</td><td>2024</td><td>25</td></tr>",
                            "<tr><td>SPECTRE</td><td>2024</td><td>2</td></tr>",
                            "<tr><td>RAV4 PRIME</td><td>2024</td><td>682</td></tr>",
                            "<tr><td>GLE-CLASS</td><td>2024</td><td>111</td></tr>",
                            "<tr><td>TUCSON</td><td>2024</td><td>73</td></tr>",
                            "<tr><td>EQS-CLASS SEDAN</td><td>2024</td><td>9</td></tr>",
                            "<tr><td>NX</td><td>2024</td><td>162</td></tr>",
                            "<tr><td>PS2</td><td>2024</td><td>150</td></tr>",
                            "<tr><td>MUSTANG MACH-E</td><td>2024</td><td>16</td></tr>",
                            "<tr><td>LEAF</td><td>2024</td><td>153</td></tr>",
                            "<tr><td>BZ4X</td><td>2024</td><td>222</td></tr>",
                            "<tr><td>TONALE</td><td>2024</td><td>56</td></tr>",
                            "<tr><td>XC60</td><td>2024</td><td>219</td></tr>",
                            "<tr><td>SORENTO</td><td>2024</td><td>71</td></tr>",
                            "<tr><td>XC90</td><td>2024</td><td>201</td></tr>",
                            "<tr><td>SQ8</td><td>2024</td><td>12</td></tr>",
                            "<tr><td>XC40</td><td>2024</td><td>88</td></tr>",
                            "<tr><td>BLAZER EV</td><td>2024</td><td>91</td></tr>",
                            "<tr><td>LYRIQ</td><td>2024</td><td>408</td></tr>",
                            "<tr><td>S60</td><td>2024</td><td>30</td></tr>",
                            "<tr><td>RS E-TRON GT</td><td>2024</td><td>5</td></tr>",
                            "<tr><td>Q8</td><td>2024</td><td>354</td></tr>",
                            "<tr><td>EQE-CLASS SEDAN</td><td>2024</td><td>32</td></tr>",
                            "<tr><td>GRAND CHEROKEE</td><td>2024</td><td>327</td></tr>",
                            "<tr><td>RZ</td><td>2024</td><td>35</td></tr>",
                            "<tr><td>PROLOGUE</td><td>2024</td><td>12</td></tr>",
                            "<tr><td>GV60</td><td>2024</td><td>23</td></tr>",
                            "<tr><td>GV70</td><td>2024</td><td>31</td></tr>",
                            "<tr><td>S-CLASS</td><td>2024</td><td>2</td></tr>",
                            "<tr><td>Q5 E</td><td>2024</td><td>100</td></tr>",
                            "<tr><td>OUTLANDER</td><td>2024</td><td>24</td></tr>",
                            "<tr><td>CORSAIR</td><td>2024</td><td>5</td></tr>",
                            "<tr><td>AIR</td><td>2024</td><td>11</td></tr>",
                            "<tr><td>Q4</td><td>2024</td><td>175</td></tr>",
                            "<tr><td>WRANGLER</td><td>2024</td><td>1190</td></tr>",
                            "<tr><td>IONIQ 6</td><td>2024</td><td>126</td></tr>",
                            "<tr><td>S90</td><td>2024</td><td>3</td></tr>",
                            "<tr><td>RANGE ROVER SPORT</td><td>2024</td><td>4</td></tr>",
                            "<tr><td>I4</td><td>2024</td><td>384</td></tr>",
                            "<tr><td>EV6</td><td>2024</td><td>340</td></tr>",
                            "<tr><td>CX-90</td><td>2024</td><td>575</td></tr>",
                            "<tr><td>ESCAPE</td><td>2024</td><td>15</td></tr>",
                            "<tr><td>CYBERTRUCK</td><td>2024</td><td>128</td></tr>",
                            "<tr><td>EV9</td><td>2024</td><td>411</td></tr>",
                            "<tr><td>MODEL S</td><td>2024</td><td>95</td></tr>",
                            "<tr><td>F-150</td><td>2024</td><td>18</td></tr>",
                            "<tr><td>EQE-CLASS SUV</td><td>2024</td><td>33</td></tr>",
                            "<tr><td>PACIFICA</td><td>2024</td><td>335</td></tr>",
                            "<tr><td>SILVERADO EV</td><td>2024</td><td>87</td></tr>",
                            "<tr><td>C40</td><td>2024</td><td>13</td></tr>",
                            "<tr><td>IX</td><td>2024</td><td>514</td></tr>",
                            "<tr><td>RANGE ROVER</td><td>2024</td><td>7</td></tr>",
                            "<tr><td>TAYCAN</td><td>2024</td><td>69</td></tr>",
                            "<tr><td>I-PACE</td><td>2024</td><td>6</td></tr>",
                            "<tr><td>RX</td><td>2024</td><td>74</td></tr>",
                            "<tr><td>IONIQ 5</td><td>2024</td><td>459</td></tr>",
                            "<tr><td>TX</td><td>2024</td><td>7</td></tr>",
                            "<tr><td>HARDTOP</td><td>2024</td><td>202</td></tr>",
                            "<tr><td>EQS-CLASS SUV</td><td>2024</td><td>8</td></tr>",
                            "<tr><td>X5</td><td>2024</td><td>495</td></tr>",
                            "<tr><td>HORNET</td><td>2024</td><td>619</td></tr>",
                            "<tr><td>E-TRON GT</td><td>2024</td><td>13</td></tr>",
                            "<tr><td>MODEL 3</td><td>2024</td><td>775</td></tr>",
                            "<tr><td>PRIUS PRIME</td><td>2024</td><td>230</td></tr>",
                            "<tr><td>ID.4</td><td>2024</td><td>26</td></tr>",
                            "<tr><td>MODEL X</td><td>2024</td><td>312</td></tr>",
                            "<tr><td>NX</td><td>2025</td><td>1</td></tr>",
                            "<tr><td>IONIQ 5 N</td><td>2025</td><td>5</td></tr>",
                            "</table>"
                        ]
                    }
                }
            ],
            "execution_count": 19
        }
    ]
}