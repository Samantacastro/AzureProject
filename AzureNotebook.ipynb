{
    "metadata": {
        "kernelspec": {
            "name": "SQL",
            "display_name": "SQL",
            "language": "sql"
        },
        "language_info": {
            "name": "sql",
            "version": ""
        }
    },
    "nbformat_minor": 2,
    "nbformat": 4,
    "cells": [
        {
            "cell_type": "markdown",
            "source": [
                "# Electric Vehicle Population in Washington DC"
            ],
            "metadata": {
                "azdata_cell_guid": "0b04b50b-0850-48f2-a203-7f11e9c42bd7"
            },
            "attachments": {}
        },
        {
            "cell_type": "markdown",
            "source": [
                "<span style=\"box-sizing: inherit; padding-left: 0.5rem; font-weight: bold; color: rgb(110, 110, 110); margin-left: 8px;\">Metadata Updated:</span> <span itemprop=\"dateModified\" style=\"box-sizing: inherit; color: rgb(125, 125, 125);\"><a href=\"https://catalog.data.gov/dataset/electric-vehicle-population-data#sec-dates\" style=\"box-sizing: inherit; color: rgb(40, 74, 122); background-color: transparent;\">June 22, 2024</a></span>\n",
                "\n",
                "[This dataset](https:\\catalog.data.gov\\dataset\\electric-vehicle-population-data) shows the Battery Electric Vehicles (BEVs) and Plug-in Hybrid Electric Vehicles (PHEVs) that are currently registered through Washington State Department of Licensing (DOL)."
            ],
            "metadata": {
                "azdata_cell_guid": "8c09fdf5-d70b-4791-a8d5-c064d0e2848a"
            },
            "attachments": {}
        },
        {
            "cell_type": "markdown",
            "source": [
                "## 1. Vehicle by Year"
            ],
            "metadata": {
                "azdata_cell_guid": "517dfb92-7f21-4575-bbca-20b2836c7f4c"
            },
            "attachments": {}
        },
        {
            "cell_type": "markdown",
            "source": [
                "Quantity of Vehicle by Year from 2010 to 2025."
            ],
            "metadata": {
                "azdata_cell_guid": "2fe241d9-8f17-43a9-9ea7-d0cf10b54b01"
            },
            "attachments": {}
        },
        {
            "cell_type": "code",
            "source": [
                "SELECT ModelYear,\r\n",
                "    COUNT(*) AS [Number of Vehicles]\r\n",
                "FROM AzureProject.dbo.EVPopulationWA\r\n",
                "WHERE ModelYear > 2010\r\n",
                "GROUP BY ModelYear\r\n",
                "ORDER BY ModelYear;"
            ],
            "metadata": {
                "azdata_cell_guid": "d57c8b99-3250-451a-b249-5abf95001367",
                "language": "sql",
                "tags": []
            },
            "outputs": [
                {
                    "output_type": "display_data",
                    "data": {
                        "text/html": "(15 rows affected)"
                    },
                    "metadata": {}
                },
                {
                    "output_type": "display_data",
                    "data": {
                        "text/html": "Total execution time: 00:00:04.067"
                    },
                    "metadata": {}
                },
                {
                    "output_type": "execute_result",
                    "metadata": {
                        "azdata_chartOptions": {
                            "type": "bar",
                            "dataDirection": "horizontal",
                            "columnsAsLabels": true,
                            "labelFirstColumn": true,
                            "legendPosition": "top"
                        }
                    },
                    "execution_count": 6,
                    "data": {
                        "application/vnd.dataresource+json": {
                            "schema": {
                                "fields": [
                                    {
                                        "name": "ModelYear"
                                    },
                                    {
                                        "name": "Number of Vehicles"
                                    }
                                ]
                            },
                            "data": [
                                {
                                    "ModelYear": "2011",
                                    "Number of Vehicles": "736"
                                },
                                {
                                    "ModelYear": "2012",
                                    "Number of Vehicles": "1595"
                                },
                                {
                                    "ModelYear": "2013",
                                    "Number of Vehicles": "4363"
                                },
                                {
                                    "ModelYear": "2014",
                                    "Number of Vehicles": "3533"
                                },
                                {
                                    "ModelYear": "2015",
                                    "Number of Vehicles": "4818"
                                },
                                {
                                    "ModelYear": "2016",
                                    "Number of Vehicles": "5528"
                                },
                                {
                                    "ModelYear": "2017",
                                    "Number of Vehicles": "8650"
                                },
                                {
                                    "ModelYear": "2018",
                                    "Number of Vehicles": "14340"
                                },
                                {
                                    "ModelYear": "2019",
                                    "Number of Vehicles": "10933"
                                },
                                {
                                    "ModelYear": "2020",
                                    "Number of Vehicles": "12149"
                                },
                                {
                                    "ModelYear": "2021",
                                    "Number of Vehicles": "19531"
                                },
                                {
                                    "ModelYear": "2022",
                                    "Number of Vehicles": "28116"
                                },
                                {
                                    "ModelYear": "2023",
                                    "Number of Vehicles": "60084"
                                },
                                {
                                    "ModelYear": "2024",
                                    "Number of Vehicles": "16963"
                                },
                                {
                                    "ModelYear": "2025",
                                    "Number of Vehicles": "6"
                                }
                            ]
                        },
                        "text/html": [
                            "<table>",
                            "<tr><th>ModelYear</th><th>Number of Vehicles</th></tr>",
                            "<tr><td>2011</td><td>736</td></tr>",
                            "<tr><td>2012</td><td>1595</td></tr>",
                            "<tr><td>2013</td><td>4363</td></tr>",
                            "<tr><td>2014</td><td>3533</td></tr>",
                            "<tr><td>2015</td><td>4818</td></tr>",
                            "<tr><td>2016</td><td>5528</td></tr>",
                            "<tr><td>2017</td><td>8650</td></tr>",
                            "<tr><td>2018</td><td>14340</td></tr>",
                            "<tr><td>2019</td><td>10933</td></tr>",
                            "<tr><td>2020</td><td>12149</td></tr>",
                            "<tr><td>2021</td><td>19531</td></tr>",
                            "<tr><td>2022</td><td>28116</td></tr>",
                            "<tr><td>2023</td><td>60084</td></tr>",
                            "<tr><td>2024</td><td>16963</td></tr>",
                            "<tr><td>2025</td><td>6</td></tr>",
                            "</table>"
                        ]
                    }
                }
            ],
            "execution_count": 6
        },
        {
            "cell_type": "markdown",
            "source": [
                "## 2. Top 10 Most Popular Electric  Vehicle Models starting from 2018"
            ],
            "metadata": {
                "language": "sql",
                "azdata_cell_guid": "284aeef0-0e83-4200-bd66-b46a83184c18"
            },
            "attachments": {}
        },
        {
            "cell_type": "markdown",
            "source": [
                "This bar chart highlights the top 10 most popular electric vehicle models after 2018."
            ],
            "metadata": {
                "language": "sql",
                "azdata_cell_guid": "cadc5a76-3c63-4c0c-9a45-af9d0f0af7a9"
            },
            "attachments": {}
        },
        {
            "cell_type": "code",
            "source": [
                "SELECT Model,\r\n",
                "       COUNT(*) AS EVType\r\n",
                "FROM AzureProject.dbo.EVPopulationWA\r\n",
                "GROUP BY Model\r\n",
                "ORDER BY EVType DESC"
            ],
            "metadata": {
                "language": "sql",
                "azdata_cell_guid": "a29fb308-993b-411e-89fc-a41be4381647"
            },
            "outputs": [
                {
                    "output_type": "display_data",
                    "data": {
                        "text/html": "(147 rows affected)"
                    },
                    "metadata": {}
                },
                {
                    "output_type": "display_data",
                    "data": {
                        "text/html": "Total execution time: 00:00:00.269"
                    },
                    "metadata": {}
                },
                {
                    "output_type": "execute_result",
                    "metadata": {
                        "azdata_chartOptions": {
                            "type": "bar",
                            "dataDirection": "vertical",
                            "columnsAsLabels": true,
                            "labelFirstColumn": true,
                            "legendPosition": "bottom",
                            "encoding": "hex",
                            "imageFormat": "jpeg",
                            "dataType": "number"
                        }
                    },
                    "execution_count": 13,
                    "data": {
                        "application/vnd.dataresource+json": {
                            "schema": {
                                "fields": [
                                    {
                                        "name": "Model"
                                    },
                                    {
                                        "name": "EVType"
                                    }
                                ]
                            },
                            "data": [
                                {
                                    "Model": "MODEL Y",
                                    "EVType": "39521"
                                },
                                {
                                    "Model": "MODEL 3",
                                    "EVType": "30978"
                                },
                                {
                                    "Model": "LEAF",
                                    "EVType": "13439"
                                },
                                {
                                    "Model": "MODEL S",
                                    "EVType": "7869"
                                },
                                {
                                    "Model": "BOLT EV",
                                    "EVType": "6444"
                                },
                                {
                                    "Model": "MODEL X",
                                    "EVType": "6126"
                                },
                                {
                                    "Model": "VOLT",
                                    "EVType": "4801"
                                },
                                {
                                    "Model": "ID.4",
                                    "EVType": "4337"
                                },
                                {
                                    "Model": "MUSTANG MACH-E",
                                    "EVType": "3758"
                                },
                                {
                                    "Model": "WRANGLER",
                                    "EVType": "3743"
                                },
                                {
                                    "Model": "PACIFICA",
                                    "EVType": "3393"
                                },
                                {
                                    "Model": "NIRO",
                                    "EVType": "3358"
                                },
                                {
                                    "Model": "PRIUS PRIME",
                                    "EVType": "2985"
                                },
                                {
                                    "Model": "IONIQ 5",
                                    "EVType": "2747"
                                },
                                {
                                    "Model": "BOLT EUV",
                                    "EVType": "2650"
                                },
                                {
                                    "Model": "RAV4 PRIME",
                                    "EVType": "2596"
                                },
                                {
                                    "Model": "X5",
                                    "EVType": "2456"
                                },
                                {
                                    "Model": "R1S",
                                    "EVType": "2453"
                                },
                                {
                                    "Model": "EV6",
                                    "EVType": "2378"
                                },
                                {
                                    "Model": "F-150",
                                    "EVType": "1966"
                                },
                                {
                                    "Model": "I3",
                                    "EVType": "1925"
                                },
                                {
                                    "Model": "FUSION",
                                    "EVType": "1781"
                                },
                                {
                                    "Model": "R1T",
                                    "EVType": "1776"
                                },
                                {
                                    "Model": "XC90",
                                    "EVType": "1552"
                                },
                                {
                                    "Model": "C-MAX",
                                    "EVType": "1504"
                                },
                                {
                                    "Model": "GRAND CHEROKEE",
                                    "EVType": "1253"
                                },
                                {
                                    "Model": "I4",
                                    "EVType": "1190"
                                },
                                {
                                    "Model": "XC60",
                                    "EVType": "1187"
                                },
                                {
                                    "Model": "SPORTAGE",
                                    "EVType": "1160"
                                },
                                {
                                    "Model": "E-TRON",
                                    "EVType": "1076"
                                },
                                {
                                    "Model": "E-GOLF",
                                    "EVType": "1071"
                                },
                                {
                                    "Model": "XC40",
                                    "EVType": "1048"
                                },
                                {
                                    "Model": "PRIUS PLUG-IN",
                                    "EVType": "956"
                                },
                                {
                                    "Model": "PS2",
                                    "EVType": "939"
                                },
                                {
                                    "Model": "OUTLANDER",
                                    "EVType": "936"
                                },
                                {
                                    "Model": "IX",
                                    "EVType": "927"
                                },
                                {
                                    "Model": "SOLTERRA",
                                    "EVType": "901"
                                },
                                {
                                    "Model": "CLARITY",
                                    "EVType": "828"
                                },
                                {
                                    "Model": "KONA ELECTRIC",
                                    "EVType": "816"
                                },
                                {
                                    "Model": "ARIYA",
                                    "EVType": "800"
                                },
                                {
                                    "Model": "500",
                                    "EVType": "781"
                                },
                                {
                                    "Model": "HARDTOP",
                                    "EVType": "761"
                                },
                                {
                                    "Model": "Q5 E",
                                    "EVType": "760"
                                },
                                {
                                    "Model": "TAYCAN",
                                    "EVType": "680"
                                },
                                {
                                    "Model": "SORENTO",
                                    "EVType": "648"
                                },
                                {
                                    "Model": "HORNET",
                                    "EVType": "619"
                                },
                                {
                                    "Model": "Q4",
                                    "EVType": "618"
                                },
                                {
                                    "Model": "BZ4X",
                                    "EVType": "593"
                                },
                                {
                                    "Model": "CX-90",
                                    "EVType": "575"
                                },
                                {
                                    "Model": "A3",
                                    "EVType": "560"
                                },
                                {
                                    "Model": "EDV",
                                    "EVType": "522"
                                },
                                {
                                    "Model": "330E",
                                    "EVType": "474"
                                },
                                {
                                    "Model": "LYRIQ",
                                    "EVType": "464"
                                },
                                {
                                    "Model": "C40",
                                    "EVType": "426"
                                },
                                {
                                    "Model": "ESCAPE",
                                    "EVType": "423"
                                },
                                {
                                    "Model": "530E",
                                    "EVType": "420"
                                },
                                {
                                    "Model": "EV9",
                                    "EVType": "411"
                                },
                                {
                                    "Model": "IONIQ 6",
                                    "EVType": "401"
                                },
                                {
                                    "Model": "SOUL",
                                    "EVType": "396"
                                },
                                {
                                    "Model": "TRANSIT",
                                    "EVType": "374"
                                },
                                {
                                    "Model": "CAYENNE",
                                    "EVType": "367"
                                },
                                {
                                    "Model": "EQB-CLASS",
                                    "EVType": "354"
                                },
                                {
                                    "Model": "Q8",
                                    "EVType": "354"
                                },
                                {
                                    "Model": "EQE-CLASS SUV",
                                    "EVType": "342"
                                },
                                {
                                    "Model": "X3",
                                    "EVType": "311"
                                },
                                {
                                    "Model": "IONIQ",
                                    "EVType": "266"
                                },
                                {
                                    "Model": "AIR",
                                    "EVType": "263"
                                },
                                {
                                    "Model": "EQS-CLASS SUV",
                                    "EVType": "259"
                                },
                                {
                                    "Model": "RZ",
                                    "EVType": "249"
                                },
                                {
                                    "Model": "SPARK",
                                    "EVType": "247"
                                },
                                {
                                    "Model": "NX",
                                    "EVType": "237"
                                },
                                {
                                    "Model": "I-PACE",
                                    "EVType": "234"
                                },
                                {
                                    "Model": "SANTA FE",
                                    "EVType": "230"
                                },
                                {
                                    "Model": "FOCUS",
                                    "EVType": "229"
                                },
                                {
                                    "Model": "COUNTRYMAN",
                                    "EVType": "223"
                                },
                                {
                                    "Model": "KONA",
                                    "EVType": "222"
                                },
                                {
                                    "Model": "EQS-CLASS SEDAN",
                                    "EVType": "214"
                                },
                                {
                                    "Model": "SOUL EV",
                                    "EVType": "214"
                                },
                                {
                                    "Model": "TUCSON",
                                    "EVType": "214"
                                },
                                {
                                    "Model": "GLC-CLASS",
                                    "EVType": "206"
                                },
                                {
                                    "Model": "E-TRON SPORTBACK",
                                    "EVType": "177"
                                },
                                {
                                    "Model": "AVIATOR",
                                    "EVType": "177"
                                },
                                {
                                    "Model": "OCEAN",
                                    "EVType": "170"
                                },
                                {
                                    "Model": "GV60",
                                    "EVType": "159"
                                },
                                {
                                    "Model": "S60",
                                    "EVType": "159"
                                },
                                {
                                    "Model": "GLE-CLASS",
                                    "EVType": "153"
                                },
                                {
                                    "Model": "FORTWO ELECTRIC DRIVE",
                                    "EVType": "145"
                                },
                                {
                                    "Model": "Q5",
                                    "EVType": "139"
                                },
                                {
                                    "Model": "E-TRON GT",
                                    "EVType": "136"
                                },
                                {
                                    "Model": "PANAMERA",
                                    "EVType": "134"
                                },
                                {
                                    "Model": "EQE-CLASS SEDAN",
                                    "EVType": "132"
                                },
                                {
                                    "Model": "CYBERTRUCK",
                                    "EVType": "128"
                                },
                                {
                                    "Model": "OPTIMA",
                                    "EVType": "106"
                                },
                                {
                                    "Model": "CORSAIR",
                                    "EVType": "104"
                                },
                                {
                                    "Model": "I8",
                                    "EVType": "95"
                                },
                                {
                                    "Model": "I5",
                                    "EVType": "94"
                                },
                                {
                                    "Model": "B-CLASS",
                                    "EVType": "92"
                                },
                                {
                                    "Model": "BLAZER EV",
                                    "EVType": "91"
                                },
                                {
                                    "Model": "SILVERADO EV",
                                    "EVType": "87"
                                },
                                {
                                    "Model": "SONATA",
                                    "EVType": "76"
                                },
                                {
                                    "Model": "ELR",
                                    "EVType": "75"
                                },
                                {
                                    "Model": "RX",
                                    "EVType": "74"
                                },
                                {
                                    "Model": "CROSSTREK",
                                    "EVType": "69"
                                },
                                {
                                    "Model": "FORTWO",
                                    "EVType": "63"
                                },
                                {
                                    "Model": "V60",
                                    "EVType": "63"
                                },
                                {
                                    "Model": "I-MIEV",
                                    "EVType": "60"
                                },
                                {
                                    "Model": "TONALE",
                                    "EVType": "56"
                                },
                                {
                                    "Model": "EQ FORTWO",
                                    "EVType": "51"
                                },
                                {
                                    "Model": "RAV4",
                                    "EVType": "51"
                                },
                                {
                                    "Model": "ROADSTER",
                                    "EVType": "48"
                                },
                                {
                                    "Model": "GV70",
                                    "EVType": "46"
                                },
                                {
                                    "Model": "I7",
                                    "EVType": "44"
                                },
                                {
                                    "Model": "RS E-TRON GT",
                                    "EVType": "42"
                                },
                                {
                                    "Model": "RANGE ROVER SPORT",
                                    "EVType": "38"
                                },
                                {
                                    "Model": "S90",
                                    "EVType": "34"
                                },
                                {
                                    "Model": "740E",
                                    "EVType": "33"
                                },
                                {
                                    "Model": "RANGE ROVER",
                                    "EVType": "22"
                                },
                                {
                                    "Model": "C-CLASS",
                                    "EVType": "19"
                                },
                                {
                                    "Model": "G80",
                                    "EVType": "14"
                                },
                                {
                                    "Model": "CT6",
                                    "EVType": "13"
                                },
                                {
                                    "Model": "S-CLASS",
                                    "EVType": "13"
                                },
                                {
                                    "Model": "A7 E",
                                    "EVType": "13"
                                },
                                {
                                    "Model": "RANGER",
                                    "EVType": "13"
                                },
                                {
                                    "Model": "SQ8",
                                    "EVType": "12"
                                },
                                {
                                    "Model": "PROLOGUE",
                                    "EVType": "12"
                                },
                                {
                                    "Model": "745E",
                                    "EVType": "11"
                                },
                                {
                                    "Model": "HUMMER EV PICKUP",
                                    "EVType": "11"
                                },
                                {
                                    "Model": "KARMA",
                                    "EVType": "11"
                                },
                                {
                                    "Model": "XM",
                                    "EVType": "10"
                                },
                                {
                                    "Model": "ACCORD",
                                    "EVType": "10"
                                },
                                {
                                    "Model": "TRANSIT CONNECT ELECTRIC",
                                    "EVType": "8"
                                },
                                {
                                    "Model": "CR-V",
                                    "EVType": "7"
                                },
                                {
                                    "Model": "TX",
                                    "EVType": "7"
                                },
                                {
                                    "Model": "MX-30",
                                    "EVType": "6"
                                },
                                {
                                    "Model": "IONIQ 5 N",
                                    "EVType": "5"
                                },
                                {
                                    "Model": "CITY",
                                    "EVType": "5"
                                },
                                {
                                    "Model": "A8 E",
                                    "EVType": "3"
                                },
                                {
                                    "Model": "WHEEGO",
                                    "EVType": "3"
                                },
                                {
                                    "Model": "745LE",
                                    "EVType": "2"
                                },
                                {
                                    "Model": "SPECTRE",
                                    "EVType": "2"
                                },
                                {
                                    "Model": "PROMASTER 3500",
                                    "EVType": "2"
                                },
                                {
                                    "Model": "FLYING SPUR",
                                    "EVType": "2"
                                },
                                {
                                    "Model": "BENTAYGA",
                                    "EVType": "1"
                                },
                                {
                                    "Model": "918",
                                    "EVType": "1"
                                },
                                {
                                    "Model": "S-10 PICKUP",
                                    "EVType": "1"
                                },
                                {
                                    "Model": "ZDX",
                                    "EVType": "1"
                                },
                                {
                                    "Model": "750E",
                                    "EVType": "1"
                                }
                            ]
                        },
                        "text/html": [
                            "<table>",
                            "<tr><th>Model</th><th>EVType</th></tr>",
                            "<tr><td>MODEL Y</td><td>39521</td></tr>",
                            "<tr><td>MODEL 3</td><td>30978</td></tr>",
                            "<tr><td>LEAF</td><td>13439</td></tr>",
                            "<tr><td>MODEL S</td><td>7869</td></tr>",
                            "<tr><td>BOLT EV</td><td>6444</td></tr>",
                            "<tr><td>MODEL X</td><td>6126</td></tr>",
                            "<tr><td>VOLT</td><td>4801</td></tr>",
                            "<tr><td>ID.4</td><td>4337</td></tr>",
                            "<tr><td>MUSTANG MACH-E</td><td>3758</td></tr>",
                            "<tr><td>WRANGLER</td><td>3743</td></tr>",
                            "<tr><td>PACIFICA</td><td>3393</td></tr>",
                            "<tr><td>NIRO</td><td>3358</td></tr>",
                            "<tr><td>PRIUS PRIME</td><td>2985</td></tr>",
                            "<tr><td>IONIQ 5</td><td>2747</td></tr>",
                            "<tr><td>BOLT EUV</td><td>2650</td></tr>",
                            "<tr><td>RAV4 PRIME</td><td>2596</td></tr>",
                            "<tr><td>X5</td><td>2456</td></tr>",
                            "<tr><td>R1S</td><td>2453</td></tr>",
                            "<tr><td>EV6</td><td>2378</td></tr>",
                            "<tr><td>F-150</td><td>1966</td></tr>",
                            "<tr><td>I3</td><td>1925</td></tr>",
                            "<tr><td>FUSION</td><td>1781</td></tr>",
                            "<tr><td>R1T</td><td>1776</td></tr>",
                            "<tr><td>XC90</td><td>1552</td></tr>",
                            "<tr><td>C-MAX</td><td>1504</td></tr>",
                            "<tr><td>GRAND CHEROKEE</td><td>1253</td></tr>",
                            "<tr><td>I4</td><td>1190</td></tr>",
                            "<tr><td>XC60</td><td>1187</td></tr>",
                            "<tr><td>SPORTAGE</td><td>1160</td></tr>",
                            "<tr><td>E-TRON</td><td>1076</td></tr>",
                            "<tr><td>E-GOLF</td><td>1071</td></tr>",
                            "<tr><td>XC40</td><td>1048</td></tr>",
                            "<tr><td>PRIUS PLUG-IN</td><td>956</td></tr>",
                            "<tr><td>PS2</td><td>939</td></tr>",
                            "<tr><td>OUTLANDER</td><td>936</td></tr>",
                            "<tr><td>IX</td><td>927</td></tr>",
                            "<tr><td>SOLTERRA</td><td>901</td></tr>",
                            "<tr><td>CLARITY</td><td>828</td></tr>",
                            "<tr><td>KONA ELECTRIC</td><td>816</td></tr>",
                            "<tr><td>ARIYA</td><td>800</td></tr>",
                            "<tr><td>500</td><td>781</td></tr>",
                            "<tr><td>HARDTOP</td><td>761</td></tr>",
                            "<tr><td>Q5 E</td><td>760</td></tr>",
                            "<tr><td>TAYCAN</td><td>680</td></tr>",
                            "<tr><td>SORENTO</td><td>648</td></tr>",
                            "<tr><td>HORNET</td><td>619</td></tr>",
                            "<tr><td>Q4</td><td>618</td></tr>",
                            "<tr><td>BZ4X</td><td>593</td></tr>",
                            "<tr><td>CX-90</td><td>575</td></tr>",
                            "<tr><td>A3</td><td>560</td></tr>",
                            "<tr><td>EDV</td><td>522</td></tr>",
                            "<tr><td>330E</td><td>474</td></tr>",
                            "<tr><td>LYRIQ</td><td>464</td></tr>",
                            "<tr><td>C40</td><td>426</td></tr>",
                            "<tr><td>ESCAPE</td><td>423</td></tr>",
                            "<tr><td>530E</td><td>420</td></tr>",
                            "<tr><td>EV9</td><td>411</td></tr>",
                            "<tr><td>IONIQ 6</td><td>401</td></tr>",
                            "<tr><td>SOUL</td><td>396</td></tr>",
                            "<tr><td>TRANSIT</td><td>374</td></tr>",
                            "<tr><td>CAYENNE</td><td>367</td></tr>",
                            "<tr><td>EQB-CLASS</td><td>354</td></tr>",
                            "<tr><td>Q8</td><td>354</td></tr>",
                            "<tr><td>EQE-CLASS SUV</td><td>342</td></tr>",
                            "<tr><td>X3</td><td>311</td></tr>",
                            "<tr><td>IONIQ</td><td>266</td></tr>",
                            "<tr><td>AIR</td><td>263</td></tr>",
                            "<tr><td>EQS-CLASS SUV</td><td>259</td></tr>",
                            "<tr><td>RZ</td><td>249</td></tr>",
                            "<tr><td>SPARK</td><td>247</td></tr>",
                            "<tr><td>NX</td><td>237</td></tr>",
                            "<tr><td>I-PACE</td><td>234</td></tr>",
                            "<tr><td>SANTA FE</td><td>230</td></tr>",
                            "<tr><td>FOCUS</td><td>229</td></tr>",
                            "<tr><td>COUNTRYMAN</td><td>223</td></tr>",
                            "<tr><td>KONA</td><td>222</td></tr>",
                            "<tr><td>EQS-CLASS SEDAN</td><td>214</td></tr>",
                            "<tr><td>SOUL EV</td><td>214</td></tr>",
                            "<tr><td>TUCSON</td><td>214</td></tr>",
                            "<tr><td>GLC-CLASS</td><td>206</td></tr>",
                            "<tr><td>E-TRON SPORTBACK</td><td>177</td></tr>",
                            "<tr><td>AVIATOR</td><td>177</td></tr>",
                            "<tr><td>OCEAN</td><td>170</td></tr>",
                            "<tr><td>GV60</td><td>159</td></tr>",
                            "<tr><td>S60</td><td>159</td></tr>",
                            "<tr><td>GLE-CLASS</td><td>153</td></tr>",
                            "<tr><td>FORTWO ELECTRIC DRIVE</td><td>145</td></tr>",
                            "<tr><td>Q5</td><td>139</td></tr>",
                            "<tr><td>E-TRON GT</td><td>136</td></tr>",
                            "<tr><td>PANAMERA</td><td>134</td></tr>",
                            "<tr><td>EQE-CLASS SEDAN</td><td>132</td></tr>",
                            "<tr><td>CYBERTRUCK</td><td>128</td></tr>",
                            "<tr><td>OPTIMA</td><td>106</td></tr>",
                            "<tr><td>CORSAIR</td><td>104</td></tr>",
                            "<tr><td>I8</td><td>95</td></tr>",
                            "<tr><td>I5</td><td>94</td></tr>",
                            "<tr><td>B-CLASS</td><td>92</td></tr>",
                            "<tr><td>BLAZER EV</td><td>91</td></tr>",
                            "<tr><td>SILVERADO EV</td><td>87</td></tr>",
                            "<tr><td>SONATA</td><td>76</td></tr>",
                            "<tr><td>ELR</td><td>75</td></tr>",
                            "<tr><td>RX</td><td>74</td></tr>",
                            "<tr><td>CROSSTREK</td><td>69</td></tr>",
                            "<tr><td>FORTWO</td><td>63</td></tr>",
                            "<tr><td>V60</td><td>63</td></tr>",
                            "<tr><td>I-MIEV</td><td>60</td></tr>",
                            "<tr><td>TONALE</td><td>56</td></tr>",
                            "<tr><td>EQ FORTWO</td><td>51</td></tr>",
                            "<tr><td>RAV4</td><td>51</td></tr>",
                            "<tr><td>ROADSTER</td><td>48</td></tr>",
                            "<tr><td>GV70</td><td>46</td></tr>",
                            "<tr><td>I7</td><td>44</td></tr>",
                            "<tr><td>RS E-TRON GT</td><td>42</td></tr>",
                            "<tr><td>RANGE ROVER SPORT</td><td>38</td></tr>",
                            "<tr><td>S90</td><td>34</td></tr>",
                            "<tr><td>740E</td><td>33</td></tr>",
                            "<tr><td>RANGE ROVER</td><td>22</td></tr>",
                            "<tr><td>C-CLASS</td><td>19</td></tr>",
                            "<tr><td>G80</td><td>14</td></tr>",
                            "<tr><td>CT6</td><td>13</td></tr>",
                            "<tr><td>S-CLASS</td><td>13</td></tr>",
                            "<tr><td>A7 E</td><td>13</td></tr>",
                            "<tr><td>RANGER</td><td>13</td></tr>",
                            "<tr><td>SQ8</td><td>12</td></tr>",
                            "<tr><td>PROLOGUE</td><td>12</td></tr>",
                            "<tr><td>745E</td><td>11</td></tr>",
                            "<tr><td>HUMMER EV PICKUP</td><td>11</td></tr>",
                            "<tr><td>KARMA</td><td>11</td></tr>",
                            "<tr><td>XM</td><td>10</td></tr>",
                            "<tr><td>ACCORD</td><td>10</td></tr>",
                            "<tr><td>TRANSIT CONNECT ELECTRIC</td><td>8</td></tr>",
                            "<tr><td>CR-V</td><td>7</td></tr>",
                            "<tr><td>TX</td><td>7</td></tr>",
                            "<tr><td>MX-30</td><td>6</td></tr>",
                            "<tr><td>IONIQ 5 N</td><td>5</td></tr>",
                            "<tr><td>CITY</td><td>5</td></tr>",
                            "<tr><td>A8 E</td><td>3</td></tr>",
                            "<tr><td>WHEEGO</td><td>3</td></tr>",
                            "<tr><td>745LE</td><td>2</td></tr>",
                            "<tr><td>SPECTRE</td><td>2</td></tr>",
                            "<tr><td>PROMASTER 3500</td><td>2</td></tr>",
                            "<tr><td>FLYING SPUR</td><td>2</td></tr>",
                            "<tr><td>BENTAYGA</td><td>1</td></tr>",
                            "<tr><td>918</td><td>1</td></tr>",
                            "<tr><td>S-10 PICKUP</td><td>1</td></tr>",
                            "<tr><td>ZDX</td><td>1</td></tr>",
                            "<tr><td>750E</td><td>1</td></tr>",
                            "</table>"
                        ]
                    }
                }
            ],
            "execution_count": 13
        }
    ]
}