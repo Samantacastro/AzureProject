{
    "metadata": {
        "kernelspec": {
            "name": "SQL",
            "display_name": "SQL",
            "language": "sql"
        },
        "language_info": {
            "name": "sql",
            "version": ""
        }
    },
    "nbformat_minor": 2,
    "nbformat": 4,
    "cells": [
        {
            "cell_type": "markdown",
            "source": [
                "# Electric Vehicle Population in Washington DC"
            ],
            "metadata": {
                "azdata_cell_guid": "0b04b50b-0850-48f2-a203-7f11e9c42bd7"
            },
            "attachments": {}
        },
        {
            "cell_type": "markdown",
            "source": [
                "<span style=\"box-sizing: inherit; padding-left: 0.5rem; font-weight: bold; color: rgb(110, 110, 110); margin-left: 8px;\">Metadata Updated:</span> <span itemprop=\"dateModified\" style=\"box-sizing: inherit; color: rgb(125, 125, 125);\"><a href=\"https://catalog.data.gov/dataset/electric-vehicle-population-data#sec-dates\" style=\"box-sizing: inherit; color: rgb(40, 74, 122); background-color: transparent;\">June 22, 2024</a></span>\n",
                "\n",
                "[This dataset](https:\\catalog.data.gov\\dataset\\electric-vehicle-population-data) shows the Battery Electric Vehicles (BEVs) and Plug-in Hybrid Electric Vehicles (PHEVs) that are currently registered through Washington State Department of Licensing (DOL)."
            ],
            "metadata": {
                "azdata_cell_guid": "8c09fdf5-d70b-4791-a8d5-c064d0e2848a"
            },
            "attachments": {}
        },
        {
            "cell_type": "markdown",
            "source": [
                "## 1. Vehicle by Year"
            ],
            "metadata": {
                "azdata_cell_guid": "517dfb92-7f21-4575-bbca-20b2836c7f4c"
            },
            "attachments": {}
        },
        {
            "cell_type": "markdown",
            "source": [
                "Quantity of Vehicle by Year from 2010 to 2025."
            ],
            "metadata": {
                "azdata_cell_guid": "2fe241d9-8f17-43a9-9ea7-d0cf10b54b01"
            },
            "attachments": {}
        },
        {
            "cell_type": "code",
            "source": [
                "SELECT ModelYear,\r\n",
                "    COUNT(*) AS [Number of Vehicles]\r\n",
                "FROM AzureProject.dbo.EVPopulationWA\r\n",
                "WHERE ModelYear > 2010\r\n",
                "GROUP BY ModelYear\r\n",
                "ORDER BY ModelYear;"
            ],
            "metadata": {
                "azdata_cell_guid": "d57c8b99-3250-451a-b249-5abf95001367",
                "language": "sql",
                "tags": [
                    "hide_input"
                ]
            },
            "outputs": [
                {
                    "output_type": "display_data",
                    "data": {
                        "text/html": "(15 rows affected)"
                    },
                    "metadata": {}
                },
                {
                    "output_type": "display_data",
                    "data": {
                        "text/html": "Total execution time: 00:00:04.067"
                    },
                    "metadata": {}
                },
                {
                    "output_type": "execute_result",
                    "metadata": {
                        "azdata_chartOptions": {
                            "type": "bar",
                            "dataDirection": "horizontal",
                            "columnsAsLabels": true,
                            "labelFirstColumn": true,
                            "legendPosition": "top"
                        }
                    },
                    "execution_count": 6,
                    "data": {
                        "application/vnd.dataresource+json": {
                            "schema": {
                                "fields": [
                                    {
                                        "name": "ModelYear"
                                    },
                                    {
                                        "name": "Number of Vehicles"
                                    }
                                ]
                            },
                            "data": [
                                {
                                    "ModelYear": "2011",
                                    "Number of Vehicles": "736"
                                },
                                {
                                    "ModelYear": "2012",
                                    "Number of Vehicles": "1595"
                                },
                                {
                                    "ModelYear": "2013",
                                    "Number of Vehicles": "4363"
                                },
                                {
                                    "ModelYear": "2014",
                                    "Number of Vehicles": "3533"
                                },
                                {
                                    "ModelYear": "2015",
                                    "Number of Vehicles": "4818"
                                },
                                {
                                    "ModelYear": "2016",
                                    "Number of Vehicles": "5528"
                                },
                                {
                                    "ModelYear": "2017",
                                    "Number of Vehicles": "8650"
                                },
                                {
                                    "ModelYear": "2018",
                                    "Number of Vehicles": "14340"
                                },
                                {
                                    "ModelYear": "2019",
                                    "Number of Vehicles": "10933"
                                },
                                {
                                    "ModelYear": "2020",
                                    "Number of Vehicles": "12149"
                                },
                                {
                                    "ModelYear": "2021",
                                    "Number of Vehicles": "19531"
                                },
                                {
                                    "ModelYear": "2022",
                                    "Number of Vehicles": "28116"
                                },
                                {
                                    "ModelYear": "2023",
                                    "Number of Vehicles": "60084"
                                },
                                {
                                    "ModelYear": "2024",
                                    "Number of Vehicles": "16963"
                                },
                                {
                                    "ModelYear": "2025",
                                    "Number of Vehicles": "6"
                                }
                            ]
                        },
                        "text/html": [
                            "<table>",
                            "<tr><th>ModelYear</th><th>Number of Vehicles</th></tr>",
                            "<tr><td>2011</td><td>736</td></tr>",
                            "<tr><td>2012</td><td>1595</td></tr>",
                            "<tr><td>2013</td><td>4363</td></tr>",
                            "<tr><td>2014</td><td>3533</td></tr>",
                            "<tr><td>2015</td><td>4818</td></tr>",
                            "<tr><td>2016</td><td>5528</td></tr>",
                            "<tr><td>2017</td><td>8650</td></tr>",
                            "<tr><td>2018</td><td>14340</td></tr>",
                            "<tr><td>2019</td><td>10933</td></tr>",
                            "<tr><td>2020</td><td>12149</td></tr>",
                            "<tr><td>2021</td><td>19531</td></tr>",
                            "<tr><td>2022</td><td>28116</td></tr>",
                            "<tr><td>2023</td><td>60084</td></tr>",
                            "<tr><td>2024</td><td>16963</td></tr>",
                            "<tr><td>2025</td><td>6</td></tr>",
                            "</table>"
                        ]
                    }
                }
            ],
            "execution_count": 6
        },
        {
            "cell_type": "markdown",
            "source": [
                "## 2. Top 10 Most Popular Electric  Vehicle Models starting from 2018"
            ],
            "metadata": {
                "language": "sql",
                "azdata_cell_guid": "284aeef0-0e83-4200-bd66-b46a83184c18"
            },
            "attachments": {}
        },
        {
            "cell_type": "markdown",
            "source": [
                "This bar chart highlights the top 10 most popular electric vehicle models after 2018."
            ],
            "metadata": {
                "language": "sql",
                "azdata_cell_guid": "cadc5a76-3c63-4c0c-9a45-af9d0f0af7a9"
            },
            "attachments": {}
        },
        {
            "cell_type": "code",
            "source": [
                ""
            ],
            "metadata": {
                "language": "sql",
                "azdata_cell_guid": "a29fb308-993b-411e-89fc-a41be4381647"
            },
            "outputs": [],
            "execution_count": null
        }
    ]
}