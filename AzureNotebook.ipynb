{
    "metadata": {
        "kernelspec": {
            "name": "SQL",
            "display_name": "SQL",
            "language": "sql"
        },
        "language_info": {
            "name": "sql",
            "version": ""
        }
    },
    "nbformat_minor": 2,
    "nbformat": 4,
    "cells": [
        {
            "cell_type": "markdown",
            "source": [
                "# **<u>Electric Vehicle Population in Washington DC</u>**"
            ],
            "metadata": {
                "azdata_cell_guid": "0b04b50b-0850-48f2-a203-7f11e9c42bd7"
            },
            "attachments": {}
        },
        {
            "cell_type": "markdown",
            "source": [
                "<span style=\"box-sizing: inherit; padding-left: 0.5rem; font-weight: bold; color: rgb(110, 110, 110); margin-left: 8px;\">Metadata Updated:</span> <span itemprop=\"dateModified\" style=\"box-sizing: inherit; color: rgb(125, 125, 125);\"><a href=\"https://catalog.data.gov/dataset/electric-vehicle-population-data#sec-dates\" style=\"box-sizing: inherit; color: rgb(40, 74, 122); background-color: transparent;\">June 22, 2024</a></span>\n",
                "\n",
                "[This dataset](https:\\catalog.data.gov\\dataset\\electric-vehicle-population-data) shows the Battery Electric Vehicles (BEVs) and Plug-in Hybrid Electric Vehicles (PHEVs) that are currently registered through Washington State Department of Licensing (DOL)."
            ],
            "metadata": {
                "azdata_cell_guid": "8c09fdf5-d70b-4791-a8d5-c064d0e2848a"
            },
            "attachments": {}
        },
        {
            "cell_type": "markdown",
            "source": [
                "# 1\\. Vehicles by Year"
            ],
            "metadata": {
                "azdata_cell_guid": "517dfb92-7f21-4575-bbca-20b2836c7f4c"
            },
            "attachments": {}
        },
        {
            "cell_type": "markdown",
            "source": [
                "Quantity of vehicles by year from 2010 to 2025 - visualization reflects the biggest quantity in 2023 with a total of 60,084 vehicles."
            ],
            "metadata": {
                "azdata_cell_guid": "2fe241d9-8f17-43a9-9ea7-d0cf10b54b01"
            },
            "attachments": {}
        },
        {
            "cell_type": "code",
            "source": [
                "SELECT ModelYear,\r\n",
                "    COUNT(*) AS [Number of Vehicles by Year]\r\n",
                "FROM AzureProject.dbo.EVPopulationWA\r\n",
                "WHERE ModelYear > 2016\r\n",
                "GROUP BY ModelYear\r\n",
                "ORDER BY ModelYear;"
            ],
            "metadata": {
                "azdata_cell_guid": "d57c8b99-3250-451a-b249-5abf95001367",
                "language": "sql",
                "tags": []
            },
            "outputs": [
                {
                    "output_type": "display_data",
                    "data": {
                        "text/html": "(9 rows affected)"
                    },
                    "metadata": {}
                },
                {
                    "output_type": "display_data",
                    "data": {
                        "text/html": "Total execution time: 00:00:01.970"
                    },
                    "metadata": {}
                },
                {
                    "output_type": "execute_result",
                    "metadata": {
                        "azdata_chartOptions": {
                            "type": "bar",
                            "dataDirection": "horizontal",
                            "columnsAsLabels": true,
                            "labelFirstColumn": true,
                            "legendPosition": "top"
                        }
                    },
                    "execution_count": 6,
                    "data": {
                        "application/vnd.dataresource+json": {
                            "schema": {
                                "fields": [
                                    {
                                        "name": "ModelYear"
                                    },
                                    {
                                        "name": "Number of Vehicles by Year"
                                    }
                                ]
                            },
                            "data": [
                                {
                                    "ModelYear": "2017",
                                    "Number of Vehicles by Year": "8650"
                                },
                                {
                                    "ModelYear": "2018",
                                    "Number of Vehicles by Year": "14340"
                                },
                                {
                                    "ModelYear": "2019",
                                    "Number of Vehicles by Year": "10933"
                                },
                                {
                                    "ModelYear": "2020",
                                    "Number of Vehicles by Year": "12149"
                                },
                                {
                                    "ModelYear": "2021",
                                    "Number of Vehicles by Year": "19531"
                                },
                                {
                                    "ModelYear": "2022",
                                    "Number of Vehicles by Year": "28116"
                                },
                                {
                                    "ModelYear": "2023",
                                    "Number of Vehicles by Year": "60084"
                                },
                                {
                                    "ModelYear": "2024",
                                    "Number of Vehicles by Year": "16963"
                                },
                                {
                                    "ModelYear": "2025",
                                    "Number of Vehicles by Year": "6"
                                }
                            ]
                        },
                        "text/html": [
                            "<table>",
                            "<tr><th>ModelYear</th><th>Number of Vehicles by Year</th></tr>",
                            "<tr><td>2017</td><td>8650</td></tr>",
                            "<tr><td>2018</td><td>14340</td></tr>",
                            "<tr><td>2019</td><td>10933</td></tr>",
                            "<tr><td>2020</td><td>12149</td></tr>",
                            "<tr><td>2021</td><td>19531</td></tr>",
                            "<tr><td>2022</td><td>28116</td></tr>",
                            "<tr><td>2023</td><td>60084</td></tr>",
                            "<tr><td>2024</td><td>16963</td></tr>",
                            "<tr><td>2025</td><td>6</td></tr>",
                            "</table>"
                        ]
                    }
                }
            ],
            "execution_count": 6
        },
        {
            "cell_type": "markdown",
            "source": [
                "# 2\\. Most Popular Electric Vehicle Models"
            ],
            "metadata": {
                "language": "sql",
                "azdata_cell_guid": "284aeef0-0e83-4200-bd66-b46a83184c18"
            },
            "attachments": {}
        },
        {
            "cell_type": "markdown",
            "source": [
                "This bar chart highlights the most popular electric vehicle models - this reflects Tesla model Y being the most popular one."
            ],
            "metadata": {
                "language": "sql",
                "azdata_cell_guid": "cadc5a76-3c63-4c0c-9a45-af9d0f0af7a9"
            },
            "attachments": {}
        },
        {
            "cell_type": "code",
            "source": [
                "SELECT Model,\r\n",
                "       COUNT(*) AS VehicleTypes\r\n",
                "FROM AzureProject.dbo.EVPopulationWA\r\n",
                "GROUP BY Model\r\n",
                "HAVING COUNT(*) > 2000\r\n",
                "ORDER BY VehicleTypes DESC"
            ],
            "metadata": {
                "language": "sql",
                "azdata_cell_guid": "a29fb308-993b-411e-89fc-a41be4381647",
                "tags": []
            },
            "outputs": [
                {
                    "output_type": "display_data",
                    "data": {
                        "text/html": "(19 rows affected)"
                    },
                    "metadata": {}
                },
                {
                    "output_type": "display_data",
                    "data": {
                        "text/html": "Total execution time: 00:00:00.112"
                    },
                    "metadata": {}
                },
                {
                    "output_type": "execute_result",
                    "metadata": {
                        "azdata_chartOptions": {
                            "type": "bar",
                            "dataDirection": "horizontal",
                            "columnsAsLabels": true,
                            "labelFirstColumn": true,
                            "legendPosition": "bottom"
                        }
                    },
                    "execution_count": 15,
                    "data": {
                        "application/vnd.dataresource+json": {
                            "schema": {
                                "fields": [
                                    {
                                        "name": "Model"
                                    },
                                    {
                                        "name": "VehicleTypes"
                                    }
                                ]
                            },
                            "data": [
                                {
                                    "Model": "MODEL Y",
                                    "VehicleTypes": "39521"
                                },
                                {
                                    "Model": "MODEL 3",
                                    "VehicleTypes": "30978"
                                },
                                {
                                    "Model": "LEAF",
                                    "VehicleTypes": "13439"
                                },
                                {
                                    "Model": "MODEL S",
                                    "VehicleTypes": "7869"
                                },
                                {
                                    "Model": "BOLT EV",
                                    "VehicleTypes": "6444"
                                },
                                {
                                    "Model": "MODEL X",
                                    "VehicleTypes": "6126"
                                },
                                {
                                    "Model": "VOLT",
                                    "VehicleTypes": "4801"
                                },
                                {
                                    "Model": "ID.4",
                                    "VehicleTypes": "4337"
                                },
                                {
                                    "Model": "MUSTANG MACH-E",
                                    "VehicleTypes": "3758"
                                },
                                {
                                    "Model": "WRANGLER",
                                    "VehicleTypes": "3743"
                                },
                                {
                                    "Model": "PACIFICA",
                                    "VehicleTypes": "3393"
                                },
                                {
                                    "Model": "NIRO",
                                    "VehicleTypes": "3358"
                                },
                                {
                                    "Model": "PRIUS PRIME",
                                    "VehicleTypes": "2985"
                                },
                                {
                                    "Model": "IONIQ 5",
                                    "VehicleTypes": "2747"
                                },
                                {
                                    "Model": "BOLT EUV",
                                    "VehicleTypes": "2650"
                                },
                                {
                                    "Model": "RAV4 PRIME",
                                    "VehicleTypes": "2596"
                                },
                                {
                                    "Model": "X5",
                                    "VehicleTypes": "2456"
                                },
                                {
                                    "Model": "R1S",
                                    "VehicleTypes": "2453"
                                },
                                {
                                    "Model": "EV6",
                                    "VehicleTypes": "2378"
                                }
                            ]
                        },
                        "text/html": [
                            "<table>",
                            "<tr><th>Model</th><th>VehicleTypes</th></tr>",
                            "<tr><td>MODEL Y</td><td>39521</td></tr>",
                            "<tr><td>MODEL 3</td><td>30978</td></tr>",
                            "<tr><td>LEAF</td><td>13439</td></tr>",
                            "<tr><td>MODEL S</td><td>7869</td></tr>",
                            "<tr><td>BOLT EV</td><td>6444</td></tr>",
                            "<tr><td>MODEL X</td><td>6126</td></tr>",
                            "<tr><td>VOLT</td><td>4801</td></tr>",
                            "<tr><td>ID.4</td><td>4337</td></tr>",
                            "<tr><td>MUSTANG MACH-E</td><td>3758</td></tr>",
                            "<tr><td>WRANGLER</td><td>3743</td></tr>",
                            "<tr><td>PACIFICA</td><td>3393</td></tr>",
                            "<tr><td>NIRO</td><td>3358</td></tr>",
                            "<tr><td>PRIUS PRIME</td><td>2985</td></tr>",
                            "<tr><td>IONIQ 5</td><td>2747</td></tr>",
                            "<tr><td>BOLT EUV</td><td>2650</td></tr>",
                            "<tr><td>RAV4 PRIME</td><td>2596</td></tr>",
                            "<tr><td>X5</td><td>2456</td></tr>",
                            "<tr><td>R1S</td><td>2453</td></tr>",
                            "<tr><td>EV6</td><td>2378</td></tr>",
                            "</table>"
                        ]
                    }
                }
            ],
            "execution_count": 15
        },
        {
            "cell_type": "markdown",
            "source": [
                "# 3\\. Distribution of Electric Vehicle by County\r\n",
                ""
            ],
            "metadata": {
                "language": "sql",
                "azdata_cell_guid": "2574168a-fd59-414e-9085-7ff6b3663322"
            },
            "attachments": {}
        },
        {
            "cell_type": "markdown",
            "source": [
                "<span style=\"color: rgb(34, 34, 34); font-family: Arial, Helvetica, sans-serif; font-size: small; background-color: rgb(255, 255, 255);\">Visualization displays the distribution of electric vehicles across different counties, showing Seattle with the highest amount.</span>"
            ],
            "metadata": {
                "language": "sql",
                "azdata_cell_guid": "de1f5448-8deb-4f39-9e56-f074214526a9"
            },
            "attachments": {}
        },
        {
            "cell_type": "code",
            "source": [
                "SELECT City,\r\n",
                "       COUNT(*) AS NumberOfVehicles\r\n",
                "FROM AzureProject.dbo.EVPopulationWA\r\n",
                "GROUP BY City\r\n",
                "HAVING COUNT(*) > 5000\r\n",
                "ORDER BY NumberOfVehicles DESC;"
            ],
            "metadata": {
                "language": "sql",
                "azdata_cell_guid": "18b26442-923e-4b94-ba4d-4ccb85fa0009",
                "tags": []
            },
            "outputs": [
                {
                    "output_type": "display_data",
                    "data": {
                        "text/html": "(8 rows affected)"
                    },
                    "metadata": {}
                },
                {
                    "output_type": "display_data",
                    "data": {
                        "text/html": "Total execution time: 00:00:04.313"
                    },
                    "metadata": {}
                },
                {
                    "output_type": "execute_result",
                    "metadata": {
                        "azdata_chartOptions": {
                            "type": "bar",
                            "dataDirection": "vertical",
                            "columnsAsLabels": true,
                            "labelFirstColumn": true,
                            "legendPosition": "bottom",
                            "dataType": "number"
                        }
                    },
                    "execution_count": 3,
                    "data": {
                        "application/vnd.dataresource+json": {
                            "schema": {
                                "fields": [
                                    {
                                        "name": "City"
                                    },
                                    {
                                        "name": "NumberOfVehicles"
                                    }
                                ]
                            },
                            "data": [
                                {
                                    "City": "Seattle",
                                    "NumberOfVehicles": "31436"
                                },
                                {
                                    "City": "Bellevue",
                                    "NumberOfVehicles": "9582"
                                },
                                {
                                    "City": "Redmond",
                                    "NumberOfVehicles": "6883"
                                },
                                {
                                    "City": "Vancouver",
                                    "NumberOfVehicles": "6744"
                                },
                                {
                                    "City": "Bothell",
                                    "NumberOfVehicles": "6278"
                                },
                                {
                                    "City": "Kirkland",
                                    "NumberOfVehicles": "5709"
                                },
                                {
                                    "City": "Sammamish",
                                    "NumberOfVehicles": "5595"
                                },
                                {
                                    "City": "Renton",
                                    "NumberOfVehicles": "5584"
                                }
                            ]
                        },
                        "text/html": [
                            "<table>",
                            "<tr><th>City</th><th>NumberOfVehicles</th></tr>",
                            "<tr><td>Seattle</td><td>31436</td></tr>",
                            "<tr><td>Bellevue</td><td>9582</td></tr>",
                            "<tr><td>Redmond</td><td>6883</td></tr>",
                            "<tr><td>Vancouver</td><td>6744</td></tr>",
                            "<tr><td>Bothell</td><td>6278</td></tr>",
                            "<tr><td>Kirkland</td><td>5709</td></tr>",
                            "<tr><td>Sammamish</td><td>5595</td></tr>",
                            "<tr><td>Renton</td><td>5584</td></tr>",
                            "</table>"
                        ]
                    }
                }
            ],
            "execution_count": 3
        },
        {
            "cell_type": "markdown",
            "source": [
                "# <span style=\"color: var(--vscode-foreground);\">4. Electric Vehicle Types (BEVs vs. PHEVs)</span>"
            ],
            "metadata": {
                "language": "sql",
                "azdata_cell_guid": "1693c269-26bd-4a39-9e0b-e9c5765c8713"
            },
            "attachments": {}
        },
        {
            "cell_type": "markdown",
            "source": [
                "This chart compares the number of Battery Electric Vehicles (BEVs) to Plug-in Hybrid Electric Vehicles (PHEVs), illustrating the proportions of each type in the overall population - Battery Electric Vehicles being the highest."
            ],
            "metadata": {
                "language": "sql",
                "azdata_cell_guid": "a3fe761b-6e8d-419d-a924-c018f68a2f76"
            },
            "attachments": {}
        },
        {
            "cell_type": "code",
            "source": [
                "SELECT EVType,\r\n",
                "       COUNT(*) AS NumberOfVehicles\r\n",
                "FROM AzureProject.dbo.EVPopulationWA\r\n",
                "GROUP BY EVType;"
            ],
            "metadata": {
                "language": "sql",
                "azdata_cell_guid": "94e9c27e-eb56-4e2b-8d5c-d79c0c42699e"
            },
            "outputs": [
                {
                    "output_type": "display_data",
                    "data": {
                        "text/html": "(2 rows affected)"
                    },
                    "metadata": {}
                },
                {
                    "output_type": "display_data",
                    "data": {
                        "text/html": "Total execution time: 00:00:04.373"
                    },
                    "metadata": {}
                },
                {
                    "output_type": "execute_result",
                    "metadata": {
                        "azdata_chartOptions": {
                            "type": "horizontalBar",
                            "dataDirection": "horizontal",
                            "columnsAsLabels": true,
                            "labelFirstColumn": true,
                            "legendPosition": "top",
                            "encoding": "hex",
                            "imageFormat": "jpeg",
                            "dataType": "number"
                        }
                    },
                    "execution_count": 4,
                    "data": {
                        "application/vnd.dataresource+json": {
                            "schema": {
                                "fields": [
                                    {
                                        "name": "EVType"
                                    },
                                    {
                                        "name": "NumberOfVehicles"
                                    }
                                ]
                            },
                            "data": [
                                {
                                    "EVType": "Plug-in Hybrid Electric Vehicle (PHEV)",
                                    "NumberOfVehicles": "41720"
                                },
                                {
                                    "EVType": "Battery Electric Vehicle (BEV)",
                                    "NumberOfVehicles": "149687"
                                }
                            ]
                        },
                        "text/html": [
                            "<table>",
                            "<tr><th>EVType</th><th>NumberOfVehicles</th></tr>",
                            "<tr><td>Plug-in Hybrid Electric Vehicle (PHEV)</td><td>41720</td></tr>",
                            "<tr><td>Battery Electric Vehicle (BEV)</td><td>149687</td></tr>",
                            "</table>"
                        ]
                    }
                }
            ],
            "execution_count": 4
        },
        {
            "cell_type": "markdown",
            "source": [
                "# 5. Avarage Electric Vehicle Age by County"
            ],
            "metadata": {
                "language": "sql",
                "azdata_cell_guid": "6b0a26f7-9fe6-4174-8cea-67df41139cfb"
            },
            "attachments": {}
        },
        {
            "cell_type": "code",
            "source": [
                "SELECT \r\n",
                "    Make,\r\n",
                "    COUNT(*) AS VehicleCount\r\n",
                "FROM \r\n",
                "     AzureProject.dbo.EVPopulationWA\r\n",
                "WHERE \r\n",
                "    RegistrationState = 'WA' \r\n",
                "    AND (EVType = 'BEV' OR EVType = 'PHEV')\r\n",
                "GROUP BY \r\n",
                "    Make\r\n",
                "ORDER BY \r\n",
                "    VehicleCount DESC\r\n",
                "LIMIT 10; -- Top 10 manufacturers by vehicle count\r\n",
                "\r\n",
                ""
            ],
            "metadata": {
                "language": "sql",
                "azdata_cell_guid": "357969c5-8591-4427-998d-36c3cbba13ab",
                "tags": []
            },
            "outputs": [
                {
                    "output_type": "error",
                    "evalue": "Msg 102, Level 15, State 1, Line 13\r\nIncorrect syntax near 'LIMIT'.",
                    "ename": "",
                    "traceback": []
                },
                {
                    "output_type": "display_data",
                    "data": {
                        "text/html": "Total execution time: 00:00:00.007"
                    },
                    "metadata": {}
                }
            ],
            "execution_count": 5
        }
    ]
}